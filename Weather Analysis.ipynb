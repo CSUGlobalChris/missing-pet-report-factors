{
 "cells": [
  {
   "cell_type": "markdown",
   "metadata": {},
   "source": [
    "## Analysis of Missing Pet Reports and Weather in Central Ohio"
   ]
  },
  {
   "cell_type": "code",
   "execution_count": 33,
   "metadata": {},
   "outputs": [],
   "source": [
    "import pandas as pd\n",
    "import duckdb\n",
    "\n",
    "import plotly.express as px\n",
    "\n",
    "import numpy as np\n",
    "import statsmodels.api as sm"
   ]
  },
  {
   "cell_type": "markdown",
   "metadata": {},
   "source": [
    "### Load and prepare weather data"
   ]
  },
  {
   "cell_type": "code",
   "execution_count": 34,
   "metadata": {},
   "outputs": [],
   "source": [
    "weather_data = pd.read_csv('./data/GHCND_USW00004804.csv', index_col='DATE', parse_dates=True).loc[:, ['TMAX', 'PRCP']]\n",
    "weekly_weather_data = weather_data.groupby(pd.Grouper(freq='7D')).mean()\n",
    "weekly_weather_data['week'] = weekly_weather_data.index"
   ]
  },
  {
   "cell_type": "markdown",
   "metadata": {},
   "source": [
    "### Load and prepare report data"
   ]
  },
  {
   "cell_type": "code",
   "execution_count": 35,
   "metadata": {},
   "outputs": [],
   "source": [
    "daily_report_data = pd.read_csv('./data/daily_report_counts_central_oh.csv', index_col='event_date', parse_dates=True)\n",
    "weekly_report_data = daily_report_data.groupby(pd.Grouper(freq='7D')).sum()\n",
    "weekly_report_data['rolling_avg'] = weekly_report_data['reports'].rolling(5, center=True).mean()\n",
    "weekly_report_data['week'] = weekly_report_data.index"
   ]
  },
  {
   "cell_type": "markdown",
   "metadata": {},
   "source": [
    "### Load and prepare firework event data"
   ]
  },
  {
   "cell_type": "code",
   "execution_count": 36,
   "metadata": {},
   "outputs": [],
   "source": [
    "firework_event_weeks = pd.read_csv('./data/firework_event_weeks.csv', index_col='event_week', parse_dates=True)\n",
    "firework_event_weeks['week'] = firework_event_weeks.index"
   ]
  },
  {
   "cell_type": "markdown",
   "metadata": {},
   "source": [
    "### Combine data and create features"
   ]
  },
  {
   "cell_type": "code",
   "execution_count": 37,
   "metadata": {},
   "outputs": [
    {
     "data": {
      "text/html": [
       "<div>\n",
       "<style scoped>\n",
       "    .dataframe tbody tr th:only-of-type {\n",
       "        vertical-align: middle;\n",
       "    }\n",
       "\n",
       "    .dataframe tbody tr th {\n",
       "        vertical-align: top;\n",
       "    }\n",
       "\n",
       "    .dataframe thead th {\n",
       "        text-align: right;\n",
       "    }\n",
       "</style>\n",
       "<table border=\"1\" class=\"dataframe\">\n",
       "  <thead>\n",
       "    <tr style=\"text-align: right;\">\n",
       "      <th></th>\n",
       "      <th>week</th>\n",
       "      <th>year</th>\n",
       "      <th>reports</th>\n",
       "      <th>smoothed_reports</th>\n",
       "      <th>log_reports</th>\n",
       "      <th>TMAX</th>\n",
       "      <th>PRCP</th>\n",
       "      <th>rolling_avg</th>\n",
       "    </tr>\n",
       "  </thead>\n",
       "  <tbody>\n",
       "    <tr>\n",
       "      <th>0</th>\n",
       "      <td>2019-01-06</td>\n",
       "      <td>2019</td>\n",
       "      <td>130</td>\n",
       "      <td>130.0</td>\n",
       "      <td>2.113943</td>\n",
       "      <td>41.571429</td>\n",
       "      <td>0.027143</td>\n",
       "      <td>121.6</td>\n",
       "    </tr>\n",
       "    <tr>\n",
       "      <th>1</th>\n",
       "      <td>2019-01-13</td>\n",
       "      <td>2019</td>\n",
       "      <td>95</td>\n",
       "      <td>95.0</td>\n",
       "      <td>1.977724</td>\n",
       "      <td>32.142857</td>\n",
       "      <td>0.071429</td>\n",
       "      <td>111.2</td>\n",
       "    </tr>\n",
       "    <tr>\n",
       "      <th>2</th>\n",
       "      <td>2019-01-20</td>\n",
       "      <td>2019</td>\n",
       "      <td>96</td>\n",
       "      <td>96.0</td>\n",
       "      <td>1.982271</td>\n",
       "      <td>29.857143</td>\n",
       "      <td>0.077143</td>\n",
       "      <td>102.4</td>\n",
       "    </tr>\n",
       "    <tr>\n",
       "      <th>3</th>\n",
       "      <td>2019-01-27</td>\n",
       "      <td>2019</td>\n",
       "      <td>81</td>\n",
       "      <td>81.0</td>\n",
       "      <td>1.908485</td>\n",
       "      <td>26.142857</td>\n",
       "      <td>0.021429</td>\n",
       "      <td>100.0</td>\n",
       "    </tr>\n",
       "    <tr>\n",
       "      <th>4</th>\n",
       "      <td>2019-02-03</td>\n",
       "      <td>2019</td>\n",
       "      <td>110</td>\n",
       "      <td>110.0</td>\n",
       "      <td>2.041393</td>\n",
       "      <td>49.571429</td>\n",
       "      <td>0.270000</td>\n",
       "      <td>101.8</td>\n",
       "    </tr>\n",
       "  </tbody>\n",
       "</table>\n",
       "</div>"
      ],
      "text/plain": [
       "        week  year  reports  smoothed_reports  log_reports       TMAX  \\\n",
       "0 2019-01-06  2019      130             130.0     2.113943  41.571429   \n",
       "1 2019-01-13  2019       95              95.0     1.977724  32.142857   \n",
       "2 2019-01-20  2019       96              96.0     1.982271  29.857143   \n",
       "3 2019-01-27  2019       81              81.0     1.908485  26.142857   \n",
       "4 2019-02-03  2019      110             110.0     2.041393  49.571429   \n",
       "\n",
       "       PRCP  rolling_avg  \n",
       "0  0.027143        121.6  \n",
       "1  0.071429        111.2  \n",
       "2  0.077143        102.4  \n",
       "3  0.021429        100.0  \n",
       "4  0.270000        101.8  "
      ]
     },
     "execution_count": 37,
     "metadata": {},
     "output_type": "execute_result"
    }
   ],
   "source": [
    "weekly_summary = duckdb.query('''\n",
    "  select\n",
    "    r.week,\n",
    "    cast(year(r.week) as varchar) as year,\n",
    "    r.reports,\n",
    "    case when f.is_event = 1 then r.rolling_avg\n",
    "      else r.reports\n",
    "    end as smoothed_reports,\n",
    "    log10(r.reports) as log_reports,\n",
    "    w.TMAX,\n",
    "    w.PRCP,\n",
    "    r.rolling_avg\n",
    "  from weekly_report_data r\n",
    "  join weekly_weather_data w\n",
    "    on w.week = r.week\n",
    "  left join firework_event_weeks f\n",
    "    on f.week = r.week\n",
    "  where r.rolling_avg is not null\n",
    "    and year(r.week) between 2019 and 2022\n",
    "  order by r.week\n",
    "''').df()\n",
    "weekly_summary.set_index('week')\n",
    "weekly_summary.head()"
   ]
  },
  {
   "cell_type": "markdown",
   "metadata": {},
   "source": [
    "### Plot data distributions and trends"
   ]
  },
  {
   "cell_type": "code",
   "execution_count": 38,
   "metadata": {},
   "outputs": [
    {
     "data": {
      "application/vnd.plotly.v1+json": {
       "config": {
        "plotlyServerURL": "https://plot.ly"
       },
       "data": [
        {
         "hovertemplate": "Averge Max Temperature=%{x}<br>Missing Pet Report Volume=%{y}<extra></extra>",
         "legendgroup": "",
         "marker": {
          "color": "#636efa",
          "symbol": "circle"
         },
         "mode": "markers",
         "name": "",
         "orientation": "v",
         "showlegend": false,
         "type": "scatter",
         "x": [
          41.57142857142857,
          32.142857142857146,
          29.857142857142858,
          26.142857142857142,
          49.57142857142857,
          40.57142857142857,
          39,
          42.57142857142857,
          31.714285714285715,
          54.42857142857143,
          48.142857142857146,
          56.714285714285715,
          54.285714285714285,
          69.85714285714286,
          66.57142857142857,
          63.285714285714285,
          67.28571428571429,
          72,
          70.28571428571429,
          78.28571428571429,
          81.14285714285714,
          77,
          74.85714285714286,
          79,
          86.28571428571429,
          89.57142857142857,
          87.14285714285714,
          90,
          82.42857142857143,
          86.14285714285714,
          86.71428571428571,
          85,
          84.71428571428571,
          77.71428571428571,
          79.14285714285714,
          86.42857142857143,
          84.57142857142857,
          82.42857142857143,
          83.28571428571429,
          70.14285714285714,
          63.857142857142854,
          65.57142857142857,
          57.42857142857143,
          47.57142857142857,
          40.857142857142854,
          49.42857142857143,
          47.57142857142857,
          43.42857142857143,
          45.714285714285715,
          35.42857142857143,
          54.833333333333336,
          48.857142857142854,
          49.42857142857143,
          46.142857142857146,
          35.857142857142854,
          35.42857142857143,
          45.285714285714285,
          36.714285714285715,
          41.57142857142857,
          39,
          50.857142857142854,
          57,
          52.42857142857143,
          57.57142857142857,
          58.857142857142854,
          60.42857142857143,
          52.42857142857143,
          60.42857142857143,
          64,
          59.714285714285715,
          66,
          70.28571428571429,
          82.71428571428571,
          81.28571428571429,
          82.28571428571429,
          80.71428571428571,
          83.28571428571429,
          88.71428571428571,
          91.71428571428571,
          88,
          88,
          87.85714285714286,
          79.28571428571429,
          87.85714285714286,
          83,
          88.71428571428571,
          81.57142857142857,
          83.42857142857143,
          72.85714285714286,
          75.85714285714286,
          67.28571428571429,
          70.85714285714286,
          66.71428571428571,
          63.42857142857143,
          50.57142857142857,
          63.285714285714285,
          64.85714285714286,
          53.285714285714285,
          49.42857142857143,
          41.857142857142854,
          48.142857142857146,
          37.142857142857146,
          40.142857142857146,
          44.57142857142857,
          37.57142857142857,
          39,
          37.142857142857146,
          33.42857142857143,
          33,
          25.833333333333332,
          25.428571428571427,
          45.142857142857146,
          49,
          60.714285714285715,
          54.142857142857146,
          69.28571428571429,
          56.857142857142854,
          76.71428571428571,
          59.714285714285715,
          57.857142857142854,
          70.85714285714286,
          66.85714285714286,
          63.42857142857143,
          81.42857142857143,
          79,
          77,
          85.28571428571429,
          83.71428571428571,
          83,
          86.14285714285714,
          86,
          84.28571428571429,
          83.42857142857143,
          86.57142857142857,
          83.28571428571429,
          88.28571428571429,
          83.57142857142857,
          90.71428571428571,
          81.71428571428571,
          81,
          86.42857142857143,
          73.71428571428571,
          79,
          78.14285714285714,
          78.71428571428571,
          67,
          61,
          53.285714285714285,
          62,
          50.857142857142854,
          44.142857142857146,
          49.714285714285715,
          50.57142857142857,
          53.42857142857143,
          47.42857142857143,
          54.42857142857143,
          34.142857142857146,
          37,
          32,
          28.571428571428573,
          35,
          40.42857142857143,
          39,
          47.42857142857143,
          56.57142857142857,
          52,
          64.57142857142857,
          57.42857142857143,
          52.42857142857143,
          53.857142857142854,
          65.14285714285714,
          61.142857142857146,
          66,
          68,
          80.71428571428571,
          80.28571428571429,
          73.71428571428571,
          84.14285714285714,
          79.71428571428571,
          89.71428571428571,
          88.14285714285714,
          88,
          85.71428571428571,
          86.28571428571429,
          86.42857142857143,
          84,
          87,
          83.71428571428571,
          81.85714285714286,
          83.14285714285714,
          86,
          81.57142857142857,
          79.28571428571429,
          79.57142857142857,
          66.85714285714286,
          68.71428571428571,
          68.14285714285714,
          60.142857142857146,
          69.71428571428571,
          69.14285714285714,
          64.42857142857143,
          38.42857142857143,
          53,
          52.57142857142857,
          48.142857142857146,
          43.142857142857146,
          32.714285714285715,
          42.285714285714285
         ],
         "xaxis": "x",
         "y": [
          130,
          95,
          96,
          81,
          110,
          118,
          104,
          121,
          121,
          114,
          147,
          145,
          154,
          177,
          191,
          176,
          159,
          166,
          172,
          182,
          193,
          165,
          176,
          175,
          162,
          189,
          174,
          177,
          193,
          186,
          194,
          154,
          150,
          182,
          178,
          171,
          151,
          207,
          178,
          182,
          196,
          184,
          199,
          175,
          166,
          141,
          149,
          147,
          123,
          139,
          149,
          142,
          147,
          149,
          142,
          117,
          112,
          112,
          146,
          98,
          159,
          151,
          157,
          131,
          161,
          183,
          130,
          163,
          160,
          166,
          169,
          179,
          169,
          213,
          205,
          160,
          209,
          190.6,
          154,
          182,
          164,
          170,
          155,
          157,
          184,
          159,
          151,
          160,
          199,
          173,
          183,
          190,
          192,
          174,
          161,
          177,
          156,
          148,
          136,
          121,
          118,
          99,
          129,
          126.6,
          127,
          161,
          164,
          179,
          129,
          138,
          114,
          180,
          204,
          223,
          197,
          234,
          224,
          244,
          219,
          223,
          243,
          216,
          260,
          274,
          214,
          218,
          224,
          242,
          251,
          261.6,
          259.4,
          250,
          231,
          212,
          247,
          233,
          201,
          203,
          230,
          250,
          205,
          230,
          274,
          228,
          230,
          259,
          232,
          275,
          267,
          235,
          206,
          238,
          224,
          178,
          226,
          179.4,
          128,
          158,
          113,
          87,
          143,
          176,
          206,
          207,
          225,
          213,
          222,
          231,
          226,
          237,
          209,
          213,
          239,
          231,
          238,
          257,
          257,
          273,
          245,
          232,
          256,
          286,
          258.2,
          275,
          199,
          278,
          278,
          248,
          278,
          252,
          259,
          264,
          277,
          279,
          267,
          293,
          276,
          248,
          267,
          250,
          243,
          225,
          227,
          250,
          223,
          256,
          237,
          227.2
         ],
         "yaxis": "y"
        }
       ],
       "layout": {
        "legend": {
         "tracegroupgap": 0
        },
        "template": {
         "data": {
          "bar": [
           {
            "error_x": {
             "color": "#2a3f5f"
            },
            "error_y": {
             "color": "#2a3f5f"
            },
            "marker": {
             "line": {
              "color": "#E5ECF6",
              "width": 0.5
             },
             "pattern": {
              "fillmode": "overlay",
              "size": 10,
              "solidity": 0.2
             }
            },
            "type": "bar"
           }
          ],
          "barpolar": [
           {
            "marker": {
             "line": {
              "color": "#E5ECF6",
              "width": 0.5
             },
             "pattern": {
              "fillmode": "overlay",
              "size": 10,
              "solidity": 0.2
             }
            },
            "type": "barpolar"
           }
          ],
          "carpet": [
           {
            "aaxis": {
             "endlinecolor": "#2a3f5f",
             "gridcolor": "white",
             "linecolor": "white",
             "minorgridcolor": "white",
             "startlinecolor": "#2a3f5f"
            },
            "baxis": {
             "endlinecolor": "#2a3f5f",
             "gridcolor": "white",
             "linecolor": "white",
             "minorgridcolor": "white",
             "startlinecolor": "#2a3f5f"
            },
            "type": "carpet"
           }
          ],
          "choropleth": [
           {
            "colorbar": {
             "outlinewidth": 0,
             "ticks": ""
            },
            "type": "choropleth"
           }
          ],
          "contour": [
           {
            "colorbar": {
             "outlinewidth": 0,
             "ticks": ""
            },
            "colorscale": [
             [
              0,
              "#0d0887"
             ],
             [
              0.1111111111111111,
              "#46039f"
             ],
             [
              0.2222222222222222,
              "#7201a8"
             ],
             [
              0.3333333333333333,
              "#9c179e"
             ],
             [
              0.4444444444444444,
              "#bd3786"
             ],
             [
              0.5555555555555556,
              "#d8576b"
             ],
             [
              0.6666666666666666,
              "#ed7953"
             ],
             [
              0.7777777777777778,
              "#fb9f3a"
             ],
             [
              0.8888888888888888,
              "#fdca26"
             ],
             [
              1,
              "#f0f921"
             ]
            ],
            "type": "contour"
           }
          ],
          "contourcarpet": [
           {
            "colorbar": {
             "outlinewidth": 0,
             "ticks": ""
            },
            "type": "contourcarpet"
           }
          ],
          "heatmap": [
           {
            "colorbar": {
             "outlinewidth": 0,
             "ticks": ""
            },
            "colorscale": [
             [
              0,
              "#0d0887"
             ],
             [
              0.1111111111111111,
              "#46039f"
             ],
             [
              0.2222222222222222,
              "#7201a8"
             ],
             [
              0.3333333333333333,
              "#9c179e"
             ],
             [
              0.4444444444444444,
              "#bd3786"
             ],
             [
              0.5555555555555556,
              "#d8576b"
             ],
             [
              0.6666666666666666,
              "#ed7953"
             ],
             [
              0.7777777777777778,
              "#fb9f3a"
             ],
             [
              0.8888888888888888,
              "#fdca26"
             ],
             [
              1,
              "#f0f921"
             ]
            ],
            "type": "heatmap"
           }
          ],
          "heatmapgl": [
           {
            "colorbar": {
             "outlinewidth": 0,
             "ticks": ""
            },
            "colorscale": [
             [
              0,
              "#0d0887"
             ],
             [
              0.1111111111111111,
              "#46039f"
             ],
             [
              0.2222222222222222,
              "#7201a8"
             ],
             [
              0.3333333333333333,
              "#9c179e"
             ],
             [
              0.4444444444444444,
              "#bd3786"
             ],
             [
              0.5555555555555556,
              "#d8576b"
             ],
             [
              0.6666666666666666,
              "#ed7953"
             ],
             [
              0.7777777777777778,
              "#fb9f3a"
             ],
             [
              0.8888888888888888,
              "#fdca26"
             ],
             [
              1,
              "#f0f921"
             ]
            ],
            "type": "heatmapgl"
           }
          ],
          "histogram": [
           {
            "marker": {
             "pattern": {
              "fillmode": "overlay",
              "size": 10,
              "solidity": 0.2
             }
            },
            "type": "histogram"
           }
          ],
          "histogram2d": [
           {
            "colorbar": {
             "outlinewidth": 0,
             "ticks": ""
            },
            "colorscale": [
             [
              0,
              "#0d0887"
             ],
             [
              0.1111111111111111,
              "#46039f"
             ],
             [
              0.2222222222222222,
              "#7201a8"
             ],
             [
              0.3333333333333333,
              "#9c179e"
             ],
             [
              0.4444444444444444,
              "#bd3786"
             ],
             [
              0.5555555555555556,
              "#d8576b"
             ],
             [
              0.6666666666666666,
              "#ed7953"
             ],
             [
              0.7777777777777778,
              "#fb9f3a"
             ],
             [
              0.8888888888888888,
              "#fdca26"
             ],
             [
              1,
              "#f0f921"
             ]
            ],
            "type": "histogram2d"
           }
          ],
          "histogram2dcontour": [
           {
            "colorbar": {
             "outlinewidth": 0,
             "ticks": ""
            },
            "colorscale": [
             [
              0,
              "#0d0887"
             ],
             [
              0.1111111111111111,
              "#46039f"
             ],
             [
              0.2222222222222222,
              "#7201a8"
             ],
             [
              0.3333333333333333,
              "#9c179e"
             ],
             [
              0.4444444444444444,
              "#bd3786"
             ],
             [
              0.5555555555555556,
              "#d8576b"
             ],
             [
              0.6666666666666666,
              "#ed7953"
             ],
             [
              0.7777777777777778,
              "#fb9f3a"
             ],
             [
              0.8888888888888888,
              "#fdca26"
             ],
             [
              1,
              "#f0f921"
             ]
            ],
            "type": "histogram2dcontour"
           }
          ],
          "mesh3d": [
           {
            "colorbar": {
             "outlinewidth": 0,
             "ticks": ""
            },
            "type": "mesh3d"
           }
          ],
          "parcoords": [
           {
            "line": {
             "colorbar": {
              "outlinewidth": 0,
              "ticks": ""
             }
            },
            "type": "parcoords"
           }
          ],
          "pie": [
           {
            "automargin": true,
            "type": "pie"
           }
          ],
          "scatter": [
           {
            "fillpattern": {
             "fillmode": "overlay",
             "size": 10,
             "solidity": 0.2
            },
            "type": "scatter"
           }
          ],
          "scatter3d": [
           {
            "line": {
             "colorbar": {
              "outlinewidth": 0,
              "ticks": ""
             }
            },
            "marker": {
             "colorbar": {
              "outlinewidth": 0,
              "ticks": ""
             }
            },
            "type": "scatter3d"
           }
          ],
          "scattercarpet": [
           {
            "marker": {
             "colorbar": {
              "outlinewidth": 0,
              "ticks": ""
             }
            },
            "type": "scattercarpet"
           }
          ],
          "scattergeo": [
           {
            "marker": {
             "colorbar": {
              "outlinewidth": 0,
              "ticks": ""
             }
            },
            "type": "scattergeo"
           }
          ],
          "scattergl": [
           {
            "marker": {
             "colorbar": {
              "outlinewidth": 0,
              "ticks": ""
             }
            },
            "type": "scattergl"
           }
          ],
          "scattermapbox": [
           {
            "marker": {
             "colorbar": {
              "outlinewidth": 0,
              "ticks": ""
             }
            },
            "type": "scattermapbox"
           }
          ],
          "scatterpolar": [
           {
            "marker": {
             "colorbar": {
              "outlinewidth": 0,
              "ticks": ""
             }
            },
            "type": "scatterpolar"
           }
          ],
          "scatterpolargl": [
           {
            "marker": {
             "colorbar": {
              "outlinewidth": 0,
              "ticks": ""
             }
            },
            "type": "scatterpolargl"
           }
          ],
          "scatterternary": [
           {
            "marker": {
             "colorbar": {
              "outlinewidth": 0,
              "ticks": ""
             }
            },
            "type": "scatterternary"
           }
          ],
          "surface": [
           {
            "colorbar": {
             "outlinewidth": 0,
             "ticks": ""
            },
            "colorscale": [
             [
              0,
              "#0d0887"
             ],
             [
              0.1111111111111111,
              "#46039f"
             ],
             [
              0.2222222222222222,
              "#7201a8"
             ],
             [
              0.3333333333333333,
              "#9c179e"
             ],
             [
              0.4444444444444444,
              "#bd3786"
             ],
             [
              0.5555555555555556,
              "#d8576b"
             ],
             [
              0.6666666666666666,
              "#ed7953"
             ],
             [
              0.7777777777777778,
              "#fb9f3a"
             ],
             [
              0.8888888888888888,
              "#fdca26"
             ],
             [
              1,
              "#f0f921"
             ]
            ],
            "type": "surface"
           }
          ],
          "table": [
           {
            "cells": {
             "fill": {
              "color": "#EBF0F8"
             },
             "line": {
              "color": "white"
             }
            },
            "header": {
             "fill": {
              "color": "#C8D4E3"
             },
             "line": {
              "color": "white"
             }
            },
            "type": "table"
           }
          ]
         },
         "layout": {
          "annotationdefaults": {
           "arrowcolor": "#2a3f5f",
           "arrowhead": 0,
           "arrowwidth": 1
          },
          "autotypenumbers": "strict",
          "coloraxis": {
           "colorbar": {
            "outlinewidth": 0,
            "ticks": ""
           }
          },
          "colorscale": {
           "diverging": [
            [
             0,
             "#8e0152"
            ],
            [
             0.1,
             "#c51b7d"
            ],
            [
             0.2,
             "#de77ae"
            ],
            [
             0.3,
             "#f1b6da"
            ],
            [
             0.4,
             "#fde0ef"
            ],
            [
             0.5,
             "#f7f7f7"
            ],
            [
             0.6,
             "#e6f5d0"
            ],
            [
             0.7,
             "#b8e186"
            ],
            [
             0.8,
             "#7fbc41"
            ],
            [
             0.9,
             "#4d9221"
            ],
            [
             1,
             "#276419"
            ]
           ],
           "sequential": [
            [
             0,
             "#0d0887"
            ],
            [
             0.1111111111111111,
             "#46039f"
            ],
            [
             0.2222222222222222,
             "#7201a8"
            ],
            [
             0.3333333333333333,
             "#9c179e"
            ],
            [
             0.4444444444444444,
             "#bd3786"
            ],
            [
             0.5555555555555556,
             "#d8576b"
            ],
            [
             0.6666666666666666,
             "#ed7953"
            ],
            [
             0.7777777777777778,
             "#fb9f3a"
            ],
            [
             0.8888888888888888,
             "#fdca26"
            ],
            [
             1,
             "#f0f921"
            ]
           ],
           "sequentialminus": [
            [
             0,
             "#0d0887"
            ],
            [
             0.1111111111111111,
             "#46039f"
            ],
            [
             0.2222222222222222,
             "#7201a8"
            ],
            [
             0.3333333333333333,
             "#9c179e"
            ],
            [
             0.4444444444444444,
             "#bd3786"
            ],
            [
             0.5555555555555556,
             "#d8576b"
            ],
            [
             0.6666666666666666,
             "#ed7953"
            ],
            [
             0.7777777777777778,
             "#fb9f3a"
            ],
            [
             0.8888888888888888,
             "#fdca26"
            ],
            [
             1,
             "#f0f921"
            ]
           ]
          },
          "colorway": [
           "#636efa",
           "#EF553B",
           "#00cc96",
           "#ab63fa",
           "#FFA15A",
           "#19d3f3",
           "#FF6692",
           "#B6E880",
           "#FF97FF",
           "#FECB52"
          ],
          "font": {
           "color": "#2a3f5f"
          },
          "geo": {
           "bgcolor": "white",
           "lakecolor": "white",
           "landcolor": "#E5ECF6",
           "showlakes": true,
           "showland": true,
           "subunitcolor": "white"
          },
          "hoverlabel": {
           "align": "left"
          },
          "hovermode": "closest",
          "mapbox": {
           "style": "light"
          },
          "paper_bgcolor": "white",
          "plot_bgcolor": "#E5ECF6",
          "polar": {
           "angularaxis": {
            "gridcolor": "white",
            "linecolor": "white",
            "ticks": ""
           },
           "bgcolor": "#E5ECF6",
           "radialaxis": {
            "gridcolor": "white",
            "linecolor": "white",
            "ticks": ""
           }
          },
          "scene": {
           "xaxis": {
            "backgroundcolor": "#E5ECF6",
            "gridcolor": "white",
            "gridwidth": 2,
            "linecolor": "white",
            "showbackground": true,
            "ticks": "",
            "zerolinecolor": "white"
           },
           "yaxis": {
            "backgroundcolor": "#E5ECF6",
            "gridcolor": "white",
            "gridwidth": 2,
            "linecolor": "white",
            "showbackground": true,
            "ticks": "",
            "zerolinecolor": "white"
           },
           "zaxis": {
            "backgroundcolor": "#E5ECF6",
            "gridcolor": "white",
            "gridwidth": 2,
            "linecolor": "white",
            "showbackground": true,
            "ticks": "",
            "zerolinecolor": "white"
           }
          },
          "shapedefaults": {
           "line": {
            "color": "#2a3f5f"
           }
          },
          "ternary": {
           "aaxis": {
            "gridcolor": "white",
            "linecolor": "white",
            "ticks": ""
           },
           "baxis": {
            "gridcolor": "white",
            "linecolor": "white",
            "ticks": ""
           },
           "bgcolor": "#E5ECF6",
           "caxis": {
            "gridcolor": "white",
            "linecolor": "white",
            "ticks": ""
           }
          },
          "title": {
           "x": 0.05
          },
          "xaxis": {
           "automargin": true,
           "gridcolor": "white",
           "linecolor": "white",
           "ticks": "",
           "title": {
            "standoff": 15
           },
           "zerolinecolor": "white",
           "zerolinewidth": 2
          },
          "yaxis": {
           "automargin": true,
           "gridcolor": "white",
           "linecolor": "white",
           "ticks": "",
           "title": {
            "standoff": 15
           },
           "zerolinecolor": "white",
           "zerolinewidth": 2
          }
         }
        },
        "title": {
         "text": "Weekly Missing Pet Report Volumes Compared to Average Temperature"
        },
        "width": 720,
        "xaxis": {
         "anchor": "y",
         "domain": [
          0,
          1
         ],
         "title": {
          "text": "Averge Max Temperature"
         }
        },
        "yaxis": {
         "anchor": "x",
         "domain": [
          0,
          1
         ],
         "title": {
          "text": "Missing Pet Report Volume"
         }
        }
       }
      }
     },
     "metadata": {},
     "output_type": "display_data"
    }
   ],
   "source": [
    "scatter_fig= px.scatter(\n",
    "  x=weekly_summary['TMAX'],\n",
    "  y=weekly_summary['smoothed_reports'],\n",
    "  width=720,\n",
    "  labels={\n",
    "    'x': 'Averge Max Temperature',\n",
    "    'y': 'Missing Pet Report Volume',\n",
    "    'color': 'Year'\n",
    "  },\n",
    "  title='Weekly Missing Pet Report Volumes Compared to Average Temperature'\n",
    ")\n",
    "scatter_fig.show()"
   ]
  },
  {
   "cell_type": "code",
   "execution_count": 39,
   "metadata": {},
   "outputs": [
    {
     "data": {
      "application/vnd.plotly.v1+json": {
       "config": {
        "plotlyServerURL": "https://plot.ly"
       },
       "data": [
        {
         "hovertemplate": "Year=2019<br>Averge Max Temperature=%{x}<br>Missing Pet Report Volume=%{y}<extra></extra>",
         "legendgroup": "2019",
         "marker": {
          "color": "#636efa",
          "symbol": "circle"
         },
         "mode": "markers",
         "name": "2019",
         "orientation": "v",
         "showlegend": true,
         "type": "scatter",
         "x": [
          41.57142857142857,
          32.142857142857146,
          29.857142857142858,
          26.142857142857142,
          49.57142857142857,
          40.57142857142857,
          39,
          42.57142857142857,
          31.714285714285715,
          54.42857142857143,
          48.142857142857146,
          56.714285714285715,
          54.285714285714285,
          69.85714285714286,
          66.57142857142857,
          63.285714285714285,
          67.28571428571429,
          72,
          70.28571428571429,
          78.28571428571429,
          81.14285714285714,
          77,
          74.85714285714286,
          79,
          86.28571428571429,
          89.57142857142857,
          87.14285714285714,
          90,
          82.42857142857143,
          86.14285714285714,
          86.71428571428571,
          85,
          84.71428571428571,
          77.71428571428571,
          79.14285714285714,
          86.42857142857143,
          84.57142857142857,
          82.42857142857143,
          83.28571428571429,
          70.14285714285714,
          63.857142857142854,
          65.57142857142857,
          57.42857142857143,
          47.57142857142857,
          40.857142857142854,
          49.42857142857143,
          47.57142857142857,
          43.42857142857143,
          45.714285714285715,
          35.42857142857143,
          54.833333333333336,
          48.857142857142854
         ],
         "xaxis": "x",
         "y": [
          130,
          95,
          96,
          81,
          110,
          118,
          104,
          121,
          121,
          114,
          147,
          145,
          154,
          177,
          191,
          176,
          159,
          166,
          172,
          182,
          193,
          165,
          176,
          175,
          162,
          189,
          174,
          177,
          193,
          186,
          194,
          154,
          150,
          182,
          178,
          171,
          151,
          207,
          178,
          182,
          196,
          184,
          199,
          175,
          166,
          141,
          149,
          147,
          123,
          139,
          149,
          142
         ],
         "yaxis": "y"
        },
        {
         "hovertemplate": "Year=2020<br>Averge Max Temperature=%{x}<br>Missing Pet Report Volume=%{y}<extra></extra>",
         "legendgroup": "2020",
         "marker": {
          "color": "#EF553B",
          "symbol": "circle"
         },
         "mode": "markers",
         "name": "2020",
         "orientation": "v",
         "showlegend": true,
         "type": "scatter",
         "x": [
          49.42857142857143,
          46.142857142857146,
          35.857142857142854,
          35.42857142857143,
          45.285714285714285,
          36.714285714285715,
          41.57142857142857,
          39,
          50.857142857142854,
          57,
          52.42857142857143,
          57.57142857142857,
          58.857142857142854,
          60.42857142857143,
          52.42857142857143,
          60.42857142857143,
          64,
          59.714285714285715,
          66,
          70.28571428571429,
          82.71428571428571,
          81.28571428571429,
          82.28571428571429,
          80.71428571428571,
          83.28571428571429,
          88.71428571428571,
          91.71428571428571,
          88,
          88,
          87.85714285714286,
          79.28571428571429,
          87.85714285714286,
          83,
          88.71428571428571,
          81.57142857142857,
          83.42857142857143,
          72.85714285714286,
          75.85714285714286,
          67.28571428571429,
          70.85714285714286,
          66.71428571428571,
          63.42857142857143,
          50.57142857142857,
          63.285714285714285,
          64.85714285714286,
          53.285714285714285,
          49.42857142857143,
          41.857142857142854,
          48.142857142857146,
          37.142857142857146,
          40.142857142857146,
          44.57142857142857
         ],
         "xaxis": "x",
         "y": [
          147,
          149,
          142,
          117,
          112,
          112,
          146,
          98,
          159,
          151,
          157,
          131,
          161,
          183,
          130,
          163,
          160,
          166,
          169,
          179,
          169,
          213,
          205,
          160,
          209,
          190.6,
          154,
          182,
          164,
          170,
          155,
          157,
          184,
          159,
          151,
          160,
          199,
          173,
          183,
          190,
          192,
          174,
          161,
          177,
          156,
          148,
          136,
          121,
          118,
          99,
          129,
          126.6
         ],
         "yaxis": "y"
        },
        {
         "hovertemplate": "Year=2021<br>Averge Max Temperature=%{x}<br>Missing Pet Report Volume=%{y}<extra></extra>",
         "legendgroup": "2021",
         "marker": {
          "color": "#00cc96",
          "symbol": "circle"
         },
         "mode": "markers",
         "name": "2021",
         "orientation": "v",
         "showlegend": true,
         "type": "scatter",
         "x": [
          37.57142857142857,
          39,
          37.142857142857146,
          33.42857142857143,
          33,
          25.833333333333332,
          25.428571428571427,
          45.142857142857146,
          49,
          60.714285714285715,
          54.142857142857146,
          69.28571428571429,
          56.857142857142854,
          76.71428571428571,
          59.714285714285715,
          57.857142857142854,
          70.85714285714286,
          66.85714285714286,
          63.42857142857143,
          81.42857142857143,
          79,
          77,
          85.28571428571429,
          83.71428571428571,
          83,
          86.14285714285714,
          86,
          84.28571428571429,
          83.42857142857143,
          86.57142857142857,
          83.28571428571429,
          88.28571428571429,
          83.57142857142857,
          90.71428571428571,
          81.71428571428571,
          81,
          86.42857142857143,
          73.71428571428571,
          79,
          78.14285714285714,
          78.71428571428571,
          67,
          61,
          53.285714285714285,
          62,
          50.857142857142854,
          44.142857142857146,
          49.714285714285715,
          50.57142857142857,
          53.42857142857143,
          47.42857142857143,
          54.42857142857143
         ],
         "xaxis": "x",
         "y": [
          127,
          161,
          164,
          179,
          129,
          138,
          114,
          180,
          204,
          223,
          197,
          234,
          224,
          244,
          219,
          223,
          243,
          216,
          260,
          274,
          214,
          218,
          224,
          242,
          251,
          261.6,
          259.4,
          250,
          231,
          212,
          247,
          233,
          201,
          203,
          230,
          250,
          205,
          230,
          274,
          228,
          230,
          259,
          232,
          275,
          267,
          235,
          206,
          238,
          224,
          178,
          226,
          179.4
         ],
         "yaxis": "y"
        },
        {
         "hovertemplate": "Year=2022<br>Averge Max Temperature=%{x}<br>Missing Pet Report Volume=%{y}<extra></extra>",
         "legendgroup": "2022",
         "marker": {
          "color": "#ab63fa",
          "symbol": "circle"
         },
         "mode": "markers",
         "name": "2022",
         "orientation": "v",
         "showlegend": true,
         "type": "scatter",
         "x": [
          34.142857142857146,
          37,
          32,
          28.571428571428573,
          35,
          40.42857142857143,
          39,
          47.42857142857143,
          56.57142857142857,
          52,
          64.57142857142857,
          57.42857142857143,
          52.42857142857143,
          53.857142857142854,
          65.14285714285714,
          61.142857142857146,
          66,
          68,
          80.71428571428571,
          80.28571428571429,
          73.71428571428571,
          84.14285714285714,
          79.71428571428571,
          89.71428571428571,
          88.14285714285714,
          88,
          85.71428571428571,
          86.28571428571429,
          86.42857142857143,
          84,
          87,
          83.71428571428571,
          81.85714285714286,
          83.14285714285714,
          86,
          81.57142857142857,
          79.28571428571429,
          79.57142857142857,
          66.85714285714286,
          68.71428571428571,
          68.14285714285714,
          60.142857142857146,
          69.71428571428571,
          69.14285714285714,
          64.42857142857143,
          38.42857142857143,
          53,
          52.57142857142857,
          48.142857142857146,
          43.142857142857146,
          32.714285714285715,
          42.285714285714285
         ],
         "xaxis": "x",
         "y": [
          128,
          158,
          113,
          87,
          143,
          176,
          206,
          207,
          225,
          213,
          222,
          231,
          226,
          237,
          209,
          213,
          239,
          231,
          238,
          257,
          257,
          273,
          245,
          232,
          256,
          286,
          258.2,
          275,
          199,
          278,
          278,
          248,
          278,
          252,
          259,
          264,
          277,
          279,
          267,
          293,
          276,
          248,
          267,
          250,
          243,
          225,
          227,
          250,
          223,
          256,
          237,
          227.2
         ],
         "yaxis": "y"
        }
       ],
       "layout": {
        "legend": {
         "title": {
          "text": "Year"
         },
         "tracegroupgap": 0
        },
        "template": {
         "data": {
          "bar": [
           {
            "error_x": {
             "color": "#2a3f5f"
            },
            "error_y": {
             "color": "#2a3f5f"
            },
            "marker": {
             "line": {
              "color": "#E5ECF6",
              "width": 0.5
             },
             "pattern": {
              "fillmode": "overlay",
              "size": 10,
              "solidity": 0.2
             }
            },
            "type": "bar"
           }
          ],
          "barpolar": [
           {
            "marker": {
             "line": {
              "color": "#E5ECF6",
              "width": 0.5
             },
             "pattern": {
              "fillmode": "overlay",
              "size": 10,
              "solidity": 0.2
             }
            },
            "type": "barpolar"
           }
          ],
          "carpet": [
           {
            "aaxis": {
             "endlinecolor": "#2a3f5f",
             "gridcolor": "white",
             "linecolor": "white",
             "minorgridcolor": "white",
             "startlinecolor": "#2a3f5f"
            },
            "baxis": {
             "endlinecolor": "#2a3f5f",
             "gridcolor": "white",
             "linecolor": "white",
             "minorgridcolor": "white",
             "startlinecolor": "#2a3f5f"
            },
            "type": "carpet"
           }
          ],
          "choropleth": [
           {
            "colorbar": {
             "outlinewidth": 0,
             "ticks": ""
            },
            "type": "choropleth"
           }
          ],
          "contour": [
           {
            "colorbar": {
             "outlinewidth": 0,
             "ticks": ""
            },
            "colorscale": [
             [
              0,
              "#0d0887"
             ],
             [
              0.1111111111111111,
              "#46039f"
             ],
             [
              0.2222222222222222,
              "#7201a8"
             ],
             [
              0.3333333333333333,
              "#9c179e"
             ],
             [
              0.4444444444444444,
              "#bd3786"
             ],
             [
              0.5555555555555556,
              "#d8576b"
             ],
             [
              0.6666666666666666,
              "#ed7953"
             ],
             [
              0.7777777777777778,
              "#fb9f3a"
             ],
             [
              0.8888888888888888,
              "#fdca26"
             ],
             [
              1,
              "#f0f921"
             ]
            ],
            "type": "contour"
           }
          ],
          "contourcarpet": [
           {
            "colorbar": {
             "outlinewidth": 0,
             "ticks": ""
            },
            "type": "contourcarpet"
           }
          ],
          "heatmap": [
           {
            "colorbar": {
             "outlinewidth": 0,
             "ticks": ""
            },
            "colorscale": [
             [
              0,
              "#0d0887"
             ],
             [
              0.1111111111111111,
              "#46039f"
             ],
             [
              0.2222222222222222,
              "#7201a8"
             ],
             [
              0.3333333333333333,
              "#9c179e"
             ],
             [
              0.4444444444444444,
              "#bd3786"
             ],
             [
              0.5555555555555556,
              "#d8576b"
             ],
             [
              0.6666666666666666,
              "#ed7953"
             ],
             [
              0.7777777777777778,
              "#fb9f3a"
             ],
             [
              0.8888888888888888,
              "#fdca26"
             ],
             [
              1,
              "#f0f921"
             ]
            ],
            "type": "heatmap"
           }
          ],
          "heatmapgl": [
           {
            "colorbar": {
             "outlinewidth": 0,
             "ticks": ""
            },
            "colorscale": [
             [
              0,
              "#0d0887"
             ],
             [
              0.1111111111111111,
              "#46039f"
             ],
             [
              0.2222222222222222,
              "#7201a8"
             ],
             [
              0.3333333333333333,
              "#9c179e"
             ],
             [
              0.4444444444444444,
              "#bd3786"
             ],
             [
              0.5555555555555556,
              "#d8576b"
             ],
             [
              0.6666666666666666,
              "#ed7953"
             ],
             [
              0.7777777777777778,
              "#fb9f3a"
             ],
             [
              0.8888888888888888,
              "#fdca26"
             ],
             [
              1,
              "#f0f921"
             ]
            ],
            "type": "heatmapgl"
           }
          ],
          "histogram": [
           {
            "marker": {
             "pattern": {
              "fillmode": "overlay",
              "size": 10,
              "solidity": 0.2
             }
            },
            "type": "histogram"
           }
          ],
          "histogram2d": [
           {
            "colorbar": {
             "outlinewidth": 0,
             "ticks": ""
            },
            "colorscale": [
             [
              0,
              "#0d0887"
             ],
             [
              0.1111111111111111,
              "#46039f"
             ],
             [
              0.2222222222222222,
              "#7201a8"
             ],
             [
              0.3333333333333333,
              "#9c179e"
             ],
             [
              0.4444444444444444,
              "#bd3786"
             ],
             [
              0.5555555555555556,
              "#d8576b"
             ],
             [
              0.6666666666666666,
              "#ed7953"
             ],
             [
              0.7777777777777778,
              "#fb9f3a"
             ],
             [
              0.8888888888888888,
              "#fdca26"
             ],
             [
              1,
              "#f0f921"
             ]
            ],
            "type": "histogram2d"
           }
          ],
          "histogram2dcontour": [
           {
            "colorbar": {
             "outlinewidth": 0,
             "ticks": ""
            },
            "colorscale": [
             [
              0,
              "#0d0887"
             ],
             [
              0.1111111111111111,
              "#46039f"
             ],
             [
              0.2222222222222222,
              "#7201a8"
             ],
             [
              0.3333333333333333,
              "#9c179e"
             ],
             [
              0.4444444444444444,
              "#bd3786"
             ],
             [
              0.5555555555555556,
              "#d8576b"
             ],
             [
              0.6666666666666666,
              "#ed7953"
             ],
             [
              0.7777777777777778,
              "#fb9f3a"
             ],
             [
              0.8888888888888888,
              "#fdca26"
             ],
             [
              1,
              "#f0f921"
             ]
            ],
            "type": "histogram2dcontour"
           }
          ],
          "mesh3d": [
           {
            "colorbar": {
             "outlinewidth": 0,
             "ticks": ""
            },
            "type": "mesh3d"
           }
          ],
          "parcoords": [
           {
            "line": {
             "colorbar": {
              "outlinewidth": 0,
              "ticks": ""
             }
            },
            "type": "parcoords"
           }
          ],
          "pie": [
           {
            "automargin": true,
            "type": "pie"
           }
          ],
          "scatter": [
           {
            "fillpattern": {
             "fillmode": "overlay",
             "size": 10,
             "solidity": 0.2
            },
            "type": "scatter"
           }
          ],
          "scatter3d": [
           {
            "line": {
             "colorbar": {
              "outlinewidth": 0,
              "ticks": ""
             }
            },
            "marker": {
             "colorbar": {
              "outlinewidth": 0,
              "ticks": ""
             }
            },
            "type": "scatter3d"
           }
          ],
          "scattercarpet": [
           {
            "marker": {
             "colorbar": {
              "outlinewidth": 0,
              "ticks": ""
             }
            },
            "type": "scattercarpet"
           }
          ],
          "scattergeo": [
           {
            "marker": {
             "colorbar": {
              "outlinewidth": 0,
              "ticks": ""
             }
            },
            "type": "scattergeo"
           }
          ],
          "scattergl": [
           {
            "marker": {
             "colorbar": {
              "outlinewidth": 0,
              "ticks": ""
             }
            },
            "type": "scattergl"
           }
          ],
          "scattermapbox": [
           {
            "marker": {
             "colorbar": {
              "outlinewidth": 0,
              "ticks": ""
             }
            },
            "type": "scattermapbox"
           }
          ],
          "scatterpolar": [
           {
            "marker": {
             "colorbar": {
              "outlinewidth": 0,
              "ticks": ""
             }
            },
            "type": "scatterpolar"
           }
          ],
          "scatterpolargl": [
           {
            "marker": {
             "colorbar": {
              "outlinewidth": 0,
              "ticks": ""
             }
            },
            "type": "scatterpolargl"
           }
          ],
          "scatterternary": [
           {
            "marker": {
             "colorbar": {
              "outlinewidth": 0,
              "ticks": ""
             }
            },
            "type": "scatterternary"
           }
          ],
          "surface": [
           {
            "colorbar": {
             "outlinewidth": 0,
             "ticks": ""
            },
            "colorscale": [
             [
              0,
              "#0d0887"
             ],
             [
              0.1111111111111111,
              "#46039f"
             ],
             [
              0.2222222222222222,
              "#7201a8"
             ],
             [
              0.3333333333333333,
              "#9c179e"
             ],
             [
              0.4444444444444444,
              "#bd3786"
             ],
             [
              0.5555555555555556,
              "#d8576b"
             ],
             [
              0.6666666666666666,
              "#ed7953"
             ],
             [
              0.7777777777777778,
              "#fb9f3a"
             ],
             [
              0.8888888888888888,
              "#fdca26"
             ],
             [
              1,
              "#f0f921"
             ]
            ],
            "type": "surface"
           }
          ],
          "table": [
           {
            "cells": {
             "fill": {
              "color": "#EBF0F8"
             },
             "line": {
              "color": "white"
             }
            },
            "header": {
             "fill": {
              "color": "#C8D4E3"
             },
             "line": {
              "color": "white"
             }
            },
            "type": "table"
           }
          ]
         },
         "layout": {
          "annotationdefaults": {
           "arrowcolor": "#2a3f5f",
           "arrowhead": 0,
           "arrowwidth": 1
          },
          "autotypenumbers": "strict",
          "coloraxis": {
           "colorbar": {
            "outlinewidth": 0,
            "ticks": ""
           }
          },
          "colorscale": {
           "diverging": [
            [
             0,
             "#8e0152"
            ],
            [
             0.1,
             "#c51b7d"
            ],
            [
             0.2,
             "#de77ae"
            ],
            [
             0.3,
             "#f1b6da"
            ],
            [
             0.4,
             "#fde0ef"
            ],
            [
             0.5,
             "#f7f7f7"
            ],
            [
             0.6,
             "#e6f5d0"
            ],
            [
             0.7,
             "#b8e186"
            ],
            [
             0.8,
             "#7fbc41"
            ],
            [
             0.9,
             "#4d9221"
            ],
            [
             1,
             "#276419"
            ]
           ],
           "sequential": [
            [
             0,
             "#0d0887"
            ],
            [
             0.1111111111111111,
             "#46039f"
            ],
            [
             0.2222222222222222,
             "#7201a8"
            ],
            [
             0.3333333333333333,
             "#9c179e"
            ],
            [
             0.4444444444444444,
             "#bd3786"
            ],
            [
             0.5555555555555556,
             "#d8576b"
            ],
            [
             0.6666666666666666,
             "#ed7953"
            ],
            [
             0.7777777777777778,
             "#fb9f3a"
            ],
            [
             0.8888888888888888,
             "#fdca26"
            ],
            [
             1,
             "#f0f921"
            ]
           ],
           "sequentialminus": [
            [
             0,
             "#0d0887"
            ],
            [
             0.1111111111111111,
             "#46039f"
            ],
            [
             0.2222222222222222,
             "#7201a8"
            ],
            [
             0.3333333333333333,
             "#9c179e"
            ],
            [
             0.4444444444444444,
             "#bd3786"
            ],
            [
             0.5555555555555556,
             "#d8576b"
            ],
            [
             0.6666666666666666,
             "#ed7953"
            ],
            [
             0.7777777777777778,
             "#fb9f3a"
            ],
            [
             0.8888888888888888,
             "#fdca26"
            ],
            [
             1,
             "#f0f921"
            ]
           ]
          },
          "colorway": [
           "#636efa",
           "#EF553B",
           "#00cc96",
           "#ab63fa",
           "#FFA15A",
           "#19d3f3",
           "#FF6692",
           "#B6E880",
           "#FF97FF",
           "#FECB52"
          ],
          "font": {
           "color": "#2a3f5f"
          },
          "geo": {
           "bgcolor": "white",
           "lakecolor": "white",
           "landcolor": "#E5ECF6",
           "showlakes": true,
           "showland": true,
           "subunitcolor": "white"
          },
          "hoverlabel": {
           "align": "left"
          },
          "hovermode": "closest",
          "mapbox": {
           "style": "light"
          },
          "paper_bgcolor": "white",
          "plot_bgcolor": "#E5ECF6",
          "polar": {
           "angularaxis": {
            "gridcolor": "white",
            "linecolor": "white",
            "ticks": ""
           },
           "bgcolor": "#E5ECF6",
           "radialaxis": {
            "gridcolor": "white",
            "linecolor": "white",
            "ticks": ""
           }
          },
          "scene": {
           "xaxis": {
            "backgroundcolor": "#E5ECF6",
            "gridcolor": "white",
            "gridwidth": 2,
            "linecolor": "white",
            "showbackground": true,
            "ticks": "",
            "zerolinecolor": "white"
           },
           "yaxis": {
            "backgroundcolor": "#E5ECF6",
            "gridcolor": "white",
            "gridwidth": 2,
            "linecolor": "white",
            "showbackground": true,
            "ticks": "",
            "zerolinecolor": "white"
           },
           "zaxis": {
            "backgroundcolor": "#E5ECF6",
            "gridcolor": "white",
            "gridwidth": 2,
            "linecolor": "white",
            "showbackground": true,
            "ticks": "",
            "zerolinecolor": "white"
           }
          },
          "shapedefaults": {
           "line": {
            "color": "#2a3f5f"
           }
          },
          "ternary": {
           "aaxis": {
            "gridcolor": "white",
            "linecolor": "white",
            "ticks": ""
           },
           "baxis": {
            "gridcolor": "white",
            "linecolor": "white",
            "ticks": ""
           },
           "bgcolor": "#E5ECF6",
           "caxis": {
            "gridcolor": "white",
            "linecolor": "white",
            "ticks": ""
           }
          },
          "title": {
           "x": 0.05
          },
          "xaxis": {
           "automargin": true,
           "gridcolor": "white",
           "linecolor": "white",
           "ticks": "",
           "title": {
            "standoff": 15
           },
           "zerolinecolor": "white",
           "zerolinewidth": 2
          },
          "yaxis": {
           "automargin": true,
           "gridcolor": "white",
           "linecolor": "white",
           "ticks": "",
           "title": {
            "standoff": 15
           },
           "zerolinecolor": "white",
           "zerolinewidth": 2
          }
         }
        },
        "title": {
         "text": "Weekly Missing Pet Report Volumes Compared to Average Temperature by Year"
        },
        "width": 720,
        "xaxis": {
         "anchor": "y",
         "domain": [
          0,
          1
         ],
         "title": {
          "text": "Averge Max Temperature"
         }
        },
        "yaxis": {
         "anchor": "x",
         "domain": [
          0,
          1
         ],
         "title": {
          "text": "Missing Pet Report Volume"
         }
        }
       }
      }
     },
     "metadata": {},
     "output_type": "display_data"
    }
   ],
   "source": [
    "scatter_fig= px.scatter(\n",
    "  x=weekly_summary['TMAX'],\n",
    "  y=weekly_summary['smoothed_reports'],\n",
    "  width=720,\n",
    "  color=weekly_summary['year'],\n",
    "  labels={\n",
    "    'x': 'Averge Max Temperature',\n",
    "    'y': 'Missing Pet Report Volume',\n",
    "    'color': 'Year'\n",
    "  },\n",
    "  title='Weekly Missing Pet Report Volumes Compared to Average Temperature by Year'\n",
    ")\n",
    "scatter_fig.show()"
   ]
  },
  {
   "cell_type": "code",
   "execution_count": 40,
   "metadata": {},
   "outputs": [
    {
     "data": {
      "application/vnd.plotly.v1+json": {
       "config": {
        "plotlyServerURL": "https://plot.ly"
       },
       "data": [
        {
         "hovertemplate": "Metric=reports<br>Week of Observation=%{x}<br>Value=%{y}<extra></extra>",
         "legendgroup": "reports",
         "line": {
          "color": "#636efa",
          "dash": "solid"
         },
         "marker": {
          "symbol": "circle"
         },
         "mode": "lines",
         "name": "reports",
         "orientation": "v",
         "showlegend": true,
         "type": "scatter",
         "x": [
          "2019-01-06T00:00:00",
          "2019-01-13T00:00:00",
          "2019-01-20T00:00:00",
          "2019-01-27T00:00:00",
          "2019-02-03T00:00:00",
          "2019-02-10T00:00:00",
          "2019-02-17T00:00:00",
          "2019-02-24T00:00:00",
          "2019-03-03T00:00:00",
          "2019-03-10T00:00:00",
          "2019-03-17T00:00:00",
          "2019-03-24T00:00:00",
          "2019-03-31T00:00:00",
          "2019-04-07T00:00:00",
          "2019-04-14T00:00:00",
          "2019-04-21T00:00:00",
          "2019-04-28T00:00:00",
          "2019-05-05T00:00:00",
          "2019-05-12T00:00:00",
          "2019-05-19T00:00:00",
          "2019-05-26T00:00:00",
          "2019-06-02T00:00:00",
          "2019-06-09T00:00:00",
          "2019-06-16T00:00:00",
          "2019-06-23T00:00:00",
          "2019-06-30T00:00:00",
          "2019-07-07T00:00:00",
          "2019-07-14T00:00:00",
          "2019-07-21T00:00:00",
          "2019-07-28T00:00:00",
          "2019-08-04T00:00:00",
          "2019-08-11T00:00:00",
          "2019-08-18T00:00:00",
          "2019-08-25T00:00:00",
          "2019-09-01T00:00:00",
          "2019-09-08T00:00:00",
          "2019-09-15T00:00:00",
          "2019-09-22T00:00:00",
          "2019-09-29T00:00:00",
          "2019-10-06T00:00:00",
          "2019-10-13T00:00:00",
          "2019-10-20T00:00:00",
          "2019-10-27T00:00:00",
          "2019-11-03T00:00:00",
          "2019-11-10T00:00:00",
          "2019-11-17T00:00:00",
          "2019-11-24T00:00:00",
          "2019-12-01T00:00:00",
          "2019-12-08T00:00:00",
          "2019-12-15T00:00:00",
          "2019-12-22T00:00:00",
          "2019-12-29T00:00:00",
          "2020-01-05T00:00:00",
          "2020-01-12T00:00:00",
          "2020-01-19T00:00:00",
          "2020-01-26T00:00:00",
          "2020-02-02T00:00:00",
          "2020-02-09T00:00:00",
          "2020-02-16T00:00:00",
          "2020-02-23T00:00:00",
          "2020-03-01T00:00:00",
          "2020-03-08T00:00:00",
          "2020-03-15T00:00:00",
          "2020-03-22T00:00:00",
          "2020-03-29T00:00:00",
          "2020-04-05T00:00:00",
          "2020-04-12T00:00:00",
          "2020-04-19T00:00:00",
          "2020-04-26T00:00:00",
          "2020-05-03T00:00:00",
          "2020-05-10T00:00:00",
          "2020-05-17T00:00:00",
          "2020-05-24T00:00:00",
          "2020-05-31T00:00:00",
          "2020-06-07T00:00:00",
          "2020-06-14T00:00:00",
          "2020-06-21T00:00:00",
          "2020-06-28T00:00:00",
          "2020-07-05T00:00:00",
          "2020-07-12T00:00:00",
          "2020-07-19T00:00:00",
          "2020-07-26T00:00:00",
          "2020-08-02T00:00:00",
          "2020-08-09T00:00:00",
          "2020-08-16T00:00:00",
          "2020-08-23T00:00:00",
          "2020-08-30T00:00:00",
          "2020-09-06T00:00:00",
          "2020-09-13T00:00:00",
          "2020-09-20T00:00:00",
          "2020-09-27T00:00:00",
          "2020-10-04T00:00:00",
          "2020-10-11T00:00:00",
          "2020-10-18T00:00:00",
          "2020-10-25T00:00:00",
          "2020-11-01T00:00:00",
          "2020-11-08T00:00:00",
          "2020-11-15T00:00:00",
          "2020-11-22T00:00:00",
          "2020-11-29T00:00:00",
          "2020-12-06T00:00:00",
          "2020-12-13T00:00:00",
          "2020-12-20T00:00:00",
          "2020-12-27T00:00:00",
          "2021-01-03T00:00:00",
          "2021-01-10T00:00:00",
          "2021-01-17T00:00:00",
          "2021-01-24T00:00:00",
          "2021-01-31T00:00:00",
          "2021-02-07T00:00:00",
          "2021-02-14T00:00:00",
          "2021-02-21T00:00:00",
          "2021-02-28T00:00:00",
          "2021-03-07T00:00:00",
          "2021-03-14T00:00:00",
          "2021-03-21T00:00:00",
          "2021-03-28T00:00:00",
          "2021-04-04T00:00:00",
          "2021-04-11T00:00:00",
          "2021-04-18T00:00:00",
          "2021-04-25T00:00:00",
          "2021-05-02T00:00:00",
          "2021-05-09T00:00:00",
          "2021-05-16T00:00:00",
          "2021-05-23T00:00:00",
          "2021-05-30T00:00:00",
          "2021-06-06T00:00:00",
          "2021-06-13T00:00:00",
          "2021-06-20T00:00:00",
          "2021-06-27T00:00:00",
          "2021-07-04T00:00:00",
          "2021-07-11T00:00:00",
          "2021-07-18T00:00:00",
          "2021-07-25T00:00:00",
          "2021-08-01T00:00:00",
          "2021-08-08T00:00:00",
          "2021-08-15T00:00:00",
          "2021-08-22T00:00:00",
          "2021-08-29T00:00:00",
          "2021-09-05T00:00:00",
          "2021-09-12T00:00:00",
          "2021-09-19T00:00:00",
          "2021-09-26T00:00:00",
          "2021-10-03T00:00:00",
          "2021-10-10T00:00:00",
          "2021-10-17T00:00:00",
          "2021-10-24T00:00:00",
          "2021-10-31T00:00:00",
          "2021-11-07T00:00:00",
          "2021-11-14T00:00:00",
          "2021-11-21T00:00:00",
          "2021-11-28T00:00:00",
          "2021-12-05T00:00:00",
          "2021-12-12T00:00:00",
          "2021-12-19T00:00:00",
          "2021-12-26T00:00:00",
          "2022-01-02T00:00:00",
          "2022-01-09T00:00:00",
          "2022-01-16T00:00:00",
          "2022-01-23T00:00:00",
          "2022-01-30T00:00:00",
          "2022-02-06T00:00:00",
          "2022-02-13T00:00:00",
          "2022-02-20T00:00:00",
          "2022-02-27T00:00:00",
          "2022-03-06T00:00:00",
          "2022-03-13T00:00:00",
          "2022-03-20T00:00:00",
          "2022-03-27T00:00:00",
          "2022-04-03T00:00:00",
          "2022-04-10T00:00:00",
          "2022-04-17T00:00:00",
          "2022-04-24T00:00:00",
          "2022-05-01T00:00:00",
          "2022-05-08T00:00:00",
          "2022-05-15T00:00:00",
          "2022-05-22T00:00:00",
          "2022-05-29T00:00:00",
          "2022-06-05T00:00:00",
          "2022-06-12T00:00:00",
          "2022-06-19T00:00:00",
          "2022-06-26T00:00:00",
          "2022-07-03T00:00:00",
          "2022-07-10T00:00:00",
          "2022-07-17T00:00:00",
          "2022-07-24T00:00:00",
          "2022-07-31T00:00:00",
          "2022-08-07T00:00:00",
          "2022-08-14T00:00:00",
          "2022-08-21T00:00:00",
          "2022-08-28T00:00:00",
          "2022-09-04T00:00:00",
          "2022-09-11T00:00:00",
          "2022-09-18T00:00:00",
          "2022-09-25T00:00:00",
          "2022-10-02T00:00:00",
          "2022-10-09T00:00:00",
          "2022-10-16T00:00:00",
          "2022-10-23T00:00:00",
          "2022-10-30T00:00:00",
          "2022-11-06T00:00:00",
          "2022-11-13T00:00:00",
          "2022-11-20T00:00:00",
          "2022-11-27T00:00:00",
          "2022-12-04T00:00:00",
          "2022-12-11T00:00:00",
          "2022-12-18T00:00:00",
          "2022-12-25T00:00:00"
         ],
         "xaxis": "x",
         "y": [
          130,
          95,
          96,
          81,
          110,
          118,
          104,
          121,
          121,
          114,
          147,
          145,
          154,
          177,
          191,
          176,
          159,
          166,
          172,
          182,
          193,
          165,
          176,
          175,
          162,
          257,
          174,
          177,
          193,
          186,
          194,
          154,
          150,
          182,
          178,
          171,
          151,
          207,
          178,
          182,
          196,
          184,
          199,
          175,
          166,
          141,
          149,
          147,
          123,
          139,
          149,
          126,
          147,
          149,
          142,
          117,
          112,
          112,
          146,
          98,
          159,
          151,
          157,
          131,
          161,
          183,
          130,
          163,
          160,
          166,
          169,
          179,
          169,
          213,
          205,
          160,
          209,
          248,
          154,
          182,
          164,
          170,
          155,
          157,
          184,
          159,
          151,
          160,
          199,
          173,
          183,
          190,
          192,
          174,
          161,
          177,
          156,
          148,
          136,
          121,
          118,
          99,
          129,
          117,
          127,
          161,
          164,
          179,
          129,
          138,
          114,
          180,
          204,
          223,
          197,
          234,
          224,
          244,
          219,
          223,
          243,
          216,
          260,
          274,
          214,
          218,
          224,
          242,
          251,
          283,
          282,
          250,
          231,
          212,
          247,
          233,
          201,
          203,
          230,
          250,
          205,
          230,
          274,
          228,
          230,
          259,
          232,
          275,
          267,
          235,
          206,
          238,
          224,
          178,
          226,
          207,
          128,
          158,
          113,
          87,
          143,
          176,
          206,
          207,
          225,
          213,
          222,
          231,
          226,
          237,
          209,
          213,
          239,
          231,
          238,
          257,
          257,
          273,
          245,
          232,
          256,
          286,
          275,
          275,
          199,
          278,
          278,
          248,
          278,
          252,
          259,
          264,
          277,
          279,
          267,
          293,
          276,
          248,
          267,
          250,
          243,
          225,
          227,
          250,
          223,
          256,
          237,
          201
         ],
         "yaxis": "y"
        },
        {
         "hovertemplate": "Metric=TMAX<br>Week of Observation=%{x}<br>Value=%{y}<extra></extra>",
         "legendgroup": "TMAX",
         "line": {
          "color": "#EF553B",
          "dash": "solid"
         },
         "marker": {
          "symbol": "circle"
         },
         "mode": "lines",
         "name": "TMAX",
         "orientation": "v",
         "showlegend": true,
         "type": "scatter",
         "x": [
          "2019-01-06T00:00:00",
          "2019-01-13T00:00:00",
          "2019-01-20T00:00:00",
          "2019-01-27T00:00:00",
          "2019-02-03T00:00:00",
          "2019-02-10T00:00:00",
          "2019-02-17T00:00:00",
          "2019-02-24T00:00:00",
          "2019-03-03T00:00:00",
          "2019-03-10T00:00:00",
          "2019-03-17T00:00:00",
          "2019-03-24T00:00:00",
          "2019-03-31T00:00:00",
          "2019-04-07T00:00:00",
          "2019-04-14T00:00:00",
          "2019-04-21T00:00:00",
          "2019-04-28T00:00:00",
          "2019-05-05T00:00:00",
          "2019-05-12T00:00:00",
          "2019-05-19T00:00:00",
          "2019-05-26T00:00:00",
          "2019-06-02T00:00:00",
          "2019-06-09T00:00:00",
          "2019-06-16T00:00:00",
          "2019-06-23T00:00:00",
          "2019-06-30T00:00:00",
          "2019-07-07T00:00:00",
          "2019-07-14T00:00:00",
          "2019-07-21T00:00:00",
          "2019-07-28T00:00:00",
          "2019-08-04T00:00:00",
          "2019-08-11T00:00:00",
          "2019-08-18T00:00:00",
          "2019-08-25T00:00:00",
          "2019-09-01T00:00:00",
          "2019-09-08T00:00:00",
          "2019-09-15T00:00:00",
          "2019-09-22T00:00:00",
          "2019-09-29T00:00:00",
          "2019-10-06T00:00:00",
          "2019-10-13T00:00:00",
          "2019-10-20T00:00:00",
          "2019-10-27T00:00:00",
          "2019-11-03T00:00:00",
          "2019-11-10T00:00:00",
          "2019-11-17T00:00:00",
          "2019-11-24T00:00:00",
          "2019-12-01T00:00:00",
          "2019-12-08T00:00:00",
          "2019-12-15T00:00:00",
          "2019-12-22T00:00:00",
          "2019-12-29T00:00:00",
          "2020-01-05T00:00:00",
          "2020-01-12T00:00:00",
          "2020-01-19T00:00:00",
          "2020-01-26T00:00:00",
          "2020-02-02T00:00:00",
          "2020-02-09T00:00:00",
          "2020-02-16T00:00:00",
          "2020-02-23T00:00:00",
          "2020-03-01T00:00:00",
          "2020-03-08T00:00:00",
          "2020-03-15T00:00:00",
          "2020-03-22T00:00:00",
          "2020-03-29T00:00:00",
          "2020-04-05T00:00:00",
          "2020-04-12T00:00:00",
          "2020-04-19T00:00:00",
          "2020-04-26T00:00:00",
          "2020-05-03T00:00:00",
          "2020-05-10T00:00:00",
          "2020-05-17T00:00:00",
          "2020-05-24T00:00:00",
          "2020-05-31T00:00:00",
          "2020-06-07T00:00:00",
          "2020-06-14T00:00:00",
          "2020-06-21T00:00:00",
          "2020-06-28T00:00:00",
          "2020-07-05T00:00:00",
          "2020-07-12T00:00:00",
          "2020-07-19T00:00:00",
          "2020-07-26T00:00:00",
          "2020-08-02T00:00:00",
          "2020-08-09T00:00:00",
          "2020-08-16T00:00:00",
          "2020-08-23T00:00:00",
          "2020-08-30T00:00:00",
          "2020-09-06T00:00:00",
          "2020-09-13T00:00:00",
          "2020-09-20T00:00:00",
          "2020-09-27T00:00:00",
          "2020-10-04T00:00:00",
          "2020-10-11T00:00:00",
          "2020-10-18T00:00:00",
          "2020-10-25T00:00:00",
          "2020-11-01T00:00:00",
          "2020-11-08T00:00:00",
          "2020-11-15T00:00:00",
          "2020-11-22T00:00:00",
          "2020-11-29T00:00:00",
          "2020-12-06T00:00:00",
          "2020-12-13T00:00:00",
          "2020-12-20T00:00:00",
          "2020-12-27T00:00:00",
          "2021-01-03T00:00:00",
          "2021-01-10T00:00:00",
          "2021-01-17T00:00:00",
          "2021-01-24T00:00:00",
          "2021-01-31T00:00:00",
          "2021-02-07T00:00:00",
          "2021-02-14T00:00:00",
          "2021-02-21T00:00:00",
          "2021-02-28T00:00:00",
          "2021-03-07T00:00:00",
          "2021-03-14T00:00:00",
          "2021-03-21T00:00:00",
          "2021-03-28T00:00:00",
          "2021-04-04T00:00:00",
          "2021-04-11T00:00:00",
          "2021-04-18T00:00:00",
          "2021-04-25T00:00:00",
          "2021-05-02T00:00:00",
          "2021-05-09T00:00:00",
          "2021-05-16T00:00:00",
          "2021-05-23T00:00:00",
          "2021-05-30T00:00:00",
          "2021-06-06T00:00:00",
          "2021-06-13T00:00:00",
          "2021-06-20T00:00:00",
          "2021-06-27T00:00:00",
          "2021-07-04T00:00:00",
          "2021-07-11T00:00:00",
          "2021-07-18T00:00:00",
          "2021-07-25T00:00:00",
          "2021-08-01T00:00:00",
          "2021-08-08T00:00:00",
          "2021-08-15T00:00:00",
          "2021-08-22T00:00:00",
          "2021-08-29T00:00:00",
          "2021-09-05T00:00:00",
          "2021-09-12T00:00:00",
          "2021-09-19T00:00:00",
          "2021-09-26T00:00:00",
          "2021-10-03T00:00:00",
          "2021-10-10T00:00:00",
          "2021-10-17T00:00:00",
          "2021-10-24T00:00:00",
          "2021-10-31T00:00:00",
          "2021-11-07T00:00:00",
          "2021-11-14T00:00:00",
          "2021-11-21T00:00:00",
          "2021-11-28T00:00:00",
          "2021-12-05T00:00:00",
          "2021-12-12T00:00:00",
          "2021-12-19T00:00:00",
          "2021-12-26T00:00:00",
          "2022-01-02T00:00:00",
          "2022-01-09T00:00:00",
          "2022-01-16T00:00:00",
          "2022-01-23T00:00:00",
          "2022-01-30T00:00:00",
          "2022-02-06T00:00:00",
          "2022-02-13T00:00:00",
          "2022-02-20T00:00:00",
          "2022-02-27T00:00:00",
          "2022-03-06T00:00:00",
          "2022-03-13T00:00:00",
          "2022-03-20T00:00:00",
          "2022-03-27T00:00:00",
          "2022-04-03T00:00:00",
          "2022-04-10T00:00:00",
          "2022-04-17T00:00:00",
          "2022-04-24T00:00:00",
          "2022-05-01T00:00:00",
          "2022-05-08T00:00:00",
          "2022-05-15T00:00:00",
          "2022-05-22T00:00:00",
          "2022-05-29T00:00:00",
          "2022-06-05T00:00:00",
          "2022-06-12T00:00:00",
          "2022-06-19T00:00:00",
          "2022-06-26T00:00:00",
          "2022-07-03T00:00:00",
          "2022-07-10T00:00:00",
          "2022-07-17T00:00:00",
          "2022-07-24T00:00:00",
          "2022-07-31T00:00:00",
          "2022-08-07T00:00:00",
          "2022-08-14T00:00:00",
          "2022-08-21T00:00:00",
          "2022-08-28T00:00:00",
          "2022-09-04T00:00:00",
          "2022-09-11T00:00:00",
          "2022-09-18T00:00:00",
          "2022-09-25T00:00:00",
          "2022-10-02T00:00:00",
          "2022-10-09T00:00:00",
          "2022-10-16T00:00:00",
          "2022-10-23T00:00:00",
          "2022-10-30T00:00:00",
          "2022-11-06T00:00:00",
          "2022-11-13T00:00:00",
          "2022-11-20T00:00:00",
          "2022-11-27T00:00:00",
          "2022-12-04T00:00:00",
          "2022-12-11T00:00:00",
          "2022-12-18T00:00:00",
          "2022-12-25T00:00:00"
         ],
         "xaxis": "x",
         "y": [
          41.57142857142857,
          32.142857142857146,
          29.857142857142858,
          26.142857142857142,
          49.57142857142857,
          40.57142857142857,
          39,
          42.57142857142857,
          31.714285714285715,
          54.42857142857143,
          48.142857142857146,
          56.714285714285715,
          54.285714285714285,
          69.85714285714286,
          66.57142857142857,
          63.285714285714285,
          67.28571428571429,
          72,
          70.28571428571429,
          78.28571428571429,
          81.14285714285714,
          77,
          74.85714285714286,
          79,
          86.28571428571429,
          89.57142857142857,
          87.14285714285714,
          90,
          82.42857142857143,
          86.14285714285714,
          86.71428571428571,
          85,
          84.71428571428571,
          77.71428571428571,
          79.14285714285714,
          86.42857142857143,
          84.57142857142857,
          82.42857142857143,
          83.28571428571429,
          70.14285714285714,
          63.857142857142854,
          65.57142857142857,
          57.42857142857143,
          47.57142857142857,
          40.857142857142854,
          49.42857142857143,
          47.57142857142857,
          43.42857142857143,
          45.714285714285715,
          35.42857142857143,
          54.833333333333336,
          48.857142857142854,
          49.42857142857143,
          46.142857142857146,
          35.857142857142854,
          35.42857142857143,
          45.285714285714285,
          36.714285714285715,
          41.57142857142857,
          39,
          50.857142857142854,
          57,
          52.42857142857143,
          57.57142857142857,
          58.857142857142854,
          60.42857142857143,
          52.42857142857143,
          60.42857142857143,
          64,
          59.714285714285715,
          66,
          70.28571428571429,
          82.71428571428571,
          81.28571428571429,
          82.28571428571429,
          80.71428571428571,
          83.28571428571429,
          88.71428571428571,
          91.71428571428571,
          88,
          88,
          87.85714285714286,
          79.28571428571429,
          87.85714285714286,
          83,
          88.71428571428571,
          81.57142857142857,
          83.42857142857143,
          72.85714285714286,
          75.85714285714286,
          67.28571428571429,
          70.85714285714286,
          66.71428571428571,
          63.42857142857143,
          50.57142857142857,
          63.285714285714285,
          64.85714285714286,
          53.285714285714285,
          49.42857142857143,
          41.857142857142854,
          48.142857142857146,
          37.142857142857146,
          40.142857142857146,
          44.57142857142857,
          37.57142857142857,
          39,
          37.142857142857146,
          33.42857142857143,
          33,
          25.833333333333332,
          25.428571428571427,
          45.142857142857146,
          49,
          60.714285714285715,
          54.142857142857146,
          69.28571428571429,
          56.857142857142854,
          76.71428571428571,
          59.714285714285715,
          57.857142857142854,
          70.85714285714286,
          66.85714285714286,
          63.42857142857143,
          81.42857142857143,
          79,
          77,
          85.28571428571429,
          83.71428571428571,
          83,
          86.14285714285714,
          86,
          84.28571428571429,
          83.42857142857143,
          86.57142857142857,
          83.28571428571429,
          88.28571428571429,
          83.57142857142857,
          90.71428571428571,
          81.71428571428571,
          81,
          86.42857142857143,
          73.71428571428571,
          79,
          78.14285714285714,
          78.71428571428571,
          67,
          61,
          53.285714285714285,
          62,
          50.857142857142854,
          44.142857142857146,
          49.714285714285715,
          50.57142857142857,
          53.42857142857143,
          47.42857142857143,
          54.42857142857143,
          34.142857142857146,
          37,
          32,
          28.571428571428573,
          35,
          40.42857142857143,
          39,
          47.42857142857143,
          56.57142857142857,
          52,
          64.57142857142857,
          57.42857142857143,
          52.42857142857143,
          53.857142857142854,
          65.14285714285714,
          61.142857142857146,
          66,
          68,
          80.71428571428571,
          80.28571428571429,
          73.71428571428571,
          84.14285714285714,
          79.71428571428571,
          89.71428571428571,
          88.14285714285714,
          88,
          85.71428571428571,
          86.28571428571429,
          86.42857142857143,
          84,
          87,
          83.71428571428571,
          81.85714285714286,
          83.14285714285714,
          86,
          81.57142857142857,
          79.28571428571429,
          79.57142857142857,
          66.85714285714286,
          68.71428571428571,
          68.14285714285714,
          60.142857142857146,
          69.71428571428571,
          69.14285714285714,
          64.42857142857143,
          38.42857142857143,
          53,
          52.57142857142857,
          48.142857142857146,
          43.142857142857146,
          32.714285714285715,
          42.285714285714285
         ],
         "yaxis": "y"
        },
        {
         "hovertemplate": "Metric=smoothed_reports<br>Week of Observation=%{x}<br>Value=%{y}<extra></extra>",
         "legendgroup": "smoothed_reports",
         "line": {
          "color": "#00cc96",
          "dash": "solid"
         },
         "marker": {
          "symbol": "circle"
         },
         "mode": "lines",
         "name": "smoothed_reports",
         "orientation": "v",
         "showlegend": true,
         "type": "scatter",
         "x": [
          "2019-01-06T00:00:00",
          "2019-01-13T00:00:00",
          "2019-01-20T00:00:00",
          "2019-01-27T00:00:00",
          "2019-02-03T00:00:00",
          "2019-02-10T00:00:00",
          "2019-02-17T00:00:00",
          "2019-02-24T00:00:00",
          "2019-03-03T00:00:00",
          "2019-03-10T00:00:00",
          "2019-03-17T00:00:00",
          "2019-03-24T00:00:00",
          "2019-03-31T00:00:00",
          "2019-04-07T00:00:00",
          "2019-04-14T00:00:00",
          "2019-04-21T00:00:00",
          "2019-04-28T00:00:00",
          "2019-05-05T00:00:00",
          "2019-05-12T00:00:00",
          "2019-05-19T00:00:00",
          "2019-05-26T00:00:00",
          "2019-06-02T00:00:00",
          "2019-06-09T00:00:00",
          "2019-06-16T00:00:00",
          "2019-06-23T00:00:00",
          "2019-06-30T00:00:00",
          "2019-07-07T00:00:00",
          "2019-07-14T00:00:00",
          "2019-07-21T00:00:00",
          "2019-07-28T00:00:00",
          "2019-08-04T00:00:00",
          "2019-08-11T00:00:00",
          "2019-08-18T00:00:00",
          "2019-08-25T00:00:00",
          "2019-09-01T00:00:00",
          "2019-09-08T00:00:00",
          "2019-09-15T00:00:00",
          "2019-09-22T00:00:00",
          "2019-09-29T00:00:00",
          "2019-10-06T00:00:00",
          "2019-10-13T00:00:00",
          "2019-10-20T00:00:00",
          "2019-10-27T00:00:00",
          "2019-11-03T00:00:00",
          "2019-11-10T00:00:00",
          "2019-11-17T00:00:00",
          "2019-11-24T00:00:00",
          "2019-12-01T00:00:00",
          "2019-12-08T00:00:00",
          "2019-12-15T00:00:00",
          "2019-12-22T00:00:00",
          "2019-12-29T00:00:00",
          "2020-01-05T00:00:00",
          "2020-01-12T00:00:00",
          "2020-01-19T00:00:00",
          "2020-01-26T00:00:00",
          "2020-02-02T00:00:00",
          "2020-02-09T00:00:00",
          "2020-02-16T00:00:00",
          "2020-02-23T00:00:00",
          "2020-03-01T00:00:00",
          "2020-03-08T00:00:00",
          "2020-03-15T00:00:00",
          "2020-03-22T00:00:00",
          "2020-03-29T00:00:00",
          "2020-04-05T00:00:00",
          "2020-04-12T00:00:00",
          "2020-04-19T00:00:00",
          "2020-04-26T00:00:00",
          "2020-05-03T00:00:00",
          "2020-05-10T00:00:00",
          "2020-05-17T00:00:00",
          "2020-05-24T00:00:00",
          "2020-05-31T00:00:00",
          "2020-06-07T00:00:00",
          "2020-06-14T00:00:00",
          "2020-06-21T00:00:00",
          "2020-06-28T00:00:00",
          "2020-07-05T00:00:00",
          "2020-07-12T00:00:00",
          "2020-07-19T00:00:00",
          "2020-07-26T00:00:00",
          "2020-08-02T00:00:00",
          "2020-08-09T00:00:00",
          "2020-08-16T00:00:00",
          "2020-08-23T00:00:00",
          "2020-08-30T00:00:00",
          "2020-09-06T00:00:00",
          "2020-09-13T00:00:00",
          "2020-09-20T00:00:00",
          "2020-09-27T00:00:00",
          "2020-10-04T00:00:00",
          "2020-10-11T00:00:00",
          "2020-10-18T00:00:00",
          "2020-10-25T00:00:00",
          "2020-11-01T00:00:00",
          "2020-11-08T00:00:00",
          "2020-11-15T00:00:00",
          "2020-11-22T00:00:00",
          "2020-11-29T00:00:00",
          "2020-12-06T00:00:00",
          "2020-12-13T00:00:00",
          "2020-12-20T00:00:00",
          "2020-12-27T00:00:00",
          "2021-01-03T00:00:00",
          "2021-01-10T00:00:00",
          "2021-01-17T00:00:00",
          "2021-01-24T00:00:00",
          "2021-01-31T00:00:00",
          "2021-02-07T00:00:00",
          "2021-02-14T00:00:00",
          "2021-02-21T00:00:00",
          "2021-02-28T00:00:00",
          "2021-03-07T00:00:00",
          "2021-03-14T00:00:00",
          "2021-03-21T00:00:00",
          "2021-03-28T00:00:00",
          "2021-04-04T00:00:00",
          "2021-04-11T00:00:00",
          "2021-04-18T00:00:00",
          "2021-04-25T00:00:00",
          "2021-05-02T00:00:00",
          "2021-05-09T00:00:00",
          "2021-05-16T00:00:00",
          "2021-05-23T00:00:00",
          "2021-05-30T00:00:00",
          "2021-06-06T00:00:00",
          "2021-06-13T00:00:00",
          "2021-06-20T00:00:00",
          "2021-06-27T00:00:00",
          "2021-07-04T00:00:00",
          "2021-07-11T00:00:00",
          "2021-07-18T00:00:00",
          "2021-07-25T00:00:00",
          "2021-08-01T00:00:00",
          "2021-08-08T00:00:00",
          "2021-08-15T00:00:00",
          "2021-08-22T00:00:00",
          "2021-08-29T00:00:00",
          "2021-09-05T00:00:00",
          "2021-09-12T00:00:00",
          "2021-09-19T00:00:00",
          "2021-09-26T00:00:00",
          "2021-10-03T00:00:00",
          "2021-10-10T00:00:00",
          "2021-10-17T00:00:00",
          "2021-10-24T00:00:00",
          "2021-10-31T00:00:00",
          "2021-11-07T00:00:00",
          "2021-11-14T00:00:00",
          "2021-11-21T00:00:00",
          "2021-11-28T00:00:00",
          "2021-12-05T00:00:00",
          "2021-12-12T00:00:00",
          "2021-12-19T00:00:00",
          "2021-12-26T00:00:00",
          "2022-01-02T00:00:00",
          "2022-01-09T00:00:00",
          "2022-01-16T00:00:00",
          "2022-01-23T00:00:00",
          "2022-01-30T00:00:00",
          "2022-02-06T00:00:00",
          "2022-02-13T00:00:00",
          "2022-02-20T00:00:00",
          "2022-02-27T00:00:00",
          "2022-03-06T00:00:00",
          "2022-03-13T00:00:00",
          "2022-03-20T00:00:00",
          "2022-03-27T00:00:00",
          "2022-04-03T00:00:00",
          "2022-04-10T00:00:00",
          "2022-04-17T00:00:00",
          "2022-04-24T00:00:00",
          "2022-05-01T00:00:00",
          "2022-05-08T00:00:00",
          "2022-05-15T00:00:00",
          "2022-05-22T00:00:00",
          "2022-05-29T00:00:00",
          "2022-06-05T00:00:00",
          "2022-06-12T00:00:00",
          "2022-06-19T00:00:00",
          "2022-06-26T00:00:00",
          "2022-07-03T00:00:00",
          "2022-07-10T00:00:00",
          "2022-07-17T00:00:00",
          "2022-07-24T00:00:00",
          "2022-07-31T00:00:00",
          "2022-08-07T00:00:00",
          "2022-08-14T00:00:00",
          "2022-08-21T00:00:00",
          "2022-08-28T00:00:00",
          "2022-09-04T00:00:00",
          "2022-09-11T00:00:00",
          "2022-09-18T00:00:00",
          "2022-09-25T00:00:00",
          "2022-10-02T00:00:00",
          "2022-10-09T00:00:00",
          "2022-10-16T00:00:00",
          "2022-10-23T00:00:00",
          "2022-10-30T00:00:00",
          "2022-11-06T00:00:00",
          "2022-11-13T00:00:00",
          "2022-11-20T00:00:00",
          "2022-11-27T00:00:00",
          "2022-12-04T00:00:00",
          "2022-12-11T00:00:00",
          "2022-12-18T00:00:00",
          "2022-12-25T00:00:00"
         ],
         "xaxis": "x",
         "y": [
          130,
          95,
          96,
          81,
          110,
          118,
          104,
          121,
          121,
          114,
          147,
          145,
          154,
          177,
          191,
          176,
          159,
          166,
          172,
          182,
          193,
          165,
          176,
          175,
          162,
          189,
          174,
          177,
          193,
          186,
          194,
          154,
          150,
          182,
          178,
          171,
          151,
          207,
          178,
          182,
          196,
          184,
          199,
          175,
          166,
          141,
          149,
          147,
          123,
          139,
          149,
          142,
          147,
          149,
          142,
          117,
          112,
          112,
          146,
          98,
          159,
          151,
          157,
          131,
          161,
          183,
          130,
          163,
          160,
          166,
          169,
          179,
          169,
          213,
          205,
          160,
          209,
          190.6,
          154,
          182,
          164,
          170,
          155,
          157,
          184,
          159,
          151,
          160,
          199,
          173,
          183,
          190,
          192,
          174,
          161,
          177,
          156,
          148,
          136,
          121,
          118,
          99,
          129,
          126.6,
          127,
          161,
          164,
          179,
          129,
          138,
          114,
          180,
          204,
          223,
          197,
          234,
          224,
          244,
          219,
          223,
          243,
          216,
          260,
          274,
          214,
          218,
          224,
          242,
          251,
          261.6,
          259.4,
          250,
          231,
          212,
          247,
          233,
          201,
          203,
          230,
          250,
          205,
          230,
          274,
          228,
          230,
          259,
          232,
          275,
          267,
          235,
          206,
          238,
          224,
          178,
          226,
          179.4,
          128,
          158,
          113,
          87,
          143,
          176,
          206,
          207,
          225,
          213,
          222,
          231,
          226,
          237,
          209,
          213,
          239,
          231,
          238,
          257,
          257,
          273,
          245,
          232,
          256,
          286,
          258.2,
          275,
          199,
          278,
          278,
          248,
          278,
          252,
          259,
          264,
          277,
          279,
          267,
          293,
          276,
          248,
          267,
          250,
          243,
          225,
          227,
          250,
          223,
          256,
          237,
          227.2
         ],
         "yaxis": "y"
        },
        {
         "hovertemplate": "Metric=rolling_avg<br>Week of Observation=%{x}<br>Value=%{y}<extra></extra>",
         "legendgroup": "rolling_avg",
         "line": {
          "color": "#ab63fa",
          "dash": "solid"
         },
         "marker": {
          "symbol": "circle"
         },
         "mode": "lines",
         "name": "rolling_avg",
         "orientation": "v",
         "showlegend": true,
         "type": "scatter",
         "x": [
          "2019-01-06T00:00:00",
          "2019-01-13T00:00:00",
          "2019-01-20T00:00:00",
          "2019-01-27T00:00:00",
          "2019-02-03T00:00:00",
          "2019-02-10T00:00:00",
          "2019-02-17T00:00:00",
          "2019-02-24T00:00:00",
          "2019-03-03T00:00:00",
          "2019-03-10T00:00:00",
          "2019-03-17T00:00:00",
          "2019-03-24T00:00:00",
          "2019-03-31T00:00:00",
          "2019-04-07T00:00:00",
          "2019-04-14T00:00:00",
          "2019-04-21T00:00:00",
          "2019-04-28T00:00:00",
          "2019-05-05T00:00:00",
          "2019-05-12T00:00:00",
          "2019-05-19T00:00:00",
          "2019-05-26T00:00:00",
          "2019-06-02T00:00:00",
          "2019-06-09T00:00:00",
          "2019-06-16T00:00:00",
          "2019-06-23T00:00:00",
          "2019-06-30T00:00:00",
          "2019-07-07T00:00:00",
          "2019-07-14T00:00:00",
          "2019-07-21T00:00:00",
          "2019-07-28T00:00:00",
          "2019-08-04T00:00:00",
          "2019-08-11T00:00:00",
          "2019-08-18T00:00:00",
          "2019-08-25T00:00:00",
          "2019-09-01T00:00:00",
          "2019-09-08T00:00:00",
          "2019-09-15T00:00:00",
          "2019-09-22T00:00:00",
          "2019-09-29T00:00:00",
          "2019-10-06T00:00:00",
          "2019-10-13T00:00:00",
          "2019-10-20T00:00:00",
          "2019-10-27T00:00:00",
          "2019-11-03T00:00:00",
          "2019-11-10T00:00:00",
          "2019-11-17T00:00:00",
          "2019-11-24T00:00:00",
          "2019-12-01T00:00:00",
          "2019-12-08T00:00:00",
          "2019-12-15T00:00:00",
          "2019-12-22T00:00:00",
          "2019-12-29T00:00:00",
          "2020-01-05T00:00:00",
          "2020-01-12T00:00:00",
          "2020-01-19T00:00:00",
          "2020-01-26T00:00:00",
          "2020-02-02T00:00:00",
          "2020-02-09T00:00:00",
          "2020-02-16T00:00:00",
          "2020-02-23T00:00:00",
          "2020-03-01T00:00:00",
          "2020-03-08T00:00:00",
          "2020-03-15T00:00:00",
          "2020-03-22T00:00:00",
          "2020-03-29T00:00:00",
          "2020-04-05T00:00:00",
          "2020-04-12T00:00:00",
          "2020-04-19T00:00:00",
          "2020-04-26T00:00:00",
          "2020-05-03T00:00:00",
          "2020-05-10T00:00:00",
          "2020-05-17T00:00:00",
          "2020-05-24T00:00:00",
          "2020-05-31T00:00:00",
          "2020-06-07T00:00:00",
          "2020-06-14T00:00:00",
          "2020-06-21T00:00:00",
          "2020-06-28T00:00:00",
          "2020-07-05T00:00:00",
          "2020-07-12T00:00:00",
          "2020-07-19T00:00:00",
          "2020-07-26T00:00:00",
          "2020-08-02T00:00:00",
          "2020-08-09T00:00:00",
          "2020-08-16T00:00:00",
          "2020-08-23T00:00:00",
          "2020-08-30T00:00:00",
          "2020-09-06T00:00:00",
          "2020-09-13T00:00:00",
          "2020-09-20T00:00:00",
          "2020-09-27T00:00:00",
          "2020-10-04T00:00:00",
          "2020-10-11T00:00:00",
          "2020-10-18T00:00:00",
          "2020-10-25T00:00:00",
          "2020-11-01T00:00:00",
          "2020-11-08T00:00:00",
          "2020-11-15T00:00:00",
          "2020-11-22T00:00:00",
          "2020-11-29T00:00:00",
          "2020-12-06T00:00:00",
          "2020-12-13T00:00:00",
          "2020-12-20T00:00:00",
          "2020-12-27T00:00:00",
          "2021-01-03T00:00:00",
          "2021-01-10T00:00:00",
          "2021-01-17T00:00:00",
          "2021-01-24T00:00:00",
          "2021-01-31T00:00:00",
          "2021-02-07T00:00:00",
          "2021-02-14T00:00:00",
          "2021-02-21T00:00:00",
          "2021-02-28T00:00:00",
          "2021-03-07T00:00:00",
          "2021-03-14T00:00:00",
          "2021-03-21T00:00:00",
          "2021-03-28T00:00:00",
          "2021-04-04T00:00:00",
          "2021-04-11T00:00:00",
          "2021-04-18T00:00:00",
          "2021-04-25T00:00:00",
          "2021-05-02T00:00:00",
          "2021-05-09T00:00:00",
          "2021-05-16T00:00:00",
          "2021-05-23T00:00:00",
          "2021-05-30T00:00:00",
          "2021-06-06T00:00:00",
          "2021-06-13T00:00:00",
          "2021-06-20T00:00:00",
          "2021-06-27T00:00:00",
          "2021-07-04T00:00:00",
          "2021-07-11T00:00:00",
          "2021-07-18T00:00:00",
          "2021-07-25T00:00:00",
          "2021-08-01T00:00:00",
          "2021-08-08T00:00:00",
          "2021-08-15T00:00:00",
          "2021-08-22T00:00:00",
          "2021-08-29T00:00:00",
          "2021-09-05T00:00:00",
          "2021-09-12T00:00:00",
          "2021-09-19T00:00:00",
          "2021-09-26T00:00:00",
          "2021-10-03T00:00:00",
          "2021-10-10T00:00:00",
          "2021-10-17T00:00:00",
          "2021-10-24T00:00:00",
          "2021-10-31T00:00:00",
          "2021-11-07T00:00:00",
          "2021-11-14T00:00:00",
          "2021-11-21T00:00:00",
          "2021-11-28T00:00:00",
          "2021-12-05T00:00:00",
          "2021-12-12T00:00:00",
          "2021-12-19T00:00:00",
          "2021-12-26T00:00:00",
          "2022-01-02T00:00:00",
          "2022-01-09T00:00:00",
          "2022-01-16T00:00:00",
          "2022-01-23T00:00:00",
          "2022-01-30T00:00:00",
          "2022-02-06T00:00:00",
          "2022-02-13T00:00:00",
          "2022-02-20T00:00:00",
          "2022-02-27T00:00:00",
          "2022-03-06T00:00:00",
          "2022-03-13T00:00:00",
          "2022-03-20T00:00:00",
          "2022-03-27T00:00:00",
          "2022-04-03T00:00:00",
          "2022-04-10T00:00:00",
          "2022-04-17T00:00:00",
          "2022-04-24T00:00:00",
          "2022-05-01T00:00:00",
          "2022-05-08T00:00:00",
          "2022-05-15T00:00:00",
          "2022-05-22T00:00:00",
          "2022-05-29T00:00:00",
          "2022-06-05T00:00:00",
          "2022-06-12T00:00:00",
          "2022-06-19T00:00:00",
          "2022-06-26T00:00:00",
          "2022-07-03T00:00:00",
          "2022-07-10T00:00:00",
          "2022-07-17T00:00:00",
          "2022-07-24T00:00:00",
          "2022-07-31T00:00:00",
          "2022-08-07T00:00:00",
          "2022-08-14T00:00:00",
          "2022-08-21T00:00:00",
          "2022-08-28T00:00:00",
          "2022-09-04T00:00:00",
          "2022-09-11T00:00:00",
          "2022-09-18T00:00:00",
          "2022-09-25T00:00:00",
          "2022-10-02T00:00:00",
          "2022-10-09T00:00:00",
          "2022-10-16T00:00:00",
          "2022-10-23T00:00:00",
          "2022-10-30T00:00:00",
          "2022-11-06T00:00:00",
          "2022-11-13T00:00:00",
          "2022-11-20T00:00:00",
          "2022-11-27T00:00:00",
          "2022-12-04T00:00:00",
          "2022-12-11T00:00:00",
          "2022-12-18T00:00:00",
          "2022-12-25T00:00:00"
         ],
         "xaxis": "x",
         "y": [
          121.6,
          111.2,
          102.4,
          100,
          101.8,
          106.8,
          114.8,
          115.6,
          121.4,
          129.6,
          136.2,
          147.4,
          162.8,
          168.6,
          171.4,
          173.8,
          172.8,
          171,
          174.4,
          175.6,
          177.6,
          178.2,
          174.2,
          187,
          188.8,
          189,
          192.6,
          197.4,
          184.8,
          180.8,
          175.4,
          173.2,
          171.6,
          167,
          166.4,
          177.8,
          177,
          177.8,
          182.8,
          189.4,
          187.8,
          187.2,
          184,
          173,
          166,
          155.6,
          145.2,
          139.8,
          141.4,
          136.8,
          136.8,
          142,
          142.6,
          136.2,
          133.4,
          126.4,
          125.8,
          117,
          125.4,
          133.2,
          142.2,
          139.2,
          151.8,
          156.6,
          152.4,
          153.6,
          159.4,
          160.4,
          157.6,
          167.4,
          168.6,
          179.2,
          187,
          185.2,
          191.2,
          207,
          195.2,
          190.6,
          191.4,
          183.6,
          165,
          165.6,
          166,
          165,
          161.2,
          162.2,
          170.6,
          168.4,
          173.2,
          181,
          187.4,
          182.4,
          180,
          178.8,
          172,
          163.2,
          155.6,
          147.6,
          135.8,
          124.4,
          120.6,
          116.8,
          118,
          126.6,
          139.6,
          149.6,
          152,
          154.2,
          144.8,
          148,
          153,
          171.8,
          183.6,
          207.6,
          216.4,
          224.4,
          223.6,
          228.8,
          230.6,
          229,
          232.2,
          243.2,
          241.4,
          236.4,
          238,
          234.4,
          229.8,
          243.6,
          256.4,
          261.6,
          259.4,
          251.6,
          244.4,
          234.6,
          224.8,
          219.2,
          222.8,
          223.4,
          217.8,
          223.6,
          237.8,
          237.4,
          233.4,
          244.2,
          244.6,
          244.8,
          252.6,
          253.6,
          243,
          244.2,
          234,
          216.2,
          214.4,
          214.6,
          192.6,
          179.4,
          166.4,
          138.6,
          125.8,
          135.4,
          145,
          163.8,
          191.4,
          205.4,
          214.6,
          219.6,
          223.4,
          225.8,
          225,
          223.2,
          224.8,
          225.8,
          226,
          235.6,
          244.4,
          251.2,
          254,
          252.8,
          252.6,
          258.4,
          258.8,
          264.8,
          258.2,
          262.6,
          261,
          255.6,
          256.2,
          266.8,
          263,
          260.2,
          266,
          266.2,
          269.2,
          276,
          278.4,
          272.6,
          270.2,
          266.8,
          256.8,
          246.6,
          242.4,
          239,
          233.6,
          236.2,
          238.6,
          233.4,
          228,
          227.2
         ],
         "yaxis": "y"
        }
       ],
       "layout": {
        "legend": {
         "title": {
          "text": "Metric"
         },
         "tracegroupgap": 0
        },
        "template": {
         "data": {
          "bar": [
           {
            "error_x": {
             "color": "#2a3f5f"
            },
            "error_y": {
             "color": "#2a3f5f"
            },
            "marker": {
             "line": {
              "color": "#E5ECF6",
              "width": 0.5
             },
             "pattern": {
              "fillmode": "overlay",
              "size": 10,
              "solidity": 0.2
             }
            },
            "type": "bar"
           }
          ],
          "barpolar": [
           {
            "marker": {
             "line": {
              "color": "#E5ECF6",
              "width": 0.5
             },
             "pattern": {
              "fillmode": "overlay",
              "size": 10,
              "solidity": 0.2
             }
            },
            "type": "barpolar"
           }
          ],
          "carpet": [
           {
            "aaxis": {
             "endlinecolor": "#2a3f5f",
             "gridcolor": "white",
             "linecolor": "white",
             "minorgridcolor": "white",
             "startlinecolor": "#2a3f5f"
            },
            "baxis": {
             "endlinecolor": "#2a3f5f",
             "gridcolor": "white",
             "linecolor": "white",
             "minorgridcolor": "white",
             "startlinecolor": "#2a3f5f"
            },
            "type": "carpet"
           }
          ],
          "choropleth": [
           {
            "colorbar": {
             "outlinewidth": 0,
             "ticks": ""
            },
            "type": "choropleth"
           }
          ],
          "contour": [
           {
            "colorbar": {
             "outlinewidth": 0,
             "ticks": ""
            },
            "colorscale": [
             [
              0,
              "#0d0887"
             ],
             [
              0.1111111111111111,
              "#46039f"
             ],
             [
              0.2222222222222222,
              "#7201a8"
             ],
             [
              0.3333333333333333,
              "#9c179e"
             ],
             [
              0.4444444444444444,
              "#bd3786"
             ],
             [
              0.5555555555555556,
              "#d8576b"
             ],
             [
              0.6666666666666666,
              "#ed7953"
             ],
             [
              0.7777777777777778,
              "#fb9f3a"
             ],
             [
              0.8888888888888888,
              "#fdca26"
             ],
             [
              1,
              "#f0f921"
             ]
            ],
            "type": "contour"
           }
          ],
          "contourcarpet": [
           {
            "colorbar": {
             "outlinewidth": 0,
             "ticks": ""
            },
            "type": "contourcarpet"
           }
          ],
          "heatmap": [
           {
            "colorbar": {
             "outlinewidth": 0,
             "ticks": ""
            },
            "colorscale": [
             [
              0,
              "#0d0887"
             ],
             [
              0.1111111111111111,
              "#46039f"
             ],
             [
              0.2222222222222222,
              "#7201a8"
             ],
             [
              0.3333333333333333,
              "#9c179e"
             ],
             [
              0.4444444444444444,
              "#bd3786"
             ],
             [
              0.5555555555555556,
              "#d8576b"
             ],
             [
              0.6666666666666666,
              "#ed7953"
             ],
             [
              0.7777777777777778,
              "#fb9f3a"
             ],
             [
              0.8888888888888888,
              "#fdca26"
             ],
             [
              1,
              "#f0f921"
             ]
            ],
            "type": "heatmap"
           }
          ],
          "heatmapgl": [
           {
            "colorbar": {
             "outlinewidth": 0,
             "ticks": ""
            },
            "colorscale": [
             [
              0,
              "#0d0887"
             ],
             [
              0.1111111111111111,
              "#46039f"
             ],
             [
              0.2222222222222222,
              "#7201a8"
             ],
             [
              0.3333333333333333,
              "#9c179e"
             ],
             [
              0.4444444444444444,
              "#bd3786"
             ],
             [
              0.5555555555555556,
              "#d8576b"
             ],
             [
              0.6666666666666666,
              "#ed7953"
             ],
             [
              0.7777777777777778,
              "#fb9f3a"
             ],
             [
              0.8888888888888888,
              "#fdca26"
             ],
             [
              1,
              "#f0f921"
             ]
            ],
            "type": "heatmapgl"
           }
          ],
          "histogram": [
           {
            "marker": {
             "pattern": {
              "fillmode": "overlay",
              "size": 10,
              "solidity": 0.2
             }
            },
            "type": "histogram"
           }
          ],
          "histogram2d": [
           {
            "colorbar": {
             "outlinewidth": 0,
             "ticks": ""
            },
            "colorscale": [
             [
              0,
              "#0d0887"
             ],
             [
              0.1111111111111111,
              "#46039f"
             ],
             [
              0.2222222222222222,
              "#7201a8"
             ],
             [
              0.3333333333333333,
              "#9c179e"
             ],
             [
              0.4444444444444444,
              "#bd3786"
             ],
             [
              0.5555555555555556,
              "#d8576b"
             ],
             [
              0.6666666666666666,
              "#ed7953"
             ],
             [
              0.7777777777777778,
              "#fb9f3a"
             ],
             [
              0.8888888888888888,
              "#fdca26"
             ],
             [
              1,
              "#f0f921"
             ]
            ],
            "type": "histogram2d"
           }
          ],
          "histogram2dcontour": [
           {
            "colorbar": {
             "outlinewidth": 0,
             "ticks": ""
            },
            "colorscale": [
             [
              0,
              "#0d0887"
             ],
             [
              0.1111111111111111,
              "#46039f"
             ],
             [
              0.2222222222222222,
              "#7201a8"
             ],
             [
              0.3333333333333333,
              "#9c179e"
             ],
             [
              0.4444444444444444,
              "#bd3786"
             ],
             [
              0.5555555555555556,
              "#d8576b"
             ],
             [
              0.6666666666666666,
              "#ed7953"
             ],
             [
              0.7777777777777778,
              "#fb9f3a"
             ],
             [
              0.8888888888888888,
              "#fdca26"
             ],
             [
              1,
              "#f0f921"
             ]
            ],
            "type": "histogram2dcontour"
           }
          ],
          "mesh3d": [
           {
            "colorbar": {
             "outlinewidth": 0,
             "ticks": ""
            },
            "type": "mesh3d"
           }
          ],
          "parcoords": [
           {
            "line": {
             "colorbar": {
              "outlinewidth": 0,
              "ticks": ""
             }
            },
            "type": "parcoords"
           }
          ],
          "pie": [
           {
            "automargin": true,
            "type": "pie"
           }
          ],
          "scatter": [
           {
            "fillpattern": {
             "fillmode": "overlay",
             "size": 10,
             "solidity": 0.2
            },
            "type": "scatter"
           }
          ],
          "scatter3d": [
           {
            "line": {
             "colorbar": {
              "outlinewidth": 0,
              "ticks": ""
             }
            },
            "marker": {
             "colorbar": {
              "outlinewidth": 0,
              "ticks": ""
             }
            },
            "type": "scatter3d"
           }
          ],
          "scattercarpet": [
           {
            "marker": {
             "colorbar": {
              "outlinewidth": 0,
              "ticks": ""
             }
            },
            "type": "scattercarpet"
           }
          ],
          "scattergeo": [
           {
            "marker": {
             "colorbar": {
              "outlinewidth": 0,
              "ticks": ""
             }
            },
            "type": "scattergeo"
           }
          ],
          "scattergl": [
           {
            "marker": {
             "colorbar": {
              "outlinewidth": 0,
              "ticks": ""
             }
            },
            "type": "scattergl"
           }
          ],
          "scattermapbox": [
           {
            "marker": {
             "colorbar": {
              "outlinewidth": 0,
              "ticks": ""
             }
            },
            "type": "scattermapbox"
           }
          ],
          "scatterpolar": [
           {
            "marker": {
             "colorbar": {
              "outlinewidth": 0,
              "ticks": ""
             }
            },
            "type": "scatterpolar"
           }
          ],
          "scatterpolargl": [
           {
            "marker": {
             "colorbar": {
              "outlinewidth": 0,
              "ticks": ""
             }
            },
            "type": "scatterpolargl"
           }
          ],
          "scatterternary": [
           {
            "marker": {
             "colorbar": {
              "outlinewidth": 0,
              "ticks": ""
             }
            },
            "type": "scatterternary"
           }
          ],
          "surface": [
           {
            "colorbar": {
             "outlinewidth": 0,
             "ticks": ""
            },
            "colorscale": [
             [
              0,
              "#0d0887"
             ],
             [
              0.1111111111111111,
              "#46039f"
             ],
             [
              0.2222222222222222,
              "#7201a8"
             ],
             [
              0.3333333333333333,
              "#9c179e"
             ],
             [
              0.4444444444444444,
              "#bd3786"
             ],
             [
              0.5555555555555556,
              "#d8576b"
             ],
             [
              0.6666666666666666,
              "#ed7953"
             ],
             [
              0.7777777777777778,
              "#fb9f3a"
             ],
             [
              0.8888888888888888,
              "#fdca26"
             ],
             [
              1,
              "#f0f921"
             ]
            ],
            "type": "surface"
           }
          ],
          "table": [
           {
            "cells": {
             "fill": {
              "color": "#EBF0F8"
             },
             "line": {
              "color": "white"
             }
            },
            "header": {
             "fill": {
              "color": "#C8D4E3"
             },
             "line": {
              "color": "white"
             }
            },
            "type": "table"
           }
          ]
         },
         "layout": {
          "annotationdefaults": {
           "arrowcolor": "#2a3f5f",
           "arrowhead": 0,
           "arrowwidth": 1
          },
          "autotypenumbers": "strict",
          "coloraxis": {
           "colorbar": {
            "outlinewidth": 0,
            "ticks": ""
           }
          },
          "colorscale": {
           "diverging": [
            [
             0,
             "#8e0152"
            ],
            [
             0.1,
             "#c51b7d"
            ],
            [
             0.2,
             "#de77ae"
            ],
            [
             0.3,
             "#f1b6da"
            ],
            [
             0.4,
             "#fde0ef"
            ],
            [
             0.5,
             "#f7f7f7"
            ],
            [
             0.6,
             "#e6f5d0"
            ],
            [
             0.7,
             "#b8e186"
            ],
            [
             0.8,
             "#7fbc41"
            ],
            [
             0.9,
             "#4d9221"
            ],
            [
             1,
             "#276419"
            ]
           ],
           "sequential": [
            [
             0,
             "#0d0887"
            ],
            [
             0.1111111111111111,
             "#46039f"
            ],
            [
             0.2222222222222222,
             "#7201a8"
            ],
            [
             0.3333333333333333,
             "#9c179e"
            ],
            [
             0.4444444444444444,
             "#bd3786"
            ],
            [
             0.5555555555555556,
             "#d8576b"
            ],
            [
             0.6666666666666666,
             "#ed7953"
            ],
            [
             0.7777777777777778,
             "#fb9f3a"
            ],
            [
             0.8888888888888888,
             "#fdca26"
            ],
            [
             1,
             "#f0f921"
            ]
           ],
           "sequentialminus": [
            [
             0,
             "#0d0887"
            ],
            [
             0.1111111111111111,
             "#46039f"
            ],
            [
             0.2222222222222222,
             "#7201a8"
            ],
            [
             0.3333333333333333,
             "#9c179e"
            ],
            [
             0.4444444444444444,
             "#bd3786"
            ],
            [
             0.5555555555555556,
             "#d8576b"
            ],
            [
             0.6666666666666666,
             "#ed7953"
            ],
            [
             0.7777777777777778,
             "#fb9f3a"
            ],
            [
             0.8888888888888888,
             "#fdca26"
            ],
            [
             1,
             "#f0f921"
            ]
           ]
          },
          "colorway": [
           "#636efa",
           "#EF553B",
           "#00cc96",
           "#ab63fa",
           "#FFA15A",
           "#19d3f3",
           "#FF6692",
           "#B6E880",
           "#FF97FF",
           "#FECB52"
          ],
          "font": {
           "color": "#2a3f5f"
          },
          "geo": {
           "bgcolor": "white",
           "lakecolor": "white",
           "landcolor": "#E5ECF6",
           "showlakes": true,
           "showland": true,
           "subunitcolor": "white"
          },
          "hoverlabel": {
           "align": "left"
          },
          "hovermode": "closest",
          "mapbox": {
           "style": "light"
          },
          "paper_bgcolor": "white",
          "plot_bgcolor": "#E5ECF6",
          "polar": {
           "angularaxis": {
            "gridcolor": "white",
            "linecolor": "white",
            "ticks": ""
           },
           "bgcolor": "#E5ECF6",
           "radialaxis": {
            "gridcolor": "white",
            "linecolor": "white",
            "ticks": ""
           }
          },
          "scene": {
           "xaxis": {
            "backgroundcolor": "#E5ECF6",
            "gridcolor": "white",
            "gridwidth": 2,
            "linecolor": "white",
            "showbackground": true,
            "ticks": "",
            "zerolinecolor": "white"
           },
           "yaxis": {
            "backgroundcolor": "#E5ECF6",
            "gridcolor": "white",
            "gridwidth": 2,
            "linecolor": "white",
            "showbackground": true,
            "ticks": "",
            "zerolinecolor": "white"
           },
           "zaxis": {
            "backgroundcolor": "#E5ECF6",
            "gridcolor": "white",
            "gridwidth": 2,
            "linecolor": "white",
            "showbackground": true,
            "ticks": "",
            "zerolinecolor": "white"
           }
          },
          "shapedefaults": {
           "line": {
            "color": "#2a3f5f"
           }
          },
          "ternary": {
           "aaxis": {
            "gridcolor": "white",
            "linecolor": "white",
            "ticks": ""
           },
           "baxis": {
            "gridcolor": "white",
            "linecolor": "white",
            "ticks": ""
           },
           "bgcolor": "#E5ECF6",
           "caxis": {
            "gridcolor": "white",
            "linecolor": "white",
            "ticks": ""
           }
          },
          "title": {
           "x": 0.05
          },
          "xaxis": {
           "automargin": true,
           "gridcolor": "white",
           "linecolor": "white",
           "ticks": "",
           "title": {
            "standoff": 15
           },
           "zerolinecolor": "white",
           "zerolinewidth": 2
          },
          "yaxis": {
           "automargin": true,
           "gridcolor": "white",
           "linecolor": "white",
           "ticks": "",
           "title": {
            "standoff": 15
           },
           "zerolinecolor": "white",
           "zerolinewidth": 2
          }
         }
        },
        "title": {
         "text": "Weekly Missing Pet Report Volume and Max Temperature"
        },
        "width": 720,
        "xaxis": {
         "anchor": "y",
         "domain": [
          0,
          1
         ],
         "title": {
          "text": "Week of Observation"
         }
        },
        "yaxis": {
         "anchor": "x",
         "domain": [
          0,
          1
         ],
         "title": {
          "text": "Value"
         }
        }
       }
      }
     },
     "metadata": {},
     "output_type": "display_data"
    }
   ],
   "source": [
    "line_fig = px.line(\n",
    "  weekly_summary,\n",
    "  x='week',\n",
    "  y=['reports', 'TMAX', 'smoothed_reports', 'rolling_avg'],\n",
    "  width=720,\n",
    "  labels={\n",
    "    'value': 'Value',\n",
    "    'week': 'Week of Observation',\n",
    "    'variable': 'Metric'\n",
    "  },\n",
    "  title='Weekly Missing Pet Report Volume and Max Temperature'\n",
    ")\n",
    "line_fig.show()"
   ]
  },
  {
   "cell_type": "markdown",
   "metadata": {},
   "source": [
    "### Test for relationship with linear regression"
   ]
  },
  {
   "cell_type": "code",
   "execution_count": 41,
   "metadata": {},
   "outputs": [
    {
     "name": "stdout",
     "output_type": "stream",
     "text": [
      "                            OLS Regression Results                            \n",
      "==============================================================================\n",
      "Dep. Variable:       smoothed_reports   R-squared:                       0.273\n",
      "Model:                            OLS   Adj. R-squared:                  0.266\n",
      "Method:                 Least Squares   F-statistic:                     38.49\n",
      "Date:                Tue, 07 Mar 2023   Prob (F-statistic):           6.41e-15\n",
      "Time:                        20:43:36   Log-Likelihood:                -1072.8\n",
      "No. Observations:                 208   AIC:                             2152.\n",
      "Df Residuals:                     205   BIC:                             2162.\n",
      "Df Model:                           2                                         \n",
      "Covariance Type:            nonrobust                                         \n",
      "==============================================================================\n",
      "                 coef    std err          t      P>|t|      [0.025      0.975]\n",
      "------------------------------------------------------------------------------\n",
      "const        101.8629     10.766      9.462      0.000      80.637     123.089\n",
      "TMAX           1.4187      0.163      8.700      0.000       1.097       1.740\n",
      "PRCP          -7.4555     27.084     -0.275      0.783     -60.855      45.944\n",
      "==============================================================================\n",
      "Omnibus:                       37.603   Durbin-Watson:                   0.358\n",
      "Prob(Omnibus):                  0.000   Jarque-Bera (JB):               11.081\n",
      "Skew:                           0.268   Prob(JB):                      0.00392\n",
      "Kurtosis:                       2.004   Cond. No.                         614.\n",
      "==============================================================================\n",
      "\n",
      "Notes:\n",
      "[1] Standard Errors assume that the covariance matrix of the errors is correctly specified.\n"
     ]
    }
   ],
   "source": [
    "ols_res = sm.OLS(weekly_summary['smoothed_reports'], sm.add_constant(weekly_summary[['TMAX', 'PRCP']])).fit()\n",
    "print(ols_res.summary())"
   ]
  },
  {
   "cell_type": "code",
   "execution_count": 42,
   "metadata": {},
   "outputs": [
    {
     "data": {
      "application/vnd.plotly.v1+json": {
       "config": {
        "plotlyServerURL": "https://plot.ly"
       },
       "data": [
        {
         "hovertemplate": "TMAX=%{x}<br>Missing Pet Report Volume=%{y}<extra></extra>",
         "legendgroup": "",
         "line": {
          "color": "#F58518",
          "dash": "solid"
         },
         "marker": {
          "symbol": "circle"
         },
         "mode": "lines",
         "name": "",
         "orientation": "v",
         "showlegend": false,
         "type": "scatter",
         "x": [
          41.57142857142857,
          32.142857142857146,
          29.857142857142858,
          26.142857142857142,
          49.57142857142857,
          40.57142857142857,
          39,
          42.57142857142857,
          31.714285714285715,
          54.42857142857143,
          48.142857142857146,
          56.714285714285715,
          54.285714285714285,
          69.85714285714286,
          66.57142857142857,
          63.285714285714285,
          67.28571428571429,
          72,
          70.28571428571429,
          78.28571428571429,
          81.14285714285714,
          77,
          74.85714285714286,
          79,
          86.28571428571429,
          89.57142857142857,
          87.14285714285714,
          90,
          82.42857142857143,
          86.14285714285714,
          86.71428571428571,
          85,
          84.71428571428571,
          77.71428571428571,
          79.14285714285714,
          86.42857142857143,
          84.57142857142857,
          82.42857142857143,
          83.28571428571429,
          70.14285714285714,
          63.857142857142854,
          65.57142857142857,
          57.42857142857143,
          47.57142857142857,
          40.857142857142854,
          49.42857142857143,
          47.57142857142857,
          43.42857142857143,
          45.714285714285715,
          35.42857142857143,
          54.833333333333336,
          48.857142857142854,
          49.42857142857143,
          46.142857142857146,
          35.857142857142854,
          35.42857142857143,
          45.285714285714285,
          36.714285714285715,
          41.57142857142857,
          39,
          50.857142857142854,
          57,
          52.42857142857143,
          57.57142857142857,
          58.857142857142854,
          60.42857142857143,
          52.42857142857143,
          60.42857142857143,
          64,
          59.714285714285715,
          66,
          70.28571428571429,
          82.71428571428571,
          81.28571428571429,
          82.28571428571429,
          80.71428571428571,
          83.28571428571429,
          88.71428571428571,
          91.71428571428571,
          88,
          88,
          87.85714285714286,
          79.28571428571429,
          87.85714285714286,
          83,
          88.71428571428571,
          81.57142857142857,
          83.42857142857143,
          72.85714285714286,
          75.85714285714286,
          67.28571428571429,
          70.85714285714286,
          66.71428571428571,
          63.42857142857143,
          50.57142857142857,
          63.285714285714285,
          64.85714285714286,
          53.285714285714285,
          49.42857142857143,
          41.857142857142854,
          48.142857142857146,
          37.142857142857146,
          40.142857142857146,
          44.57142857142857,
          37.57142857142857,
          39,
          37.142857142857146,
          33.42857142857143,
          33,
          25.833333333333332,
          25.428571428571427,
          45.142857142857146,
          49,
          60.714285714285715,
          54.142857142857146,
          69.28571428571429,
          56.857142857142854,
          76.71428571428571,
          59.714285714285715,
          57.857142857142854,
          70.85714285714286,
          66.85714285714286,
          63.42857142857143,
          81.42857142857143,
          79,
          77,
          85.28571428571429,
          83.71428571428571,
          83,
          86.14285714285714,
          86,
          84.28571428571429,
          83.42857142857143,
          86.57142857142857,
          83.28571428571429,
          88.28571428571429,
          83.57142857142857,
          90.71428571428571,
          81.71428571428571,
          81,
          86.42857142857143,
          73.71428571428571,
          79,
          78.14285714285714,
          78.71428571428571,
          67,
          61,
          53.285714285714285,
          62,
          50.857142857142854,
          44.142857142857146,
          49.714285714285715,
          50.57142857142857,
          53.42857142857143,
          47.42857142857143,
          54.42857142857143,
          34.142857142857146,
          37,
          32,
          28.571428571428573,
          35,
          40.42857142857143,
          39,
          47.42857142857143,
          56.57142857142857,
          52,
          64.57142857142857,
          57.42857142857143,
          52.42857142857143,
          53.857142857142854,
          65.14285714285714,
          61.142857142857146,
          66,
          68,
          80.71428571428571,
          80.28571428571429,
          73.71428571428571,
          84.14285714285714,
          79.71428571428571,
          89.71428571428571,
          88.14285714285714,
          88,
          85.71428571428571,
          86.28571428571429,
          86.42857142857143,
          84,
          87,
          83.71428571428571,
          81.85714285714286,
          83.14285714285714,
          86,
          81.57142857142857,
          79.28571428571429,
          79.57142857142857,
          66.85714285714286,
          68.71428571428571,
          68.14285714285714,
          60.142857142857146,
          69.71428571428571,
          69.14285714285714,
          64.42857142857143,
          38.42857142857143,
          53,
          52.57142857142857,
          48.142857142857146,
          43.142857142857146,
          32.714285714285715,
          42.285714285714285
         ],
         "xaxis": "x",
         "y": [
          160.63794408621618,
          146.93144933718577,
          143.6461014401617,
          138.7920164632334,
          170.176938968539,
          158.37784034323303,
          156.15910366587534,
          162.18445312954432,
          145.59918924004896,
          178.50561264533258,
          170.02474062078585,
          180.2359631371382,
          178.8674264279869,
          200.62845761445016,
          194.6356779537636,
          190.92214106510957,
          196.03245985535997,
          203.64722993174584,
          200.5015763107998,
          212.64998464708506,
          215.79810947405244,
          210.46381777270977,
          206.73145075575906,
          210.71310772790486,
          223.6055182615589,
          228.28826586168466,
          225.4925397532233,
          227.9696725491718,
          218.51680970637926,
          224.07383871580356,
          224.60760767676575,
          222.1222954196796,
          221.6530482631769,
          210.34820493772375,
          212.88615272909973,
          224.47918186935203,
          220.6196246479983,
          218.7404737167189,
          219.93520184304631,
          200.99119809936252,
          192.2653607301581,
          193.81341427724956,
          181.67534770737066,
          169.15015031073466,
          159.73109287393524,
          171.79553147595894,
          169.04364363914436,
          163.11291457689597,
          165.82312644733244,
          151.95501828640056,
          179.65498480611393,
          169.13162908319063,
          171.16714211357612,
          166.55894918356356,
          152.20091033331624,
          152.104127626627,
          165.34291972291808,
          153.3849877924847,
          160.84030676223776,
          156.75554102678103,
          172.86368719938866,
          182.02589302136067,
          173.16530378812092,
          182.0697312930075,
          184.59671951647175,
          185.54802680190485,
          175.28478655276797,
          187.2414828801907,
          191.20060291500772,
          186.27072766495556,
          194.7302983551842,
          196.88034947672946,
          218.82629685549645,
          216.6611224146866,
          217.94136477903893,
          215.89303877622572,
          218.45475910794107,
          227.58346842467265,
          231.3176888461394,
          226.69791854670976,
          226.17603585591726,
          226.15442562084655,
          212.99296830144274,
          225.62189226289505,
          219.61506402677009,
          227.10418840251626,
          217.1516709055073,
          218.87044402789596,
          204.85260872523233,
          209.4814851880576,
          196.6395478834247,
          202.17496665777824,
          196.09512825530345,
          189.782828579846,
          172.34118670709086,
          191.6357357647646,
          193.27933641553471,
          177.1398560429553,
          170.8050194301691,
          160.86222589806115,
          170.05669262226294,
          154.34447453905543,
          158.46211897824728,
          163.71182314382304,
          155.12289994392265,
          156.9579037028026,
          154.4722825449638,
          149.1602188801972,
          148.2326841351035,
          138.4878031642369,
          137.53369323470443,
          165.8325415114808,
          170.8786473980243,
          187.593572697944,
          177.4079761264471,
          199.9455793132615,
          181.8445227789045,
          209.69635193575422,
          186.33463166790972,
          183.7105518370035,
          201.67438530130383,
          194.87061043276765,
          190.50707394666006,
          217.38567668225335,
          213.2905691803902,
          209.45200439260188,
          221.79274253925502,
          220.20239522428008,
          219.39140001643045,
          221.33661725593274,
          223.14692177221522,
          217.58356670616928,
          220.22307875709282,
          223.69134140033646,
          219.07249780316485,
          225.1648402773147,
          219.80801163864328,
          229.81378247144738,
          216.78985712285296,
          216.69245661465834,
          224.40462719923883,
          203.39532072896114,
          213.91895854277303,
          212.33015573156146,
          213.04498603422718,
          196.66023141623742,
          185.64511840934676,
          177.45937605772622,
          189.06614487266427,
          173.5453298975666,
          164.16887512940335,
          172.34998396973384,
          172.19207736686442,
          177.26797294961636,
          168.53210271475822,
          177.03582057738637,
          150.24813143418166,
          153.87553628330542,
          147.14415377961373,
          142.3332892728269,
          150.3245395088109,
          159.19763281372573,
          155.72242631235508,
          166.87059863794948,
          182.12082232353396,
          173.90992378699502,
          193.17221194243905,
          183.05993443804465,
          176.16879192696751,
          177.72687833971267,
          193.21605021408587,
          187.81816341054167,
          195.3906397190441,
          195.37721321764977,
          215.99954544781602,
          214.32646400159024,
          205.00357146997476,
          220.9062659590341,
          212.80218299483818,
          228.08621208641574,
          226.900590123484,
          226.59141187511946,
          219.08839978311926,
          222.82801955894968,
          222.08278175857018,
          220.8101010538502,
          225.16206017054066,
          219.91482721098626,
          216.9499260309911,
          219.46626358729628,
          223.82856447039316,
          215.39431082426728,
          214.14324035461803,
          213.87759147714758,
          196.4575598394632,
          199.34790634934512,
          197.8236253425931,
          187.14500907425403,
          200.68140204949262,
          199.74290773648724,
          191.97902831987497,
          156.37088140604524,
          177.02208090270062,
          175.88153281442635,
          170.0034392864678,
          162.65431808755233,
          148.08295699337177,
          161.54479529849715
         ],
         "yaxis": "y"
        },
        {
         "marker": {
          "color": "#4C78A8"
         },
         "mode": "markers",
         "name": "Report Volume",
         "type": "scatter",
         "x": [
          41.57142857142857,
          32.142857142857146,
          29.857142857142858,
          26.142857142857142,
          49.57142857142857,
          40.57142857142857,
          39,
          42.57142857142857,
          31.714285714285715,
          54.42857142857143,
          48.142857142857146,
          56.714285714285715,
          54.285714285714285,
          69.85714285714286,
          66.57142857142857,
          63.285714285714285,
          67.28571428571429,
          72,
          70.28571428571429,
          78.28571428571429,
          81.14285714285714,
          77,
          74.85714285714286,
          79,
          86.28571428571429,
          89.57142857142857,
          87.14285714285714,
          90,
          82.42857142857143,
          86.14285714285714,
          86.71428571428571,
          85,
          84.71428571428571,
          77.71428571428571,
          79.14285714285714,
          86.42857142857143,
          84.57142857142857,
          82.42857142857143,
          83.28571428571429,
          70.14285714285714,
          63.857142857142854,
          65.57142857142857,
          57.42857142857143,
          47.57142857142857,
          40.857142857142854,
          49.42857142857143,
          47.57142857142857,
          43.42857142857143,
          45.714285714285715,
          35.42857142857143,
          54.833333333333336,
          48.857142857142854,
          49.42857142857143,
          46.142857142857146,
          35.857142857142854,
          35.42857142857143,
          45.285714285714285,
          36.714285714285715,
          41.57142857142857,
          39,
          50.857142857142854,
          57,
          52.42857142857143,
          57.57142857142857,
          58.857142857142854,
          60.42857142857143,
          52.42857142857143,
          60.42857142857143,
          64,
          59.714285714285715,
          66,
          70.28571428571429,
          82.71428571428571,
          81.28571428571429,
          82.28571428571429,
          80.71428571428571,
          83.28571428571429,
          88.71428571428571,
          91.71428571428571,
          88,
          88,
          87.85714285714286,
          79.28571428571429,
          87.85714285714286,
          83,
          88.71428571428571,
          81.57142857142857,
          83.42857142857143,
          72.85714285714286,
          75.85714285714286,
          67.28571428571429,
          70.85714285714286,
          66.71428571428571,
          63.42857142857143,
          50.57142857142857,
          63.285714285714285,
          64.85714285714286,
          53.285714285714285,
          49.42857142857143,
          41.857142857142854,
          48.142857142857146,
          37.142857142857146,
          40.142857142857146,
          44.57142857142857,
          37.57142857142857,
          39,
          37.142857142857146,
          33.42857142857143,
          33,
          25.833333333333332,
          25.428571428571427,
          45.142857142857146,
          49,
          60.714285714285715,
          54.142857142857146,
          69.28571428571429,
          56.857142857142854,
          76.71428571428571,
          59.714285714285715,
          57.857142857142854,
          70.85714285714286,
          66.85714285714286,
          63.42857142857143,
          81.42857142857143,
          79,
          77,
          85.28571428571429,
          83.71428571428571,
          83,
          86.14285714285714,
          86,
          84.28571428571429,
          83.42857142857143,
          86.57142857142857,
          83.28571428571429,
          88.28571428571429,
          83.57142857142857,
          90.71428571428571,
          81.71428571428571,
          81,
          86.42857142857143,
          73.71428571428571,
          79,
          78.14285714285714,
          78.71428571428571,
          67,
          61,
          53.285714285714285,
          62,
          50.857142857142854,
          44.142857142857146,
          49.714285714285715,
          50.57142857142857,
          53.42857142857143,
          47.42857142857143,
          54.42857142857143,
          34.142857142857146,
          37,
          32,
          28.571428571428573,
          35,
          40.42857142857143,
          39,
          47.42857142857143,
          56.57142857142857,
          52,
          64.57142857142857,
          57.42857142857143,
          52.42857142857143,
          53.857142857142854,
          65.14285714285714,
          61.142857142857146,
          66,
          68,
          80.71428571428571,
          80.28571428571429,
          73.71428571428571,
          84.14285714285714,
          79.71428571428571,
          89.71428571428571,
          88.14285714285714,
          88,
          85.71428571428571,
          86.28571428571429,
          86.42857142857143,
          84,
          87,
          83.71428571428571,
          81.85714285714286,
          83.14285714285714,
          86,
          81.57142857142857,
          79.28571428571429,
          79.57142857142857,
          66.85714285714286,
          68.71428571428571,
          68.14285714285714,
          60.142857142857146,
          69.71428571428571,
          69.14285714285714,
          64.42857142857143,
          38.42857142857143,
          53,
          52.57142857142857,
          48.142857142857146,
          43.142857142857146,
          32.714285714285715,
          42.285714285714285
         ],
         "y": [
          130,
          95,
          96,
          81,
          110,
          118,
          104,
          121,
          121,
          114,
          147,
          145,
          154,
          177,
          191,
          176,
          159,
          166,
          172,
          182,
          193,
          165,
          176,
          175,
          162,
          189,
          174,
          177,
          193,
          186,
          194,
          154,
          150,
          182,
          178,
          171,
          151,
          207,
          178,
          182,
          196,
          184,
          199,
          175,
          166,
          141,
          149,
          147,
          123,
          139,
          149,
          142,
          147,
          149,
          142,
          117,
          112,
          112,
          146,
          98,
          159,
          151,
          157,
          131,
          161,
          183,
          130,
          163,
          160,
          166,
          169,
          179,
          169,
          213,
          205,
          160,
          209,
          190.6,
          154,
          182,
          164,
          170,
          155,
          157,
          184,
          159,
          151,
          160,
          199,
          173,
          183,
          190,
          192,
          174,
          161,
          177,
          156,
          148,
          136,
          121,
          118,
          99,
          129,
          126.6,
          127,
          161,
          164,
          179,
          129,
          138,
          114,
          180,
          204,
          223,
          197,
          234,
          224,
          244,
          219,
          223,
          243,
          216,
          260,
          274,
          214,
          218,
          224,
          242,
          251,
          261.6,
          259.4,
          250,
          231,
          212,
          247,
          233,
          201,
          203,
          230,
          250,
          205,
          230,
          274,
          228,
          230,
          259,
          232,
          275,
          267,
          235,
          206,
          238,
          224,
          178,
          226,
          179.4,
          128,
          158,
          113,
          87,
          143,
          176,
          206,
          207,
          225,
          213,
          222,
          231,
          226,
          237,
          209,
          213,
          239,
          231,
          238,
          257,
          257,
          273,
          245,
          232,
          256,
          286,
          258.2,
          275,
          199,
          278,
          278,
          248,
          278,
          252,
          259,
          264,
          277,
          279,
          267,
          293,
          276,
          248,
          267,
          250,
          243,
          225,
          227,
          250,
          223,
          256,
          237,
          227.2
         ]
        }
       ],
       "layout": {
        "legend": {
         "tracegroupgap": 0
        },
        "template": {
         "data": {
          "bar": [
           {
            "error_x": {
             "color": "#2a3f5f"
            },
            "error_y": {
             "color": "#2a3f5f"
            },
            "marker": {
             "line": {
              "color": "#E5ECF6",
              "width": 0.5
             },
             "pattern": {
              "fillmode": "overlay",
              "size": 10,
              "solidity": 0.2
             }
            },
            "type": "bar"
           }
          ],
          "barpolar": [
           {
            "marker": {
             "line": {
              "color": "#E5ECF6",
              "width": 0.5
             },
             "pattern": {
              "fillmode": "overlay",
              "size": 10,
              "solidity": 0.2
             }
            },
            "type": "barpolar"
           }
          ],
          "carpet": [
           {
            "aaxis": {
             "endlinecolor": "#2a3f5f",
             "gridcolor": "white",
             "linecolor": "white",
             "minorgridcolor": "white",
             "startlinecolor": "#2a3f5f"
            },
            "baxis": {
             "endlinecolor": "#2a3f5f",
             "gridcolor": "white",
             "linecolor": "white",
             "minorgridcolor": "white",
             "startlinecolor": "#2a3f5f"
            },
            "type": "carpet"
           }
          ],
          "choropleth": [
           {
            "colorbar": {
             "outlinewidth": 0,
             "ticks": ""
            },
            "type": "choropleth"
           }
          ],
          "contour": [
           {
            "colorbar": {
             "outlinewidth": 0,
             "ticks": ""
            },
            "colorscale": [
             [
              0,
              "#0d0887"
             ],
             [
              0.1111111111111111,
              "#46039f"
             ],
             [
              0.2222222222222222,
              "#7201a8"
             ],
             [
              0.3333333333333333,
              "#9c179e"
             ],
             [
              0.4444444444444444,
              "#bd3786"
             ],
             [
              0.5555555555555556,
              "#d8576b"
             ],
             [
              0.6666666666666666,
              "#ed7953"
             ],
             [
              0.7777777777777778,
              "#fb9f3a"
             ],
             [
              0.8888888888888888,
              "#fdca26"
             ],
             [
              1,
              "#f0f921"
             ]
            ],
            "type": "contour"
           }
          ],
          "contourcarpet": [
           {
            "colorbar": {
             "outlinewidth": 0,
             "ticks": ""
            },
            "type": "contourcarpet"
           }
          ],
          "heatmap": [
           {
            "colorbar": {
             "outlinewidth": 0,
             "ticks": ""
            },
            "colorscale": [
             [
              0,
              "#0d0887"
             ],
             [
              0.1111111111111111,
              "#46039f"
             ],
             [
              0.2222222222222222,
              "#7201a8"
             ],
             [
              0.3333333333333333,
              "#9c179e"
             ],
             [
              0.4444444444444444,
              "#bd3786"
             ],
             [
              0.5555555555555556,
              "#d8576b"
             ],
             [
              0.6666666666666666,
              "#ed7953"
             ],
             [
              0.7777777777777778,
              "#fb9f3a"
             ],
             [
              0.8888888888888888,
              "#fdca26"
             ],
             [
              1,
              "#f0f921"
             ]
            ],
            "type": "heatmap"
           }
          ],
          "heatmapgl": [
           {
            "colorbar": {
             "outlinewidth": 0,
             "ticks": ""
            },
            "colorscale": [
             [
              0,
              "#0d0887"
             ],
             [
              0.1111111111111111,
              "#46039f"
             ],
             [
              0.2222222222222222,
              "#7201a8"
             ],
             [
              0.3333333333333333,
              "#9c179e"
             ],
             [
              0.4444444444444444,
              "#bd3786"
             ],
             [
              0.5555555555555556,
              "#d8576b"
             ],
             [
              0.6666666666666666,
              "#ed7953"
             ],
             [
              0.7777777777777778,
              "#fb9f3a"
             ],
             [
              0.8888888888888888,
              "#fdca26"
             ],
             [
              1,
              "#f0f921"
             ]
            ],
            "type": "heatmapgl"
           }
          ],
          "histogram": [
           {
            "marker": {
             "pattern": {
              "fillmode": "overlay",
              "size": 10,
              "solidity": 0.2
             }
            },
            "type": "histogram"
           }
          ],
          "histogram2d": [
           {
            "colorbar": {
             "outlinewidth": 0,
             "ticks": ""
            },
            "colorscale": [
             [
              0,
              "#0d0887"
             ],
             [
              0.1111111111111111,
              "#46039f"
             ],
             [
              0.2222222222222222,
              "#7201a8"
             ],
             [
              0.3333333333333333,
              "#9c179e"
             ],
             [
              0.4444444444444444,
              "#bd3786"
             ],
             [
              0.5555555555555556,
              "#d8576b"
             ],
             [
              0.6666666666666666,
              "#ed7953"
             ],
             [
              0.7777777777777778,
              "#fb9f3a"
             ],
             [
              0.8888888888888888,
              "#fdca26"
             ],
             [
              1,
              "#f0f921"
             ]
            ],
            "type": "histogram2d"
           }
          ],
          "histogram2dcontour": [
           {
            "colorbar": {
             "outlinewidth": 0,
             "ticks": ""
            },
            "colorscale": [
             [
              0,
              "#0d0887"
             ],
             [
              0.1111111111111111,
              "#46039f"
             ],
             [
              0.2222222222222222,
              "#7201a8"
             ],
             [
              0.3333333333333333,
              "#9c179e"
             ],
             [
              0.4444444444444444,
              "#bd3786"
             ],
             [
              0.5555555555555556,
              "#d8576b"
             ],
             [
              0.6666666666666666,
              "#ed7953"
             ],
             [
              0.7777777777777778,
              "#fb9f3a"
             ],
             [
              0.8888888888888888,
              "#fdca26"
             ],
             [
              1,
              "#f0f921"
             ]
            ],
            "type": "histogram2dcontour"
           }
          ],
          "mesh3d": [
           {
            "colorbar": {
             "outlinewidth": 0,
             "ticks": ""
            },
            "type": "mesh3d"
           }
          ],
          "parcoords": [
           {
            "line": {
             "colorbar": {
              "outlinewidth": 0,
              "ticks": ""
             }
            },
            "type": "parcoords"
           }
          ],
          "pie": [
           {
            "automargin": true,
            "type": "pie"
           }
          ],
          "scatter": [
           {
            "fillpattern": {
             "fillmode": "overlay",
             "size": 10,
             "solidity": 0.2
            },
            "type": "scatter"
           }
          ],
          "scatter3d": [
           {
            "line": {
             "colorbar": {
              "outlinewidth": 0,
              "ticks": ""
             }
            },
            "marker": {
             "colorbar": {
              "outlinewidth": 0,
              "ticks": ""
             }
            },
            "type": "scatter3d"
           }
          ],
          "scattercarpet": [
           {
            "marker": {
             "colorbar": {
              "outlinewidth": 0,
              "ticks": ""
             }
            },
            "type": "scattercarpet"
           }
          ],
          "scattergeo": [
           {
            "marker": {
             "colorbar": {
              "outlinewidth": 0,
              "ticks": ""
             }
            },
            "type": "scattergeo"
           }
          ],
          "scattergl": [
           {
            "marker": {
             "colorbar": {
              "outlinewidth": 0,
              "ticks": ""
             }
            },
            "type": "scattergl"
           }
          ],
          "scattermapbox": [
           {
            "marker": {
             "colorbar": {
              "outlinewidth": 0,
              "ticks": ""
             }
            },
            "type": "scattermapbox"
           }
          ],
          "scatterpolar": [
           {
            "marker": {
             "colorbar": {
              "outlinewidth": 0,
              "ticks": ""
             }
            },
            "type": "scatterpolar"
           }
          ],
          "scatterpolargl": [
           {
            "marker": {
             "colorbar": {
              "outlinewidth": 0,
              "ticks": ""
             }
            },
            "type": "scatterpolargl"
           }
          ],
          "scatterternary": [
           {
            "marker": {
             "colorbar": {
              "outlinewidth": 0,
              "ticks": ""
             }
            },
            "type": "scatterternary"
           }
          ],
          "surface": [
           {
            "colorbar": {
             "outlinewidth": 0,
             "ticks": ""
            },
            "colorscale": [
             [
              0,
              "#0d0887"
             ],
             [
              0.1111111111111111,
              "#46039f"
             ],
             [
              0.2222222222222222,
              "#7201a8"
             ],
             [
              0.3333333333333333,
              "#9c179e"
             ],
             [
              0.4444444444444444,
              "#bd3786"
             ],
             [
              0.5555555555555556,
              "#d8576b"
             ],
             [
              0.6666666666666666,
              "#ed7953"
             ],
             [
              0.7777777777777778,
              "#fb9f3a"
             ],
             [
              0.8888888888888888,
              "#fdca26"
             ],
             [
              1,
              "#f0f921"
             ]
            ],
            "type": "surface"
           }
          ],
          "table": [
           {
            "cells": {
             "fill": {
              "color": "#EBF0F8"
             },
             "line": {
              "color": "white"
             }
            },
            "header": {
             "fill": {
              "color": "#C8D4E3"
             },
             "line": {
              "color": "white"
             }
            },
            "type": "table"
           }
          ]
         },
         "layout": {
          "annotationdefaults": {
           "arrowcolor": "#2a3f5f",
           "arrowhead": 0,
           "arrowwidth": 1
          },
          "autotypenumbers": "strict",
          "coloraxis": {
           "colorbar": {
            "outlinewidth": 0,
            "ticks": ""
           }
          },
          "colorscale": {
           "diverging": [
            [
             0,
             "#8e0152"
            ],
            [
             0.1,
             "#c51b7d"
            ],
            [
             0.2,
             "#de77ae"
            ],
            [
             0.3,
             "#f1b6da"
            ],
            [
             0.4,
             "#fde0ef"
            ],
            [
             0.5,
             "#f7f7f7"
            ],
            [
             0.6,
             "#e6f5d0"
            ],
            [
             0.7,
             "#b8e186"
            ],
            [
             0.8,
             "#7fbc41"
            ],
            [
             0.9,
             "#4d9221"
            ],
            [
             1,
             "#276419"
            ]
           ],
           "sequential": [
            [
             0,
             "#0d0887"
            ],
            [
             0.1111111111111111,
             "#46039f"
            ],
            [
             0.2222222222222222,
             "#7201a8"
            ],
            [
             0.3333333333333333,
             "#9c179e"
            ],
            [
             0.4444444444444444,
             "#bd3786"
            ],
            [
             0.5555555555555556,
             "#d8576b"
            ],
            [
             0.6666666666666666,
             "#ed7953"
            ],
            [
             0.7777777777777778,
             "#fb9f3a"
            ],
            [
             0.8888888888888888,
             "#fdca26"
            ],
            [
             1,
             "#f0f921"
            ]
           ],
           "sequentialminus": [
            [
             0,
             "#0d0887"
            ],
            [
             0.1111111111111111,
             "#46039f"
            ],
            [
             0.2222222222222222,
             "#7201a8"
            ],
            [
             0.3333333333333333,
             "#9c179e"
            ],
            [
             0.4444444444444444,
             "#bd3786"
            ],
            [
             0.5555555555555556,
             "#d8576b"
            ],
            [
             0.6666666666666666,
             "#ed7953"
            ],
            [
             0.7777777777777778,
             "#fb9f3a"
            ],
            [
             0.8888888888888888,
             "#fdca26"
            ],
            [
             1,
             "#f0f921"
            ]
           ]
          },
          "colorway": [
           "#636efa",
           "#EF553B",
           "#00cc96",
           "#ab63fa",
           "#FFA15A",
           "#19d3f3",
           "#FF6692",
           "#B6E880",
           "#FF97FF",
           "#FECB52"
          ],
          "font": {
           "color": "#2a3f5f"
          },
          "geo": {
           "bgcolor": "white",
           "lakecolor": "white",
           "landcolor": "#E5ECF6",
           "showlakes": true,
           "showland": true,
           "subunitcolor": "white"
          },
          "hoverlabel": {
           "align": "left"
          },
          "hovermode": "closest",
          "mapbox": {
           "style": "light"
          },
          "paper_bgcolor": "white",
          "plot_bgcolor": "#E5ECF6",
          "polar": {
           "angularaxis": {
            "gridcolor": "white",
            "linecolor": "white",
            "ticks": ""
           },
           "bgcolor": "#E5ECF6",
           "radialaxis": {
            "gridcolor": "white",
            "linecolor": "white",
            "ticks": ""
           }
          },
          "scene": {
           "xaxis": {
            "backgroundcolor": "#E5ECF6",
            "gridcolor": "white",
            "gridwidth": 2,
            "linecolor": "white",
            "showbackground": true,
            "ticks": "",
            "zerolinecolor": "white"
           },
           "yaxis": {
            "backgroundcolor": "#E5ECF6",
            "gridcolor": "white",
            "gridwidth": 2,
            "linecolor": "white",
            "showbackground": true,
            "ticks": "",
            "zerolinecolor": "white"
           },
           "zaxis": {
            "backgroundcolor": "#E5ECF6",
            "gridcolor": "white",
            "gridwidth": 2,
            "linecolor": "white",
            "showbackground": true,
            "ticks": "",
            "zerolinecolor": "white"
           }
          },
          "shapedefaults": {
           "line": {
            "color": "#2a3f5f"
           }
          },
          "ternary": {
           "aaxis": {
            "gridcolor": "white",
            "linecolor": "white",
            "ticks": ""
           },
           "baxis": {
            "gridcolor": "white",
            "linecolor": "white",
            "ticks": ""
           },
           "bgcolor": "#E5ECF6",
           "caxis": {
            "gridcolor": "white",
            "linecolor": "white",
            "ticks": ""
           }
          },
          "title": {
           "x": 0.05
          },
          "xaxis": {
           "automargin": true,
           "gridcolor": "white",
           "linecolor": "white",
           "ticks": "",
           "title": {
            "standoff": 15
           },
           "zerolinecolor": "white",
           "zerolinewidth": 2
          },
          "yaxis": {
           "automargin": true,
           "gridcolor": "white",
           "linecolor": "white",
           "ticks": "",
           "title": {
            "standoff": 15
           },
           "zerolinecolor": "white",
           "zerolinewidth": 2
          }
         }
        },
        "title": {
         "text": "Weekly Missing Pet Report Volumes Compared to Average Temperature"
        },
        "width": 720,
        "xaxis": {
         "anchor": "y",
         "domain": [
          0,
          1
         ],
         "title": {
          "text": "TMAX"
         }
        },
        "yaxis": {
         "anchor": "x",
         "domain": [
          0,
          1
         ],
         "title": {
          "text": "Missing Pet Report Volume"
         }
        }
       }
      }
     },
     "metadata": {},
     "output_type": "display_data"
    }
   ],
   "source": [
    "ols_fig = px.line(\n",
    "  weekly_summary,\n",
    "  x=weekly_summary['TMAX'],\n",
    "  y=ols_res.fittedvalues,\n",
    "  width=720,\n",
    "  labels={\n",
    "    'x': 'Averge Max Temperature',\n",
    "    'y': 'Missing Pet Report Volume'\n",
    "  },\n",
    "  title='Weekly Missing Pet Report Volumes Compared to Average Temperature',\n",
    "  color_discrete_sequence=[px.colors.qualitative.T10[1]]\n",
    ")\n",
    "ols_fig.add_scatter(\n",
    "  x=weekly_summary['TMAX'],\n",
    "  y=weekly_summary['smoothed_reports'],\n",
    "  mode='markers',\n",
    "  marker={\n",
    "    'color': px.colors.qualitative.T10[0]\n",
    "  },\n",
    "  name='Report Volume'\n",
    ")\n",
    "ols_fig.show()"
   ]
  },
  {
   "cell_type": "code",
   "execution_count": 43,
   "metadata": {},
   "outputs": [
    {
     "data": {
      "application/vnd.plotly.v1+json": {
       "config": {
        "plotlyServerURL": "https://plot.ly"
       },
       "data": [
        {
         "hovertemplate": "year=2019<br>TMAX=%{x}<br>y=%{y}<extra></extra>",
         "legendgroup": "2019",
         "marker": {
          "color": "#4C78A8",
          "symbol": "circle"
         },
         "mode": "markers",
         "name": "2019",
         "orientation": "v",
         "showlegend": true,
         "type": "scatter",
         "x": [
          41.57142857142857,
          32.142857142857146,
          29.857142857142858,
          26.142857142857142,
          49.57142857142857,
          40.57142857142857,
          39,
          42.57142857142857,
          31.714285714285715,
          54.42857142857143,
          48.142857142857146,
          56.714285714285715,
          54.285714285714285,
          69.85714285714286,
          66.57142857142857,
          63.285714285714285,
          67.28571428571429,
          72,
          70.28571428571429,
          78.28571428571429,
          81.14285714285714,
          77,
          74.85714285714286,
          79,
          86.28571428571429,
          89.57142857142857,
          87.14285714285714,
          90,
          82.42857142857143,
          86.14285714285714,
          86.71428571428571,
          85,
          84.71428571428571,
          77.71428571428571,
          79.14285714285714,
          86.42857142857143,
          84.57142857142857,
          82.42857142857143,
          83.28571428571429,
          70.14285714285714,
          63.857142857142854,
          65.57142857142857,
          57.42857142857143,
          47.57142857142857,
          40.857142857142854,
          49.42857142857143,
          47.57142857142857,
          43.42857142857143,
          45.714285714285715,
          35.42857142857143,
          54.833333333333336,
          48.857142857142854
         ],
         "xaxis": "x",
         "y": [
          -30.63794408621618,
          -51.93144933718577,
          -47.64610144016169,
          -57.79201646323341,
          -60.17693896853899,
          -40.37784034323303,
          -52.159103665875335,
          -41.18445312954432,
          -24.599189240048958,
          -64.50561264533258,
          -23.02474062078585,
          -35.235963137138214,
          -24.867426427986913,
          -23.628457614450156,
          -3.6356779537636044,
          -14.922141065109571,
          -37.032459855359974,
          -37.64722993174584,
          -28.501576310799805,
          -30.649984647085063,
          -22.79810947405244,
          -45.463817772709774,
          -30.731450755759056,
          -35.713107727904855,
          -61.6055182615589,
          -39.288265861684664,
          -51.4925397532233,
          -50.969672549171804,
          -25.516809706379263,
          -38.07383871580356,
          -30.607607676765753,
          -68.1222954196796,
          -71.65304826317691,
          -28.34820493772375,
          -34.886152729099734,
          -53.47918186935203,
          -69.61962464799831,
          -11.740473716718896,
          -41.935201843046315,
          -18.99119809936252,
          3.7346392698418924,
          -9.813414277249564,
          17.324652292629338,
          5.849849689265341,
          6.268907126064761,
          -30.79553147595894,
          -20.043643639144364,
          -16.112914576895975,
          -42.82312644733244,
          -12.95501828640056,
          -30.65498480611393,
          -27.13162908319063
         ],
         "yaxis": "y"
        },
        {
         "alignmentgroup": "True",
         "bingroup": "x",
         "hovertemplate": "year=2019<br>TMAX=%{x}<br>count=%{y}<extra></extra>",
         "legendgroup": "2019",
         "marker": {
          "color": "#4C78A8"
         },
         "name": "2019",
         "offsetgroup": "2019",
         "opacity": 0.5,
         "showlegend": false,
         "type": "histogram",
         "x": [
          41.57142857142857,
          32.142857142857146,
          29.857142857142858,
          26.142857142857142,
          49.57142857142857,
          40.57142857142857,
          39,
          42.57142857142857,
          31.714285714285715,
          54.42857142857143,
          48.142857142857146,
          56.714285714285715,
          54.285714285714285,
          69.85714285714286,
          66.57142857142857,
          63.285714285714285,
          67.28571428571429,
          72,
          70.28571428571429,
          78.28571428571429,
          81.14285714285714,
          77,
          74.85714285714286,
          79,
          86.28571428571429,
          89.57142857142857,
          87.14285714285714,
          90,
          82.42857142857143,
          86.14285714285714,
          86.71428571428571,
          85,
          84.71428571428571,
          77.71428571428571,
          79.14285714285714,
          86.42857142857143,
          84.57142857142857,
          82.42857142857143,
          83.28571428571429,
          70.14285714285714,
          63.857142857142854,
          65.57142857142857,
          57.42857142857143,
          47.57142857142857,
          40.857142857142854,
          49.42857142857143,
          47.57142857142857,
          43.42857142857143,
          45.714285714285715,
          35.42857142857143,
          54.833333333333336,
          48.857142857142854
         ],
         "xaxis": "x3",
         "yaxis": "y3"
        },
        {
         "alignmentgroup": "True",
         "boxpoints": "all",
         "fillcolor": "rgba(255,255,255,0)",
         "hoveron": "points",
         "hovertemplate": "year=2019<br>y=%{y}<extra></extra>",
         "jitter": 0,
         "legendgroup": "2019",
         "line": {
          "color": "rgba(255,255,255,0)"
         },
         "marker": {
          "color": "#4C78A8",
          "symbol": "line-ew-open"
         },
         "name": "2019",
         "offsetgroup": "2019",
         "showlegend": false,
         "type": "box",
         "xaxis": "x2",
         "y": [
          -30.63794408621618,
          -51.93144933718577,
          -47.64610144016169,
          -57.79201646323341,
          -60.17693896853899,
          -40.37784034323303,
          -52.159103665875335,
          -41.18445312954432,
          -24.599189240048958,
          -64.50561264533258,
          -23.02474062078585,
          -35.235963137138214,
          -24.867426427986913,
          -23.628457614450156,
          -3.6356779537636044,
          -14.922141065109571,
          -37.032459855359974,
          -37.64722993174584,
          -28.501576310799805,
          -30.649984647085063,
          -22.79810947405244,
          -45.463817772709774,
          -30.731450755759056,
          -35.713107727904855,
          -61.6055182615589,
          -39.288265861684664,
          -51.4925397532233,
          -50.969672549171804,
          -25.516809706379263,
          -38.07383871580356,
          -30.607607676765753,
          -68.1222954196796,
          -71.65304826317691,
          -28.34820493772375,
          -34.886152729099734,
          -53.47918186935203,
          -69.61962464799831,
          -11.740473716718896,
          -41.935201843046315,
          -18.99119809936252,
          3.7346392698418924,
          -9.813414277249564,
          17.324652292629338,
          5.849849689265341,
          6.268907126064761,
          -30.79553147595894,
          -20.043643639144364,
          -16.112914576895975,
          -42.82312644733244,
          -12.95501828640056,
          -30.65498480611393,
          -27.13162908319063
         ],
         "yaxis": "y2"
        },
        {
         "hovertemplate": "year=2020<br>TMAX=%{x}<br>y=%{y}<extra></extra>",
         "legendgroup": "2020",
         "marker": {
          "color": "#F58518",
          "symbol": "circle"
         },
         "mode": "markers",
         "name": "2020",
         "orientation": "v",
         "showlegend": true,
         "type": "scatter",
         "x": [
          49.42857142857143,
          46.142857142857146,
          35.857142857142854,
          35.42857142857143,
          45.285714285714285,
          36.714285714285715,
          41.57142857142857,
          39,
          50.857142857142854,
          57,
          52.42857142857143,
          57.57142857142857,
          58.857142857142854,
          60.42857142857143,
          52.42857142857143,
          60.42857142857143,
          64,
          59.714285714285715,
          66,
          70.28571428571429,
          82.71428571428571,
          81.28571428571429,
          82.28571428571429,
          80.71428571428571,
          83.28571428571429,
          88.71428571428571,
          91.71428571428571,
          88,
          88,
          87.85714285714286,
          79.28571428571429,
          87.85714285714286,
          83,
          88.71428571428571,
          81.57142857142857,
          83.42857142857143,
          72.85714285714286,
          75.85714285714286,
          67.28571428571429,
          70.85714285714286,
          66.71428571428571,
          63.42857142857143,
          50.57142857142857,
          63.285714285714285,
          64.85714285714286,
          53.285714285714285,
          49.42857142857143,
          41.857142857142854,
          48.142857142857146,
          37.142857142857146,
          40.142857142857146,
          44.57142857142857
         ],
         "xaxis": "x",
         "y": [
          -24.16714211357612,
          -17.558949183563556,
          -10.200910333316244,
          -35.10412762662699,
          -53.34291972291808,
          -41.38498779248471,
          -14.84030676223776,
          -58.75554102678103,
          -13.863687199388664,
          -31.025893021360673,
          -16.165303788120923,
          -51.06973129300749,
          -23.59671951647175,
          -2.5480268019048538,
          -45.28478655276797,
          -24.241482880190688,
          -31.20060291500772,
          -20.270727664955558,
          -25.730298355184203,
          -17.880349476729464,
          -49.82629685549645,
          -3.661122414686588,
          -12.941364779038935,
          -55.89303877622572,
          -9.454759107941072,
          -36.98346842467265,
          -77.31768884613939,
          -44.69791854670976,
          -62.17603585591726,
          -56.15442562084655,
          -57.992968301442744,
          -68.62189226289505,
          -35.615064026770085,
          -68.10418840251626,
          -66.1516709055073,
          -58.87044402789596,
          -5.852608725232329,
          -36.481485188057604,
          -13.639547883424711,
          -12.174966657778242,
          -4.09512825530345,
          -15.782828579846012,
          -11.341186707090856,
          -14.635735764764604,
          -37.279336415534715,
          -29.1398560429553,
          -34.8050194301691,
          -39.862225898061155,
          -52.05669262226294,
          -55.344474539055426,
          -29.462118978247275,
          -37.111823143823045
         ],
         "yaxis": "y"
        },
        {
         "alignmentgroup": "True",
         "bingroup": "x",
         "hovertemplate": "year=2020<br>TMAX=%{x}<br>count=%{y}<extra></extra>",
         "legendgroup": "2020",
         "marker": {
          "color": "#F58518"
         },
         "name": "2020",
         "offsetgroup": "2020",
         "opacity": 0.5,
         "showlegend": false,
         "type": "histogram",
         "x": [
          49.42857142857143,
          46.142857142857146,
          35.857142857142854,
          35.42857142857143,
          45.285714285714285,
          36.714285714285715,
          41.57142857142857,
          39,
          50.857142857142854,
          57,
          52.42857142857143,
          57.57142857142857,
          58.857142857142854,
          60.42857142857143,
          52.42857142857143,
          60.42857142857143,
          64,
          59.714285714285715,
          66,
          70.28571428571429,
          82.71428571428571,
          81.28571428571429,
          82.28571428571429,
          80.71428571428571,
          83.28571428571429,
          88.71428571428571,
          91.71428571428571,
          88,
          88,
          87.85714285714286,
          79.28571428571429,
          87.85714285714286,
          83,
          88.71428571428571,
          81.57142857142857,
          83.42857142857143,
          72.85714285714286,
          75.85714285714286,
          67.28571428571429,
          70.85714285714286,
          66.71428571428571,
          63.42857142857143,
          50.57142857142857,
          63.285714285714285,
          64.85714285714286,
          53.285714285714285,
          49.42857142857143,
          41.857142857142854,
          48.142857142857146,
          37.142857142857146,
          40.142857142857146,
          44.57142857142857
         ],
         "xaxis": "x3",
         "yaxis": "y3"
        },
        {
         "alignmentgroup": "True",
         "boxpoints": "all",
         "fillcolor": "rgba(255,255,255,0)",
         "hoveron": "points",
         "hovertemplate": "year=2020<br>y=%{y}<extra></extra>",
         "jitter": 0,
         "legendgroup": "2020",
         "line": {
          "color": "rgba(255,255,255,0)"
         },
         "marker": {
          "color": "#F58518",
          "symbol": "line-ew-open"
         },
         "name": "2020",
         "offsetgroup": "2020",
         "showlegend": false,
         "type": "box",
         "xaxis": "x2",
         "y": [
          -24.16714211357612,
          -17.558949183563556,
          -10.200910333316244,
          -35.10412762662699,
          -53.34291972291808,
          -41.38498779248471,
          -14.84030676223776,
          -58.75554102678103,
          -13.863687199388664,
          -31.025893021360673,
          -16.165303788120923,
          -51.06973129300749,
          -23.59671951647175,
          -2.5480268019048538,
          -45.28478655276797,
          -24.241482880190688,
          -31.20060291500772,
          -20.270727664955558,
          -25.730298355184203,
          -17.880349476729464,
          -49.82629685549645,
          -3.661122414686588,
          -12.941364779038935,
          -55.89303877622572,
          -9.454759107941072,
          -36.98346842467265,
          -77.31768884613939,
          -44.69791854670976,
          -62.17603585591726,
          -56.15442562084655,
          -57.992968301442744,
          -68.62189226289505,
          -35.615064026770085,
          -68.10418840251626,
          -66.1516709055073,
          -58.87044402789596,
          -5.852608725232329,
          -36.481485188057604,
          -13.639547883424711,
          -12.174966657778242,
          -4.09512825530345,
          -15.782828579846012,
          -11.341186707090856,
          -14.635735764764604,
          -37.279336415534715,
          -29.1398560429553,
          -34.8050194301691,
          -39.862225898061155,
          -52.05669262226294,
          -55.344474539055426,
          -29.462118978247275,
          -37.111823143823045
         ],
         "yaxis": "y2"
        },
        {
         "hovertemplate": "year=2021<br>TMAX=%{x}<br>y=%{y}<extra></extra>",
         "legendgroup": "2021",
         "marker": {
          "color": "#E45756",
          "symbol": "circle"
         },
         "mode": "markers",
         "name": "2021",
         "orientation": "v",
         "showlegend": true,
         "type": "scatter",
         "x": [
          37.57142857142857,
          39,
          37.142857142857146,
          33.42857142857143,
          33,
          25.833333333333332,
          25.428571428571427,
          45.142857142857146,
          49,
          60.714285714285715,
          54.142857142857146,
          69.28571428571429,
          56.857142857142854,
          76.71428571428571,
          59.714285714285715,
          57.857142857142854,
          70.85714285714286,
          66.85714285714286,
          63.42857142857143,
          81.42857142857143,
          79,
          77,
          85.28571428571429,
          83.71428571428571,
          83,
          86.14285714285714,
          86,
          84.28571428571429,
          83.42857142857143,
          86.57142857142857,
          83.28571428571429,
          88.28571428571429,
          83.57142857142857,
          90.71428571428571,
          81.71428571428571,
          81,
          86.42857142857143,
          73.71428571428571,
          79,
          78.14285714285714,
          78.71428571428571,
          67,
          61,
          53.285714285714285,
          62,
          50.857142857142854,
          44.142857142857146,
          49.714285714285715,
          50.57142857142857,
          53.42857142857143,
          47.42857142857143,
          54.42857142857143
         ],
         "xaxis": "x",
         "y": [
          -28.122899943922647,
          4.042096297197389,
          9.527717455036196,
          29.839781119802808,
          -19.23268413510351,
          -0.48780316423690806,
          -23.53369323470443,
          14.167458488519202,
          33.1213526019757,
          35.40642730205599,
          19.592023873552904,
          34.054420686738496,
          42.15547722109551,
          34.30364806424578,
          32.66536833209028,
          39.28944816299651,
          41.32561469869617,
          21.12938956723235,
          69.49292605333994,
          56.61432331774665,
          0.7094308196097927,
          8.547995607398121,
          2.2072574607449837,
          21.79760477571992,
          31.608599983569547,
          40.263382744067286,
          36.253078227784755,
          32.41643329383072,
          10.776921242907179,
          -11.691341400336455,
          27.92750219683515,
          7.83515972268529,
          -18.80801163864328,
          -26.813782471447382,
          13.210142877147035,
          33.30754338534166,
          -19.40462719923883,
          26.60467927103886,
          60.08104145722697,
          15.669844268438538,
          16.95501396577282,
          62.33976858376258,
          46.354881590653235,
          97.54062394227378,
          77.93385512733573,
          61.4546701024334,
          41.83112487059665,
          65.65001603026616,
          51.807922633135576,
          0.7320270503836355,
          57.467897285241776,
          2.3641794226136312
         ],
         "yaxis": "y"
        },
        {
         "alignmentgroup": "True",
         "bingroup": "x",
         "hovertemplate": "year=2021<br>TMAX=%{x}<br>count=%{y}<extra></extra>",
         "legendgroup": "2021",
         "marker": {
          "color": "#E45756"
         },
         "name": "2021",
         "offsetgroup": "2021",
         "opacity": 0.5,
         "showlegend": false,
         "type": "histogram",
         "x": [
          37.57142857142857,
          39,
          37.142857142857146,
          33.42857142857143,
          33,
          25.833333333333332,
          25.428571428571427,
          45.142857142857146,
          49,
          60.714285714285715,
          54.142857142857146,
          69.28571428571429,
          56.857142857142854,
          76.71428571428571,
          59.714285714285715,
          57.857142857142854,
          70.85714285714286,
          66.85714285714286,
          63.42857142857143,
          81.42857142857143,
          79,
          77,
          85.28571428571429,
          83.71428571428571,
          83,
          86.14285714285714,
          86,
          84.28571428571429,
          83.42857142857143,
          86.57142857142857,
          83.28571428571429,
          88.28571428571429,
          83.57142857142857,
          90.71428571428571,
          81.71428571428571,
          81,
          86.42857142857143,
          73.71428571428571,
          79,
          78.14285714285714,
          78.71428571428571,
          67,
          61,
          53.285714285714285,
          62,
          50.857142857142854,
          44.142857142857146,
          49.714285714285715,
          50.57142857142857,
          53.42857142857143,
          47.42857142857143,
          54.42857142857143
         ],
         "xaxis": "x3",
         "yaxis": "y3"
        },
        {
         "alignmentgroup": "True",
         "boxpoints": "all",
         "fillcolor": "rgba(255,255,255,0)",
         "hoveron": "points",
         "hovertemplate": "year=2021<br>y=%{y}<extra></extra>",
         "jitter": 0,
         "legendgroup": "2021",
         "line": {
          "color": "rgba(255,255,255,0)"
         },
         "marker": {
          "color": "#E45756",
          "symbol": "line-ew-open"
         },
         "name": "2021",
         "offsetgroup": "2021",
         "showlegend": false,
         "type": "box",
         "xaxis": "x2",
         "y": [
          -28.122899943922647,
          4.042096297197389,
          9.527717455036196,
          29.839781119802808,
          -19.23268413510351,
          -0.48780316423690806,
          -23.53369323470443,
          14.167458488519202,
          33.1213526019757,
          35.40642730205599,
          19.592023873552904,
          34.054420686738496,
          42.15547722109551,
          34.30364806424578,
          32.66536833209028,
          39.28944816299651,
          41.32561469869617,
          21.12938956723235,
          69.49292605333994,
          56.61432331774665,
          0.7094308196097927,
          8.547995607398121,
          2.2072574607449837,
          21.79760477571992,
          31.608599983569547,
          40.263382744067286,
          36.253078227784755,
          32.41643329383072,
          10.776921242907179,
          -11.691341400336455,
          27.92750219683515,
          7.83515972268529,
          -18.80801163864328,
          -26.813782471447382,
          13.210142877147035,
          33.30754338534166,
          -19.40462719923883,
          26.60467927103886,
          60.08104145722697,
          15.669844268438538,
          16.95501396577282,
          62.33976858376258,
          46.354881590653235,
          97.54062394227378,
          77.93385512733573,
          61.4546701024334,
          41.83112487059665,
          65.65001603026616,
          51.807922633135576,
          0.7320270503836355,
          57.467897285241776,
          2.3641794226136312
         ],
         "yaxis": "y2"
        },
        {
         "hovertemplate": "year=2022<br>TMAX=%{x}<br>y=%{y}<extra></extra>",
         "legendgroup": "2022",
         "marker": {
          "color": "#72B7B2",
          "symbol": "circle"
         },
         "mode": "markers",
         "name": "2022",
         "orientation": "v",
         "showlegend": true,
         "type": "scatter",
         "x": [
          34.142857142857146,
          37,
          32,
          28.571428571428573,
          35,
          40.42857142857143,
          39,
          47.42857142857143,
          56.57142857142857,
          52,
          64.57142857142857,
          57.42857142857143,
          52.42857142857143,
          53.857142857142854,
          65.14285714285714,
          61.142857142857146,
          66,
          68,
          80.71428571428571,
          80.28571428571429,
          73.71428571428571,
          84.14285714285714,
          79.71428571428571,
          89.71428571428571,
          88.14285714285714,
          88,
          85.71428571428571,
          86.28571428571429,
          86.42857142857143,
          84,
          87,
          83.71428571428571,
          81.85714285714286,
          83.14285714285714,
          86,
          81.57142857142857,
          79.28571428571429,
          79.57142857142857,
          66.85714285714286,
          68.71428571428571,
          68.14285714285714,
          60.142857142857146,
          69.71428571428571,
          69.14285714285714,
          64.42857142857143,
          38.42857142857143,
          53,
          52.57142857142857,
          48.142857142857146,
          43.142857142857146,
          32.714285714285715,
          42.285714285714285
         ],
         "xaxis": "x",
         "y": [
          -22.24813143418166,
          4.124463716694578,
          -34.14415377961373,
          -55.3332892728269,
          -7.3245395088108864,
          16.802367186274267,
          50.27757368764492,
          40.129401362050515,
          42.87917767646604,
          39.09007621300498,
          28.82778805756095,
          47.94006556195535,
          49.831208073032485,
          59.27312166028733,
          15.783949785914132,
          25.181836589458328,
          43.60936028095591,
          35.62278678235023,
          22.00045455218398,
          42.67353599840976,
          51.99642853002524,
          52.0937340409659,
          32.19781700516182,
          3.913787913584258,
          29.099409876516006,
          59.40858812488054,
          39.11160021688073,
          52.17198044105032,
          -23.082781758570178,
          57.18989894614981,
          52.837939829459344,
          28.08517278901374,
          61.050073969008906,
          32.53373641270372,
          35.17143552960684,
          48.60568917573272,
          62.85675964538197,
          65.12240852285242,
          70.54244016053681,
          93.65209365065488,
          78.17637465740691,
          60.854990925745966,
          66.31859795050738,
          50.25709226351276,
          51.02097168012503,
          68.62911859395476,
          49.97791909729938,
          74.11846718557365,
          52.996560713532205,
          93.34568191244767,
          88.91704300662823,
          65.65520470150284
         ],
         "yaxis": "y"
        },
        {
         "alignmentgroup": "True",
         "bingroup": "x",
         "hovertemplate": "year=2022<br>TMAX=%{x}<br>count=%{y}<extra></extra>",
         "legendgroup": "2022",
         "marker": {
          "color": "#72B7B2"
         },
         "name": "2022",
         "offsetgroup": "2022",
         "opacity": 0.5,
         "showlegend": false,
         "type": "histogram",
         "x": [
          34.142857142857146,
          37,
          32,
          28.571428571428573,
          35,
          40.42857142857143,
          39,
          47.42857142857143,
          56.57142857142857,
          52,
          64.57142857142857,
          57.42857142857143,
          52.42857142857143,
          53.857142857142854,
          65.14285714285714,
          61.142857142857146,
          66,
          68,
          80.71428571428571,
          80.28571428571429,
          73.71428571428571,
          84.14285714285714,
          79.71428571428571,
          89.71428571428571,
          88.14285714285714,
          88,
          85.71428571428571,
          86.28571428571429,
          86.42857142857143,
          84,
          87,
          83.71428571428571,
          81.85714285714286,
          83.14285714285714,
          86,
          81.57142857142857,
          79.28571428571429,
          79.57142857142857,
          66.85714285714286,
          68.71428571428571,
          68.14285714285714,
          60.142857142857146,
          69.71428571428571,
          69.14285714285714,
          64.42857142857143,
          38.42857142857143,
          53,
          52.57142857142857,
          48.142857142857146,
          43.142857142857146,
          32.714285714285715,
          42.285714285714285
         ],
         "xaxis": "x3",
         "yaxis": "y3"
        },
        {
         "alignmentgroup": "True",
         "boxpoints": "all",
         "fillcolor": "rgba(255,255,255,0)",
         "hoveron": "points",
         "hovertemplate": "year=2022<br>y=%{y}<extra></extra>",
         "jitter": 0,
         "legendgroup": "2022",
         "line": {
          "color": "rgba(255,255,255,0)"
         },
         "marker": {
          "color": "#72B7B2",
          "symbol": "line-ew-open"
         },
         "name": "2022",
         "offsetgroup": "2022",
         "showlegend": false,
         "type": "box",
         "xaxis": "x2",
         "y": [
          -22.24813143418166,
          4.124463716694578,
          -34.14415377961373,
          -55.3332892728269,
          -7.3245395088108864,
          16.802367186274267,
          50.27757368764492,
          40.129401362050515,
          42.87917767646604,
          39.09007621300498,
          28.82778805756095,
          47.94006556195535,
          49.831208073032485,
          59.27312166028733,
          15.783949785914132,
          25.181836589458328,
          43.60936028095591,
          35.62278678235023,
          22.00045455218398,
          42.67353599840976,
          51.99642853002524,
          52.0937340409659,
          32.19781700516182,
          3.913787913584258,
          29.099409876516006,
          59.40858812488054,
          39.11160021688073,
          52.17198044105032,
          -23.082781758570178,
          57.18989894614981,
          52.837939829459344,
          28.08517278901374,
          61.050073969008906,
          32.53373641270372,
          35.17143552960684,
          48.60568917573272,
          62.85675964538197,
          65.12240852285242,
          70.54244016053681,
          93.65209365065488,
          78.17637465740691,
          60.854990925745966,
          66.31859795050738,
          50.25709226351276,
          51.02097168012503,
          68.62911859395476,
          49.97791909729938,
          74.11846718557365,
          52.996560713532205,
          93.34568191244767,
          88.91704300662823,
          65.65520470150284
         ],
         "yaxis": "y2"
        }
       ],
       "layout": {
        "barmode": "overlay",
        "legend": {
         "title": {
          "text": "year"
         },
         "tracegroupgap": 0
        },
        "template": {
         "data": {
          "bar": [
           {
            "error_x": {
             "color": "#2a3f5f"
            },
            "error_y": {
             "color": "#2a3f5f"
            },
            "marker": {
             "line": {
              "color": "#E5ECF6",
              "width": 0.5
             },
             "pattern": {
              "fillmode": "overlay",
              "size": 10,
              "solidity": 0.2
             }
            },
            "type": "bar"
           }
          ],
          "barpolar": [
           {
            "marker": {
             "line": {
              "color": "#E5ECF6",
              "width": 0.5
             },
             "pattern": {
              "fillmode": "overlay",
              "size": 10,
              "solidity": 0.2
             }
            },
            "type": "barpolar"
           }
          ],
          "carpet": [
           {
            "aaxis": {
             "endlinecolor": "#2a3f5f",
             "gridcolor": "white",
             "linecolor": "white",
             "minorgridcolor": "white",
             "startlinecolor": "#2a3f5f"
            },
            "baxis": {
             "endlinecolor": "#2a3f5f",
             "gridcolor": "white",
             "linecolor": "white",
             "minorgridcolor": "white",
             "startlinecolor": "#2a3f5f"
            },
            "type": "carpet"
           }
          ],
          "choropleth": [
           {
            "colorbar": {
             "outlinewidth": 0,
             "ticks": ""
            },
            "type": "choropleth"
           }
          ],
          "contour": [
           {
            "colorbar": {
             "outlinewidth": 0,
             "ticks": ""
            },
            "colorscale": [
             [
              0,
              "#0d0887"
             ],
             [
              0.1111111111111111,
              "#46039f"
             ],
             [
              0.2222222222222222,
              "#7201a8"
             ],
             [
              0.3333333333333333,
              "#9c179e"
             ],
             [
              0.4444444444444444,
              "#bd3786"
             ],
             [
              0.5555555555555556,
              "#d8576b"
             ],
             [
              0.6666666666666666,
              "#ed7953"
             ],
             [
              0.7777777777777778,
              "#fb9f3a"
             ],
             [
              0.8888888888888888,
              "#fdca26"
             ],
             [
              1,
              "#f0f921"
             ]
            ],
            "type": "contour"
           }
          ],
          "contourcarpet": [
           {
            "colorbar": {
             "outlinewidth": 0,
             "ticks": ""
            },
            "type": "contourcarpet"
           }
          ],
          "heatmap": [
           {
            "colorbar": {
             "outlinewidth": 0,
             "ticks": ""
            },
            "colorscale": [
             [
              0,
              "#0d0887"
             ],
             [
              0.1111111111111111,
              "#46039f"
             ],
             [
              0.2222222222222222,
              "#7201a8"
             ],
             [
              0.3333333333333333,
              "#9c179e"
             ],
             [
              0.4444444444444444,
              "#bd3786"
             ],
             [
              0.5555555555555556,
              "#d8576b"
             ],
             [
              0.6666666666666666,
              "#ed7953"
             ],
             [
              0.7777777777777778,
              "#fb9f3a"
             ],
             [
              0.8888888888888888,
              "#fdca26"
             ],
             [
              1,
              "#f0f921"
             ]
            ],
            "type": "heatmap"
           }
          ],
          "heatmapgl": [
           {
            "colorbar": {
             "outlinewidth": 0,
             "ticks": ""
            },
            "colorscale": [
             [
              0,
              "#0d0887"
             ],
             [
              0.1111111111111111,
              "#46039f"
             ],
             [
              0.2222222222222222,
              "#7201a8"
             ],
             [
              0.3333333333333333,
              "#9c179e"
             ],
             [
              0.4444444444444444,
              "#bd3786"
             ],
             [
              0.5555555555555556,
              "#d8576b"
             ],
             [
              0.6666666666666666,
              "#ed7953"
             ],
             [
              0.7777777777777778,
              "#fb9f3a"
             ],
             [
              0.8888888888888888,
              "#fdca26"
             ],
             [
              1,
              "#f0f921"
             ]
            ],
            "type": "heatmapgl"
           }
          ],
          "histogram": [
           {
            "marker": {
             "pattern": {
              "fillmode": "overlay",
              "size": 10,
              "solidity": 0.2
             }
            },
            "type": "histogram"
           }
          ],
          "histogram2d": [
           {
            "colorbar": {
             "outlinewidth": 0,
             "ticks": ""
            },
            "colorscale": [
             [
              0,
              "#0d0887"
             ],
             [
              0.1111111111111111,
              "#46039f"
             ],
             [
              0.2222222222222222,
              "#7201a8"
             ],
             [
              0.3333333333333333,
              "#9c179e"
             ],
             [
              0.4444444444444444,
              "#bd3786"
             ],
             [
              0.5555555555555556,
              "#d8576b"
             ],
             [
              0.6666666666666666,
              "#ed7953"
             ],
             [
              0.7777777777777778,
              "#fb9f3a"
             ],
             [
              0.8888888888888888,
              "#fdca26"
             ],
             [
              1,
              "#f0f921"
             ]
            ],
            "type": "histogram2d"
           }
          ],
          "histogram2dcontour": [
           {
            "colorbar": {
             "outlinewidth": 0,
             "ticks": ""
            },
            "colorscale": [
             [
              0,
              "#0d0887"
             ],
             [
              0.1111111111111111,
              "#46039f"
             ],
             [
              0.2222222222222222,
              "#7201a8"
             ],
             [
              0.3333333333333333,
              "#9c179e"
             ],
             [
              0.4444444444444444,
              "#bd3786"
             ],
             [
              0.5555555555555556,
              "#d8576b"
             ],
             [
              0.6666666666666666,
              "#ed7953"
             ],
             [
              0.7777777777777778,
              "#fb9f3a"
             ],
             [
              0.8888888888888888,
              "#fdca26"
             ],
             [
              1,
              "#f0f921"
             ]
            ],
            "type": "histogram2dcontour"
           }
          ],
          "mesh3d": [
           {
            "colorbar": {
             "outlinewidth": 0,
             "ticks": ""
            },
            "type": "mesh3d"
           }
          ],
          "parcoords": [
           {
            "line": {
             "colorbar": {
              "outlinewidth": 0,
              "ticks": ""
             }
            },
            "type": "parcoords"
           }
          ],
          "pie": [
           {
            "automargin": true,
            "type": "pie"
           }
          ],
          "scatter": [
           {
            "fillpattern": {
             "fillmode": "overlay",
             "size": 10,
             "solidity": 0.2
            },
            "type": "scatter"
           }
          ],
          "scatter3d": [
           {
            "line": {
             "colorbar": {
              "outlinewidth": 0,
              "ticks": ""
             }
            },
            "marker": {
             "colorbar": {
              "outlinewidth": 0,
              "ticks": ""
             }
            },
            "type": "scatter3d"
           }
          ],
          "scattercarpet": [
           {
            "marker": {
             "colorbar": {
              "outlinewidth": 0,
              "ticks": ""
             }
            },
            "type": "scattercarpet"
           }
          ],
          "scattergeo": [
           {
            "marker": {
             "colorbar": {
              "outlinewidth": 0,
              "ticks": ""
             }
            },
            "type": "scattergeo"
           }
          ],
          "scattergl": [
           {
            "marker": {
             "colorbar": {
              "outlinewidth": 0,
              "ticks": ""
             }
            },
            "type": "scattergl"
           }
          ],
          "scattermapbox": [
           {
            "marker": {
             "colorbar": {
              "outlinewidth": 0,
              "ticks": ""
             }
            },
            "type": "scattermapbox"
           }
          ],
          "scatterpolar": [
           {
            "marker": {
             "colorbar": {
              "outlinewidth": 0,
              "ticks": ""
             }
            },
            "type": "scatterpolar"
           }
          ],
          "scatterpolargl": [
           {
            "marker": {
             "colorbar": {
              "outlinewidth": 0,
              "ticks": ""
             }
            },
            "type": "scatterpolargl"
           }
          ],
          "scatterternary": [
           {
            "marker": {
             "colorbar": {
              "outlinewidth": 0,
              "ticks": ""
             }
            },
            "type": "scatterternary"
           }
          ],
          "surface": [
           {
            "colorbar": {
             "outlinewidth": 0,
             "ticks": ""
            },
            "colorscale": [
             [
              0,
              "#0d0887"
             ],
             [
              0.1111111111111111,
              "#46039f"
             ],
             [
              0.2222222222222222,
              "#7201a8"
             ],
             [
              0.3333333333333333,
              "#9c179e"
             ],
             [
              0.4444444444444444,
              "#bd3786"
             ],
             [
              0.5555555555555556,
              "#d8576b"
             ],
             [
              0.6666666666666666,
              "#ed7953"
             ],
             [
              0.7777777777777778,
              "#fb9f3a"
             ],
             [
              0.8888888888888888,
              "#fdca26"
             ],
             [
              1,
              "#f0f921"
             ]
            ],
            "type": "surface"
           }
          ],
          "table": [
           {
            "cells": {
             "fill": {
              "color": "#EBF0F8"
             },
             "line": {
              "color": "white"
             }
            },
            "header": {
             "fill": {
              "color": "#C8D4E3"
             },
             "line": {
              "color": "white"
             }
            },
            "type": "table"
           }
          ]
         },
         "layout": {
          "annotationdefaults": {
           "arrowcolor": "#2a3f5f",
           "arrowhead": 0,
           "arrowwidth": 1
          },
          "autotypenumbers": "strict",
          "coloraxis": {
           "colorbar": {
            "outlinewidth": 0,
            "ticks": ""
           }
          },
          "colorscale": {
           "diverging": [
            [
             0,
             "#8e0152"
            ],
            [
             0.1,
             "#c51b7d"
            ],
            [
             0.2,
             "#de77ae"
            ],
            [
             0.3,
             "#f1b6da"
            ],
            [
             0.4,
             "#fde0ef"
            ],
            [
             0.5,
             "#f7f7f7"
            ],
            [
             0.6,
             "#e6f5d0"
            ],
            [
             0.7,
             "#b8e186"
            ],
            [
             0.8,
             "#7fbc41"
            ],
            [
             0.9,
             "#4d9221"
            ],
            [
             1,
             "#276419"
            ]
           ],
           "sequential": [
            [
             0,
             "#0d0887"
            ],
            [
             0.1111111111111111,
             "#46039f"
            ],
            [
             0.2222222222222222,
             "#7201a8"
            ],
            [
             0.3333333333333333,
             "#9c179e"
            ],
            [
             0.4444444444444444,
             "#bd3786"
            ],
            [
             0.5555555555555556,
             "#d8576b"
            ],
            [
             0.6666666666666666,
             "#ed7953"
            ],
            [
             0.7777777777777778,
             "#fb9f3a"
            ],
            [
             0.8888888888888888,
             "#fdca26"
            ],
            [
             1,
             "#f0f921"
            ]
           ],
           "sequentialminus": [
            [
             0,
             "#0d0887"
            ],
            [
             0.1111111111111111,
             "#46039f"
            ],
            [
             0.2222222222222222,
             "#7201a8"
            ],
            [
             0.3333333333333333,
             "#9c179e"
            ],
            [
             0.4444444444444444,
             "#bd3786"
            ],
            [
             0.5555555555555556,
             "#d8576b"
            ],
            [
             0.6666666666666666,
             "#ed7953"
            ],
            [
             0.7777777777777778,
             "#fb9f3a"
            ],
            [
             0.8888888888888888,
             "#fdca26"
            ],
            [
             1,
             "#f0f921"
            ]
           ]
          },
          "colorway": [
           "#636efa",
           "#EF553B",
           "#00cc96",
           "#ab63fa",
           "#FFA15A",
           "#19d3f3",
           "#FF6692",
           "#B6E880",
           "#FF97FF",
           "#FECB52"
          ],
          "font": {
           "color": "#2a3f5f"
          },
          "geo": {
           "bgcolor": "white",
           "lakecolor": "white",
           "landcolor": "#E5ECF6",
           "showlakes": true,
           "showland": true,
           "subunitcolor": "white"
          },
          "hoverlabel": {
           "align": "left"
          },
          "hovermode": "closest",
          "mapbox": {
           "style": "light"
          },
          "paper_bgcolor": "white",
          "plot_bgcolor": "#E5ECF6",
          "polar": {
           "angularaxis": {
            "gridcolor": "white",
            "linecolor": "white",
            "ticks": ""
           },
           "bgcolor": "#E5ECF6",
           "radialaxis": {
            "gridcolor": "white",
            "linecolor": "white",
            "ticks": ""
           }
          },
          "scene": {
           "xaxis": {
            "backgroundcolor": "#E5ECF6",
            "gridcolor": "white",
            "gridwidth": 2,
            "linecolor": "white",
            "showbackground": true,
            "ticks": "",
            "zerolinecolor": "white"
           },
           "yaxis": {
            "backgroundcolor": "#E5ECF6",
            "gridcolor": "white",
            "gridwidth": 2,
            "linecolor": "white",
            "showbackground": true,
            "ticks": "",
            "zerolinecolor": "white"
           },
           "zaxis": {
            "backgroundcolor": "#E5ECF6",
            "gridcolor": "white",
            "gridwidth": 2,
            "linecolor": "white",
            "showbackground": true,
            "ticks": "",
            "zerolinecolor": "white"
           }
          },
          "shapedefaults": {
           "line": {
            "color": "#2a3f5f"
           }
          },
          "ternary": {
           "aaxis": {
            "gridcolor": "white",
            "linecolor": "white",
            "ticks": ""
           },
           "baxis": {
            "gridcolor": "white",
            "linecolor": "white",
            "ticks": ""
           },
           "bgcolor": "#E5ECF6",
           "caxis": {
            "gridcolor": "white",
            "linecolor": "white",
            "ticks": ""
           }
          },
          "title": {
           "x": 0.05
          },
          "xaxis": {
           "automargin": true,
           "gridcolor": "white",
           "linecolor": "white",
           "ticks": "",
           "title": {
            "standoff": 15
           },
           "zerolinecolor": "white",
           "zerolinewidth": 2
          },
          "yaxis": {
           "automargin": true,
           "gridcolor": "white",
           "linecolor": "white",
           "ticks": "",
           "title": {
            "standoff": 15
           },
           "zerolinecolor": "white",
           "zerolinewidth": 2
          }
         }
        },
        "title": {
         "text": "Residuals of Ordinary Least Squares Regressions Colored by Year"
        },
        "width": 720,
        "xaxis": {
         "anchor": "y",
         "domain": [
          0,
          0.7363
         ],
         "title": {
          "text": "TMAX"
         }
        },
        "xaxis2": {
         "anchor": "y2",
         "domain": [
          0.7413,
          1
         ],
         "matches": "x2",
         "showgrid": false,
         "showline": false,
         "showticklabels": false,
         "ticks": ""
        },
        "xaxis3": {
         "anchor": "y3",
         "domain": [
          0,
          0.7363
         ],
         "matches": "x",
         "showgrid": true,
         "showticklabels": false
        },
        "xaxis4": {
         "anchor": "y4",
         "domain": [
          0.7413,
          1
         ],
         "matches": "x2",
         "showgrid": false,
         "showline": false,
         "showticklabels": false,
         "ticks": ""
        },
        "yaxis": {
         "anchor": "x",
         "domain": [
          0,
          0.7326
         ],
         "title": {
          "text": "y"
         }
        },
        "yaxis2": {
         "anchor": "x2",
         "domain": [
          0,
          0.7326
         ],
         "matches": "y",
         "showgrid": true,
         "showticklabels": false
        },
        "yaxis3": {
         "anchor": "x3",
         "domain": [
          0.7426,
          1
         ],
         "matches": "y3",
         "showgrid": true,
         "showline": false,
         "showticklabels": false,
         "ticks": ""
        },
        "yaxis4": {
         "anchor": "x4",
         "domain": [
          0.7426,
          1
         ],
         "matches": "y3",
         "showgrid": true,
         "showline": false,
         "showticklabels": false,
         "ticks": ""
        }
       }
      }
     },
     "metadata": {},
     "output_type": "display_data"
    }
   ],
   "source": [
    "ols_fig_resid = px.scatter(\n",
    "  weekly_summary,\n",
    "  x=weekly_summary['TMAX'],\n",
    "  y=ols_res.resid,\n",
    "  color='year',\n",
    "  width=720,\n",
    "  title='Residuals of Ordinary Least Squares Regressions Colored by Year',\n",
    "  marginal_x='histogram',\n",
    "  marginal_y='rug',\n",
    "  color_discrete_sequence=px.colors.qualitative.T10\n",
    ")\n",
    "ols_fig_resid.show()"
   ]
  },
  {
   "cell_type": "code",
   "execution_count": 44,
   "metadata": {},
   "outputs": [
    {
     "name": "stdout",
     "output_type": "stream",
     "text": [
      "                            OLS Regression Results                            \n",
      "==============================================================================\n",
      "Dep. Variable:       smoothed_reports   R-squared:                       0.682\n",
      "Model:                            OLS   Adj. R-squared:                  0.679\n",
      "Method:                 Least Squares   F-statistic:                     220.3\n",
      "Date:                Tue, 07 Mar 2023   Prob (F-statistic):           8.59e-52\n",
      "Time:                        20:43:36   Log-Likelihood:                -986.66\n",
      "No. Observations:                 208   AIC:                             1979.\n",
      "Df Residuals:                     205   BIC:                             1989.\n",
      "Df Model:                           2                                         \n",
      "Covariance Type:            nonrobust                                         \n",
      "==============================================================================\n",
      "                 coef    std err          t      P>|t|      [0.025      0.975]\n",
      "------------------------------------------------------------------------------\n",
      "const      -5.696e+04   3508.398    -16.235      0.000   -6.39e+04      -5e+04\n",
      "TMAX           1.3679      0.106     12.855      0.000       1.158       1.578\n",
      "year          28.2419      1.736     16.264      0.000      24.818      31.666\n",
      "==============================================================================\n",
      "Omnibus:                        4.831   Durbin-Watson:                   0.837\n",
      "Prob(Omnibus):                  0.089   Jarque-Bera (JB):                4.798\n",
      "Skew:                          -0.252   Prob(JB):                       0.0908\n",
      "Kurtosis:                       3.547   Cond. No.                     3.65e+06\n",
      "==============================================================================\n",
      "\n",
      "Notes:\n",
      "[1] Standard Errors assume that the covariance matrix of the errors is correctly specified.\n",
      "[2] The condition number is large, 3.65e+06. This might indicate that there are\n",
      "strong multicollinearity or other numerical problems.\n"
     ]
    }
   ],
   "source": [
    "glm_res = sm.OLS(weekly_summary['smoothed_reports'], sm.add_constant(weekly_summary[['TMAX', 'year']].astype(float))).fit()\n",
    "print(glm_res.summary())"
   ]
  },
  {
   "cell_type": "code",
   "execution_count": 45,
   "metadata": {},
   "outputs": [],
   "source": [
    "def mean_absolute_percentage_error(y, y_hat):\n",
    "    y, y_hat = np.array(y), np.array(y_hat)\n",
    "    return np.mean(np.abs((y - y_hat) / y))"
   ]
  },
  {
   "cell_type": "code",
   "execution_count": 46,
   "metadata": {},
   "outputs": [
    {
     "name": "stdout",
     "output_type": "stream",
     "text": [
      "36.47606061741912\n",
      "2.4331179439541586\n",
      "0.2028817296643918\n"
     ]
    }
   ],
   "source": [
    "print(sm.tools.eval_measures.meanabs(weekly_summary['smoothed_reports'], ols_res.fittedvalues))\n",
    "print(sm.tools.eval_measures.rmspe(weekly_summary['smoothed_reports'], ols_res.fittedvalues))\n",
    "print(mean_absolute_percentage_error(weekly_summary['smoothed_reports'], ols_res.fittedvalues))"
   ]
  },
  {
   "cell_type": "code",
   "execution_count": 47,
   "metadata": {},
   "outputs": [
    {
     "data": {
      "application/vnd.plotly.v1+json": {
       "config": {
        "plotlyServerURL": "https://plot.ly"
       },
       "data": [
        {
         "hovertemplate": "Prediced Values=2019<br>TMAX=%{x}<br>Missing Pet Report Volume=%{y}<extra></extra>",
         "legendgroup": "2019",
         "line": {
          "color": "#4C78A8",
          "dash": "solid"
         },
         "marker": {
          "symbol": "circle"
         },
         "mode": "lines",
         "name": "2019",
         "orientation": "v",
         "showlegend": true,
         "type": "scatter",
         "x": [
          41.57142857142857,
          32.142857142857146,
          29.857142857142858,
          26.142857142857142,
          49.57142857142857,
          40.57142857142857,
          39,
          42.57142857142857,
          31.714285714285715,
          54.42857142857143,
          48.142857142857146,
          56.714285714285715,
          54.285714285714285,
          69.85714285714286,
          66.57142857142857,
          63.285714285714285,
          67.28571428571429,
          72,
          70.28571428571429,
          78.28571428571429,
          81.14285714285714,
          77,
          74.85714285714286,
          79,
          86.28571428571429,
          89.57142857142857,
          87.14285714285714,
          90,
          82.42857142857143,
          86.14285714285714,
          86.71428571428571,
          85,
          84.71428571428571,
          77.71428571428571,
          79.14285714285714,
          86.42857142857143,
          84.57142857142857,
          82.42857142857143,
          83.28571428571429,
          70.14285714285714,
          63.857142857142854,
          65.57142857142857,
          57.42857142857143,
          47.57142857142857,
          40.857142857142854,
          49.42857142857143,
          47.57142857142857,
          43.42857142857143,
          45.714285714285715,
          35.42857142857143,
          54.833333333333336,
          48.857142857142854
         ],
         "xaxis": "x",
         "y": [
          118.8545522508648,
          105.95735506567871,
          102.83076180866192,
          97.75004776601418,
          129.79762865041266,
          117.4866677009195,
          115.33713483672182,
          120.22243680080283,
          105.37111882998579,
          136.44163932157244,
          127.84350786478171,
          139.56823257858196,
          136.2462272430057,
          157.54614380642306,
          153.05166599946097,
          148.55718819249887,
          154.02872639228008,
          160.47732498487312,
          158.1323800421087,
          169.07545644166385,
          172.98369801293302,
          167.31674773459235,
          164.3855665561423,
          170.05251683447568,
          180.0185328412117,
          184.5130106481738,
          181.19100531259028,
          185.09924688385945,
          174.74240671999723,
          179.82312076265225,
          180.60476907690463,
          178.25982413414022,
          177.86899997701403,
          168.2938081274042,
          170.24792891304241,
          180.21394491977844,
          177.67358789845457,
          174.74240671999723,
          175.91487919138308,
          157.93696796354925,
          149.33883650675853,
          151.68378144951566,
          140.54529297140107,
          127.06185955052206,
          117.87749185804569,
          129.6022165718532,
          127.06185955052206,
          121.39490927218867,
          124.52150252919819,
          110.45183287263353,
          136.9953068774994,
          128.82056825759355
         ],
         "yaxis": "y"
        },
        {
         "hovertemplate": "Prediced Values=2020<br>TMAX=%{x}<br>Missing Pet Report Volume=%{y}<extra></extra>",
         "legendgroup": "2020",
         "line": {
          "color": "#F58518",
          "dash": "solid"
         },
         "marker": {
          "symbol": "circle"
         },
         "mode": "lines",
         "name": "2020",
         "orientation": "v",
         "showlegend": true,
         "type": "scatter",
         "x": [
          49.42857142857143,
          46.142857142857146,
          35.857142857142854,
          35.42857142857143,
          45.285714285714285,
          36.714285714285715,
          41.57142857142857,
          39,
          50.857142857142854,
          57,
          52.42857142857143,
          57.57142857142857,
          58.857142857142854,
          60.42857142857143,
          52.42857142857143,
          60.42857142857143,
          64,
          59.714285714285715,
          66,
          70.28571428571429,
          82.71428571428571,
          81.28571428571429,
          82.28571428571429,
          80.71428571428571,
          83.28571428571429,
          88.71428571428571,
          91.71428571428571,
          88,
          88,
          87.85714285714286,
          79.28571428571429,
          87.85714285714286,
          83,
          88.71428571428571,
          81.57142857142857,
          83.42857142857143,
          72.85714285714286,
          75.85714285714286,
          67.28571428571429,
          70.85714285714286,
          66.71428571428571,
          63.42857142857143,
          50.57142857142857,
          63.285714285714285,
          64.85714285714286,
          53.285714285714285,
          49.42857142857143,
          41.857142857142854,
          48.142857142857146,
          37.142857142857146,
          40.142857142857146,
          44.57142857142857
         ],
         "xaxis": "x",
         "y": [
          157.84414538153214,
          153.34966757457005,
          139.2799979180054,
          138.69376168231247,
          152.17719510319148,
          140.45247038938396,
          147.09648106054374,
          143.57906364640075,
          159.7982661671631,
          168.20098554538708,
          161.94779903136077,
          168.98263385964674,
          170.74134256671823,
          172.8908754309159,
          161.94779903136077,
          172.8908754309159,
          177.77617739499692,
          171.9138150380968,
          180.51194649488752,
          186.37430885178765,
          203.37515968680964,
          201.4210389011714,
          202.78892345111672,
          200.63939058691903,
          204.15680800106202,
          211.5824669864669,
          215.6861206363028,
          210.60540659365506,
          210.60540659365506,
          210.40999451508833,
          198.6852698012808,
          210.40999451508833,
          203.76598384393583,
          211.5824669864669,
          201.8118630582976,
          204.35222007962147,
          189.89172626593063,
          193.99537991575926,
          182.27065520195902,
          187.15595716604003,
          181.48900688770664,
          176.99452908074454,
          159.4074420100369,
          176.7991170021778,
          178.9486498663755,
          163.12027150273934,
          157.84414538153214,
          147.48730521766993,
          156.08543667446065,
          141.03870662507688,
          145.1423602749055,
          151.20013471037237
         ],
         "yaxis": "y"
        },
        {
         "hovertemplate": "Prediced Values=2021<br>TMAX=%{x}<br>Missing Pet Report Volume=%{y}<extra></extra>",
         "legendgroup": "2021",
         "line": {
          "color": "#E45756",
          "dash": "solid"
         },
         "marker": {
          "symbol": "circle"
         },
         "mode": "lines",
         "name": "2021",
         "orientation": "v",
         "showlegend": true,
         "type": "scatter",
         "x": [
          37.57142857142857,
          39,
          37.142857142857146,
          33.42857142857143,
          33,
          25.833333333333332,
          25.428571428571427,
          45.142857142857146,
          49,
          60.714285714285715,
          54.142857142857146,
          69.28571428571429,
          56.857142857142854,
          76.71428571428571,
          59.714285714285715,
          57.857142857142854,
          70.85714285714286,
          66.85714285714286,
          63.42857142857143,
          81.42857142857143,
          79,
          77,
          85.28571428571429,
          83.71428571428571,
          83,
          86.14285714285714,
          86,
          84.28571428571429,
          83.42857142857143,
          86.57142857142857,
          83.28571428571429,
          88.28571428571429,
          83.57142857142857,
          90.71428571428571,
          81.71428571428571,
          81,
          86.42857142857143,
          73.71428571428571,
          79,
          78.14285714285714,
          78.71428571428571,
          67,
          61,
          53.285714285714285,
          62,
          50.857142857142854,
          44.142857142857146,
          49.714285714285715,
          50.57142857142857,
          53.42857142857143,
          47.42857142857143,
          54.42857142857143
         ],
         "xaxis": "x",
         "y": [
          169.86687167044147,
          171.8209924560797,
          169.28063543475582,
          164.19992139210808,
          163.61368515641516,
          153.8105125484799,
          153.25684499255294,
          180.22371183430369,
          185.49983795551816,
          201.52362839772104,
          192.53467278380413,
          213.24835311152128,
          196.24750227650657,
          223.40978119682404,
          200.15574384777574,
          197.61538682645187,
          215.39788597571896,
          209.92634777594503,
          205.23645789042348,
          229.85837978941709,
          226.53637445383356,
          223.80060535395023,
          235.13450591062428,
          232.9849730464266,
          232.00791265361477,
          236.30697838201013,
          236.1115663034434,
          233.76662136068626,
          232.5941488893004,
          236.89321461769578,
          232.39873681074096,
          239.2381595604602,
          232.78956096786715,
          242.56016489603644,
          230.24920394654328,
          229.27214355372416,
          236.69780253913632,
          219.30612754698814,
          226.53637445383356,
          225.363901982455,
          226.14555029670737,
          210.12175985451177,
          201.91445255484723,
          191.36220031241828,
          203.28233710479253,
          188.04019497684203,
          178.85582728435838,
          186.47689834833727,
          187.64937081971584,
          191.557612390985,
          183.35030509132048,
          192.92549694093032
         ],
         "yaxis": "y"
        },
        {
         "hovertemplate": "Prediced Values=2022<br>TMAX=%{x}<br>Missing Pet Report Volume=%{y}<extra></extra>",
         "legendgroup": "2022",
         "line": {
          "color": "#72B7B2",
          "dash": "solid"
         },
         "marker": {
          "symbol": "circle"
         },
         "mode": "lines",
         "name": "2022",
         "orientation": "v",
         "showlegend": true,
         "type": "scatter",
         "x": [
          34.142857142857146,
          37,
          32,
          28.571428571428573,
          35,
          40.42857142857143,
          39,
          47.42857142857143,
          56.57142857142857,
          52,
          64.57142857142857,
          57.42857142857143,
          52.42857142857143,
          53.857142857142854,
          65.14285714285714,
          61.142857142857146,
          66,
          68,
          80.71428571428571,
          80.28571428571429,
          73.71428571428571,
          84.14285714285714,
          79.71428571428571,
          89.71428571428571,
          88.14285714285714,
          88,
          85.71428571428571,
          86.28571428571429,
          86.42857142857143,
          84,
          87,
          83.71428571428571,
          81.85714285714286,
          83.14285714285714,
          86,
          81.57142857142857,
          79.28571428571429,
          79.57142857142857,
          66.85714285714286,
          68.71428571428571,
          68.14285714285714,
          60.142857142857146,
          69.71428571428571,
          69.14285714285714,
          64.42857142857143,
          38.42857142857143,
          53,
          52.57142857142857,
          48.142857142857146,
          43.142857142857146,
          32.714285714285715,
          42.285714285714285
         ],
         "xaxis": "x",
         "y": [
          193.41891059459886,
          197.32715216586803,
          190.4877294161488,
          185.79783953062724,
          194.5913830659847,
          202.01704205138958,
          200.06292126575863,
          211.59223390099942,
          224.09860692905932,
          217.84542041502573,
          235.04168332860718,
          225.27107940043788,
          218.43165665071865,
          220.3857774363496,
          235.82333164286683,
          230.35179344308563,
          236.9958041142454,
          239.73157321412873,
          257.1232482062769,
          256.537011970584,
          247.54805635666708,
          261.81313809179846,
          255.7553636563316,
          269.4342091557701,
          267.2846762915724,
          267.08926421301294,
          263.96267095599615,
          264.7443192702485,
          264.93973134881526,
          261.61772601323173,
          265.72137966306764,
          261.22690185610554,
          258.68654483478167,
          260.44525354185316,
          264.35349511312234,
          258.2957206776555,
          255.1691274206387,
          255.55995157777215,
          238.16827658562397,
          240.70863360694784,
          239.92698529269546,
          228.98390889314032,
          242.07651815689314,
          241.29486984264076,
          234.84627125004772,
          199.28127295150625,
          219.21330496497103,
          218.62706872928538,
          212.56929429381853,
          205.7298715440993,
          191.4647898089679,
          204.55739907271345
         ],
         "yaxis": "y"
        },
        {
         "marker": {
          "color": "#4C78A8"
         },
         "mode": "markers",
         "name": "Actual Volume 2019",
         "type": "scatter",
         "x": [
          41.57142857142857,
          32.142857142857146,
          29.857142857142858,
          26.142857142857142,
          49.57142857142857,
          40.57142857142857,
          39,
          42.57142857142857,
          31.714285714285715,
          54.42857142857143,
          48.142857142857146,
          56.714285714285715,
          54.285714285714285,
          69.85714285714286,
          66.57142857142857,
          63.285714285714285,
          67.28571428571429,
          72,
          70.28571428571429,
          78.28571428571429,
          81.14285714285714,
          77,
          74.85714285714286,
          79,
          86.28571428571429,
          89.57142857142857,
          87.14285714285714,
          90,
          82.42857142857143,
          86.14285714285714,
          86.71428571428571,
          85,
          84.71428571428571,
          77.71428571428571,
          79.14285714285714,
          86.42857142857143,
          84.57142857142857,
          82.42857142857143,
          83.28571428571429,
          70.14285714285714,
          63.857142857142854,
          65.57142857142857,
          57.42857142857143,
          47.57142857142857,
          40.857142857142854,
          49.42857142857143,
          47.57142857142857,
          43.42857142857143,
          45.714285714285715,
          35.42857142857143,
          54.833333333333336,
          48.857142857142854
         ],
         "y": [
          130,
          95,
          96,
          81,
          110,
          118,
          104,
          121,
          121,
          114,
          147,
          145,
          154,
          177,
          191,
          176,
          159,
          166,
          172,
          182,
          193,
          165,
          176,
          175,
          162,
          189,
          174,
          177,
          193,
          186,
          194,
          154,
          150,
          182,
          178,
          171,
          151,
          207,
          178,
          182,
          196,
          184,
          199,
          175,
          166,
          141,
          149,
          147,
          123,
          139,
          149,
          142
         ]
        },
        {
         "marker": {
          "color": "#F58518"
         },
         "mode": "markers",
         "name": "Actual Volume 2020",
         "type": "scatter",
         "x": [
          49.42857142857143,
          46.142857142857146,
          35.857142857142854,
          35.42857142857143,
          45.285714285714285,
          36.714285714285715,
          41.57142857142857,
          39,
          50.857142857142854,
          57,
          52.42857142857143,
          57.57142857142857,
          58.857142857142854,
          60.42857142857143,
          52.42857142857143,
          60.42857142857143,
          64,
          59.714285714285715,
          66,
          70.28571428571429,
          82.71428571428571,
          81.28571428571429,
          82.28571428571429,
          80.71428571428571,
          83.28571428571429,
          88.71428571428571,
          91.71428571428571,
          88,
          88,
          87.85714285714286,
          79.28571428571429,
          87.85714285714286,
          83,
          88.71428571428571,
          81.57142857142857,
          83.42857142857143,
          72.85714285714286,
          75.85714285714286,
          67.28571428571429,
          70.85714285714286,
          66.71428571428571,
          63.42857142857143,
          50.57142857142857,
          63.285714285714285,
          64.85714285714286,
          53.285714285714285,
          49.42857142857143,
          41.857142857142854,
          48.142857142857146,
          37.142857142857146,
          40.142857142857146,
          44.57142857142857
         ],
         "y": [
          147,
          149,
          142,
          117,
          112,
          112,
          146,
          98,
          159,
          151,
          157,
          131,
          161,
          183,
          130,
          163,
          160,
          166,
          169,
          179,
          169,
          213,
          205,
          160,
          209,
          190.6,
          154,
          182,
          164,
          170,
          155,
          157,
          184,
          159,
          151,
          160,
          199,
          173,
          183,
          190,
          192,
          174,
          161,
          177,
          156,
          148,
          136,
          121,
          118,
          99,
          129,
          126.6
         ]
        },
        {
         "marker": {
          "color": "#E45756"
         },
         "mode": "markers",
         "name": "Actual Volume 2021",
         "type": "scatter",
         "x": [
          37.57142857142857,
          39,
          37.142857142857146,
          33.42857142857143,
          33,
          25.833333333333332,
          25.428571428571427,
          45.142857142857146,
          49,
          60.714285714285715,
          54.142857142857146,
          69.28571428571429,
          56.857142857142854,
          76.71428571428571,
          59.714285714285715,
          57.857142857142854,
          70.85714285714286,
          66.85714285714286,
          63.42857142857143,
          81.42857142857143,
          79,
          77,
          85.28571428571429,
          83.71428571428571,
          83,
          86.14285714285714,
          86,
          84.28571428571429,
          83.42857142857143,
          86.57142857142857,
          83.28571428571429,
          88.28571428571429,
          83.57142857142857,
          90.71428571428571,
          81.71428571428571,
          81,
          86.42857142857143,
          73.71428571428571,
          79,
          78.14285714285714,
          78.71428571428571,
          67,
          61,
          53.285714285714285,
          62,
          50.857142857142854,
          44.142857142857146,
          49.714285714285715,
          50.57142857142857,
          53.42857142857143,
          47.42857142857143,
          54.42857142857143
         ],
         "y": [
          127,
          161,
          164,
          179,
          129,
          138,
          114,
          180,
          204,
          223,
          197,
          234,
          224,
          244,
          219,
          223,
          243,
          216,
          260,
          274,
          214,
          218,
          224,
          242,
          251,
          261.6,
          259.4,
          250,
          231,
          212,
          247,
          233,
          201,
          203,
          230,
          250,
          205,
          230,
          274,
          228,
          230,
          259,
          232,
          275,
          267,
          235,
          206,
          238,
          224,
          178,
          226,
          179.4
         ]
        },
        {
         "marker": {
          "color": "#72B7B2"
         },
         "mode": "markers",
         "name": "Actual Volume 2022",
         "type": "scatter",
         "x": [
          34.142857142857146,
          37,
          32,
          28.571428571428573,
          35,
          40.42857142857143,
          39,
          47.42857142857143,
          56.57142857142857,
          52,
          64.57142857142857,
          57.42857142857143,
          52.42857142857143,
          53.857142857142854,
          65.14285714285714,
          61.142857142857146,
          66,
          68,
          80.71428571428571,
          80.28571428571429,
          73.71428571428571,
          84.14285714285714,
          79.71428571428571,
          89.71428571428571,
          88.14285714285714,
          88,
          85.71428571428571,
          86.28571428571429,
          86.42857142857143,
          84,
          87,
          83.71428571428571,
          81.85714285714286,
          83.14285714285714,
          86,
          81.57142857142857,
          79.28571428571429,
          79.57142857142857,
          66.85714285714286,
          68.71428571428571,
          68.14285714285714,
          60.142857142857146,
          69.71428571428571,
          69.14285714285714,
          64.42857142857143,
          38.42857142857143,
          53,
          52.57142857142857,
          48.142857142857146,
          43.142857142857146,
          32.714285714285715,
          42.285714285714285
         ],
         "y": [
          128,
          158,
          113,
          87,
          143,
          176,
          206,
          207,
          225,
          213,
          222,
          231,
          226,
          237,
          209,
          213,
          239,
          231,
          238,
          257,
          257,
          273,
          245,
          232,
          256,
          286,
          258.2,
          275,
          199,
          278,
          278,
          248,
          278,
          252,
          259,
          264,
          277,
          279,
          267,
          293,
          276,
          248,
          267,
          250,
          243,
          225,
          227,
          250,
          223,
          256,
          237,
          227.2
         ]
        }
       ],
       "layout": {
        "legend": {
         "title": {
          "text": "Prediced Values"
         },
         "tracegroupgap": 0
        },
        "template": {
         "data": {
          "bar": [
           {
            "error_x": {
             "color": "#2a3f5f"
            },
            "error_y": {
             "color": "#2a3f5f"
            },
            "marker": {
             "line": {
              "color": "#E5ECF6",
              "width": 0.5
             },
             "pattern": {
              "fillmode": "overlay",
              "size": 10,
              "solidity": 0.2
             }
            },
            "type": "bar"
           }
          ],
          "barpolar": [
           {
            "marker": {
             "line": {
              "color": "#E5ECF6",
              "width": 0.5
             },
             "pattern": {
              "fillmode": "overlay",
              "size": 10,
              "solidity": 0.2
             }
            },
            "type": "barpolar"
           }
          ],
          "carpet": [
           {
            "aaxis": {
             "endlinecolor": "#2a3f5f",
             "gridcolor": "white",
             "linecolor": "white",
             "minorgridcolor": "white",
             "startlinecolor": "#2a3f5f"
            },
            "baxis": {
             "endlinecolor": "#2a3f5f",
             "gridcolor": "white",
             "linecolor": "white",
             "minorgridcolor": "white",
             "startlinecolor": "#2a3f5f"
            },
            "type": "carpet"
           }
          ],
          "choropleth": [
           {
            "colorbar": {
             "outlinewidth": 0,
             "ticks": ""
            },
            "type": "choropleth"
           }
          ],
          "contour": [
           {
            "colorbar": {
             "outlinewidth": 0,
             "ticks": ""
            },
            "colorscale": [
             [
              0,
              "#0d0887"
             ],
             [
              0.1111111111111111,
              "#46039f"
             ],
             [
              0.2222222222222222,
              "#7201a8"
             ],
             [
              0.3333333333333333,
              "#9c179e"
             ],
             [
              0.4444444444444444,
              "#bd3786"
             ],
             [
              0.5555555555555556,
              "#d8576b"
             ],
             [
              0.6666666666666666,
              "#ed7953"
             ],
             [
              0.7777777777777778,
              "#fb9f3a"
             ],
             [
              0.8888888888888888,
              "#fdca26"
             ],
             [
              1,
              "#f0f921"
             ]
            ],
            "type": "contour"
           }
          ],
          "contourcarpet": [
           {
            "colorbar": {
             "outlinewidth": 0,
             "ticks": ""
            },
            "type": "contourcarpet"
           }
          ],
          "heatmap": [
           {
            "colorbar": {
             "outlinewidth": 0,
             "ticks": ""
            },
            "colorscale": [
             [
              0,
              "#0d0887"
             ],
             [
              0.1111111111111111,
              "#46039f"
             ],
             [
              0.2222222222222222,
              "#7201a8"
             ],
             [
              0.3333333333333333,
              "#9c179e"
             ],
             [
              0.4444444444444444,
              "#bd3786"
             ],
             [
              0.5555555555555556,
              "#d8576b"
             ],
             [
              0.6666666666666666,
              "#ed7953"
             ],
             [
              0.7777777777777778,
              "#fb9f3a"
             ],
             [
              0.8888888888888888,
              "#fdca26"
             ],
             [
              1,
              "#f0f921"
             ]
            ],
            "type": "heatmap"
           }
          ],
          "heatmapgl": [
           {
            "colorbar": {
             "outlinewidth": 0,
             "ticks": ""
            },
            "colorscale": [
             [
              0,
              "#0d0887"
             ],
             [
              0.1111111111111111,
              "#46039f"
             ],
             [
              0.2222222222222222,
              "#7201a8"
             ],
             [
              0.3333333333333333,
              "#9c179e"
             ],
             [
              0.4444444444444444,
              "#bd3786"
             ],
             [
              0.5555555555555556,
              "#d8576b"
             ],
             [
              0.6666666666666666,
              "#ed7953"
             ],
             [
              0.7777777777777778,
              "#fb9f3a"
             ],
             [
              0.8888888888888888,
              "#fdca26"
             ],
             [
              1,
              "#f0f921"
             ]
            ],
            "type": "heatmapgl"
           }
          ],
          "histogram": [
           {
            "marker": {
             "pattern": {
              "fillmode": "overlay",
              "size": 10,
              "solidity": 0.2
             }
            },
            "type": "histogram"
           }
          ],
          "histogram2d": [
           {
            "colorbar": {
             "outlinewidth": 0,
             "ticks": ""
            },
            "colorscale": [
             [
              0,
              "#0d0887"
             ],
             [
              0.1111111111111111,
              "#46039f"
             ],
             [
              0.2222222222222222,
              "#7201a8"
             ],
             [
              0.3333333333333333,
              "#9c179e"
             ],
             [
              0.4444444444444444,
              "#bd3786"
             ],
             [
              0.5555555555555556,
              "#d8576b"
             ],
             [
              0.6666666666666666,
              "#ed7953"
             ],
             [
              0.7777777777777778,
              "#fb9f3a"
             ],
             [
              0.8888888888888888,
              "#fdca26"
             ],
             [
              1,
              "#f0f921"
             ]
            ],
            "type": "histogram2d"
           }
          ],
          "histogram2dcontour": [
           {
            "colorbar": {
             "outlinewidth": 0,
             "ticks": ""
            },
            "colorscale": [
             [
              0,
              "#0d0887"
             ],
             [
              0.1111111111111111,
              "#46039f"
             ],
             [
              0.2222222222222222,
              "#7201a8"
             ],
             [
              0.3333333333333333,
              "#9c179e"
             ],
             [
              0.4444444444444444,
              "#bd3786"
             ],
             [
              0.5555555555555556,
              "#d8576b"
             ],
             [
              0.6666666666666666,
              "#ed7953"
             ],
             [
              0.7777777777777778,
              "#fb9f3a"
             ],
             [
              0.8888888888888888,
              "#fdca26"
             ],
             [
              1,
              "#f0f921"
             ]
            ],
            "type": "histogram2dcontour"
           }
          ],
          "mesh3d": [
           {
            "colorbar": {
             "outlinewidth": 0,
             "ticks": ""
            },
            "type": "mesh3d"
           }
          ],
          "parcoords": [
           {
            "line": {
             "colorbar": {
              "outlinewidth": 0,
              "ticks": ""
             }
            },
            "type": "parcoords"
           }
          ],
          "pie": [
           {
            "automargin": true,
            "type": "pie"
           }
          ],
          "scatter": [
           {
            "fillpattern": {
             "fillmode": "overlay",
             "size": 10,
             "solidity": 0.2
            },
            "type": "scatter"
           }
          ],
          "scatter3d": [
           {
            "line": {
             "colorbar": {
              "outlinewidth": 0,
              "ticks": ""
             }
            },
            "marker": {
             "colorbar": {
              "outlinewidth": 0,
              "ticks": ""
             }
            },
            "type": "scatter3d"
           }
          ],
          "scattercarpet": [
           {
            "marker": {
             "colorbar": {
              "outlinewidth": 0,
              "ticks": ""
             }
            },
            "type": "scattercarpet"
           }
          ],
          "scattergeo": [
           {
            "marker": {
             "colorbar": {
              "outlinewidth": 0,
              "ticks": ""
             }
            },
            "type": "scattergeo"
           }
          ],
          "scattergl": [
           {
            "marker": {
             "colorbar": {
              "outlinewidth": 0,
              "ticks": ""
             }
            },
            "type": "scattergl"
           }
          ],
          "scattermapbox": [
           {
            "marker": {
             "colorbar": {
              "outlinewidth": 0,
              "ticks": ""
             }
            },
            "type": "scattermapbox"
           }
          ],
          "scatterpolar": [
           {
            "marker": {
             "colorbar": {
              "outlinewidth": 0,
              "ticks": ""
             }
            },
            "type": "scatterpolar"
           }
          ],
          "scatterpolargl": [
           {
            "marker": {
             "colorbar": {
              "outlinewidth": 0,
              "ticks": ""
             }
            },
            "type": "scatterpolargl"
           }
          ],
          "scatterternary": [
           {
            "marker": {
             "colorbar": {
              "outlinewidth": 0,
              "ticks": ""
             }
            },
            "type": "scatterternary"
           }
          ],
          "surface": [
           {
            "colorbar": {
             "outlinewidth": 0,
             "ticks": ""
            },
            "colorscale": [
             [
              0,
              "#0d0887"
             ],
             [
              0.1111111111111111,
              "#46039f"
             ],
             [
              0.2222222222222222,
              "#7201a8"
             ],
             [
              0.3333333333333333,
              "#9c179e"
             ],
             [
              0.4444444444444444,
              "#bd3786"
             ],
             [
              0.5555555555555556,
              "#d8576b"
             ],
             [
              0.6666666666666666,
              "#ed7953"
             ],
             [
              0.7777777777777778,
              "#fb9f3a"
             ],
             [
              0.8888888888888888,
              "#fdca26"
             ],
             [
              1,
              "#f0f921"
             ]
            ],
            "type": "surface"
           }
          ],
          "table": [
           {
            "cells": {
             "fill": {
              "color": "#EBF0F8"
             },
             "line": {
              "color": "white"
             }
            },
            "header": {
             "fill": {
              "color": "#C8D4E3"
             },
             "line": {
              "color": "white"
             }
            },
            "type": "table"
           }
          ]
         },
         "layout": {
          "annotationdefaults": {
           "arrowcolor": "#2a3f5f",
           "arrowhead": 0,
           "arrowwidth": 1
          },
          "autotypenumbers": "strict",
          "coloraxis": {
           "colorbar": {
            "outlinewidth": 0,
            "ticks": ""
           }
          },
          "colorscale": {
           "diverging": [
            [
             0,
             "#8e0152"
            ],
            [
             0.1,
             "#c51b7d"
            ],
            [
             0.2,
             "#de77ae"
            ],
            [
             0.3,
             "#f1b6da"
            ],
            [
             0.4,
             "#fde0ef"
            ],
            [
             0.5,
             "#f7f7f7"
            ],
            [
             0.6,
             "#e6f5d0"
            ],
            [
             0.7,
             "#b8e186"
            ],
            [
             0.8,
             "#7fbc41"
            ],
            [
             0.9,
             "#4d9221"
            ],
            [
             1,
             "#276419"
            ]
           ],
           "sequential": [
            [
             0,
             "#0d0887"
            ],
            [
             0.1111111111111111,
             "#46039f"
            ],
            [
             0.2222222222222222,
             "#7201a8"
            ],
            [
             0.3333333333333333,
             "#9c179e"
            ],
            [
             0.4444444444444444,
             "#bd3786"
            ],
            [
             0.5555555555555556,
             "#d8576b"
            ],
            [
             0.6666666666666666,
             "#ed7953"
            ],
            [
             0.7777777777777778,
             "#fb9f3a"
            ],
            [
             0.8888888888888888,
             "#fdca26"
            ],
            [
             1,
             "#f0f921"
            ]
           ],
           "sequentialminus": [
            [
             0,
             "#0d0887"
            ],
            [
             0.1111111111111111,
             "#46039f"
            ],
            [
             0.2222222222222222,
             "#7201a8"
            ],
            [
             0.3333333333333333,
             "#9c179e"
            ],
            [
             0.4444444444444444,
             "#bd3786"
            ],
            [
             0.5555555555555556,
             "#d8576b"
            ],
            [
             0.6666666666666666,
             "#ed7953"
            ],
            [
             0.7777777777777778,
             "#fb9f3a"
            ],
            [
             0.8888888888888888,
             "#fdca26"
            ],
            [
             1,
             "#f0f921"
            ]
           ]
          },
          "colorway": [
           "#636efa",
           "#EF553B",
           "#00cc96",
           "#ab63fa",
           "#FFA15A",
           "#19d3f3",
           "#FF6692",
           "#B6E880",
           "#FF97FF",
           "#FECB52"
          ],
          "font": {
           "color": "#2a3f5f"
          },
          "geo": {
           "bgcolor": "white",
           "lakecolor": "white",
           "landcolor": "#E5ECF6",
           "showlakes": true,
           "showland": true,
           "subunitcolor": "white"
          },
          "hoverlabel": {
           "align": "left"
          },
          "hovermode": "closest",
          "mapbox": {
           "style": "light"
          },
          "paper_bgcolor": "white",
          "plot_bgcolor": "#E5ECF6",
          "polar": {
           "angularaxis": {
            "gridcolor": "white",
            "linecolor": "white",
            "ticks": ""
           },
           "bgcolor": "#E5ECF6",
           "radialaxis": {
            "gridcolor": "white",
            "linecolor": "white",
            "ticks": ""
           }
          },
          "scene": {
           "xaxis": {
            "backgroundcolor": "#E5ECF6",
            "gridcolor": "white",
            "gridwidth": 2,
            "linecolor": "white",
            "showbackground": true,
            "ticks": "",
            "zerolinecolor": "white"
           },
           "yaxis": {
            "backgroundcolor": "#E5ECF6",
            "gridcolor": "white",
            "gridwidth": 2,
            "linecolor": "white",
            "showbackground": true,
            "ticks": "",
            "zerolinecolor": "white"
           },
           "zaxis": {
            "backgroundcolor": "#E5ECF6",
            "gridcolor": "white",
            "gridwidth": 2,
            "linecolor": "white",
            "showbackground": true,
            "ticks": "",
            "zerolinecolor": "white"
           }
          },
          "shapedefaults": {
           "line": {
            "color": "#2a3f5f"
           }
          },
          "ternary": {
           "aaxis": {
            "gridcolor": "white",
            "linecolor": "white",
            "ticks": ""
           },
           "baxis": {
            "gridcolor": "white",
            "linecolor": "white",
            "ticks": ""
           },
           "bgcolor": "#E5ECF6",
           "caxis": {
            "gridcolor": "white",
            "linecolor": "white",
            "ticks": ""
           }
          },
          "title": {
           "x": 0.05
          },
          "xaxis": {
           "automargin": true,
           "gridcolor": "white",
           "linecolor": "white",
           "ticks": "",
           "title": {
            "standoff": 15
           },
           "zerolinecolor": "white",
           "zerolinewidth": 2
          },
          "yaxis": {
           "automargin": true,
           "gridcolor": "white",
           "linecolor": "white",
           "ticks": "",
           "title": {
            "standoff": 15
           },
           "zerolinecolor": "white",
           "zerolinewidth": 2
          }
         }
        },
        "title": {
         "text": "Weekly Missing Pet Report Volumes Compared to Average Temperature"
        },
        "width": 720,
        "xaxis": {
         "anchor": "y",
         "domain": [
          0,
          1
         ],
         "title": {
          "text": "TMAX"
         }
        },
        "yaxis": {
         "anchor": "x",
         "domain": [
          0,
          1
         ],
         "title": {
          "text": "Missing Pet Report Volume"
         }
        }
       }
      }
     },
     "metadata": {},
     "output_type": "display_data"
    }
   ],
   "source": [
    "glm_fig = px.line(\n",
    "  weekly_summary,\n",
    "  x=weekly_summary['TMAX'],\n",
    "  y=glm_res.fittedvalues,\n",
    "  width=720,\n",
    "  labels={\n",
    "    'x': 'Averge Max Temperature',\n",
    "    'y': 'Missing Pet Report Volume',\n",
    "    'year': 'Prediced Values'\n",
    "  },\n",
    "  title='Weekly Missing Pet Report Volumes Compared to Average Temperature',\n",
    "  color='year',\n",
    "  color_discrete_sequence=px.colors.qualitative.T10\n",
    ")\n",
    "for y in weekly_summary.year.unique():\n",
    "  year_summary = weekly_summary[weekly_summary['year'] == y]\n",
    "  glm_fig.add_scatter(\n",
    "    x=year_summary['TMAX'],\n",
    "    y=year_summary['smoothed_reports'],\n",
    "    mode='markers',\n",
    "    marker_color=px.colors.qualitative.T10[int(y) - 2019],\n",
    "    name='Actual Volume ' + y\n",
    "  )\n",
    "\n",
    "glm_fig.show()"
   ]
  },
  {
   "cell_type": "code",
   "execution_count": 48,
   "metadata": {},
   "outputs": [
    {
     "data": {
      "application/vnd.plotly.v1+json": {
       "config": {
        "plotlyServerURL": "https://plot.ly"
       },
       "data": [
        {
         "hovertemplate": "year=2019<br>TMAX=%{x}<br>y=%{y}<extra></extra>",
         "legendgroup": "2019",
         "marker": {
          "color": "#4C78A8",
          "symbol": "circle"
         },
         "mode": "markers",
         "name": "2019",
         "orientation": "v",
         "showlegend": true,
         "type": "scatter",
         "x": [
          41.57142857142857,
          32.142857142857146,
          29.857142857142858,
          26.142857142857142,
          49.57142857142857,
          40.57142857142857,
          39,
          42.57142857142857,
          31.714285714285715,
          54.42857142857143,
          48.142857142857146,
          56.714285714285715,
          54.285714285714285,
          69.85714285714286,
          66.57142857142857,
          63.285714285714285,
          67.28571428571429,
          72,
          70.28571428571429,
          78.28571428571429,
          81.14285714285714,
          77,
          74.85714285714286,
          79,
          86.28571428571429,
          89.57142857142857,
          87.14285714285714,
          90,
          82.42857142857143,
          86.14285714285714,
          86.71428571428571,
          85,
          84.71428571428571,
          77.71428571428571,
          79.14285714285714,
          86.42857142857143,
          84.57142857142857,
          82.42857142857143,
          83.28571428571429,
          70.14285714285714,
          63.857142857142854,
          65.57142857142857,
          57.42857142857143,
          47.57142857142857,
          40.857142857142854,
          49.42857142857143,
          47.57142857142857,
          43.42857142857143,
          45.714285714285715,
          35.42857142857143,
          54.833333333333336,
          48.857142857142854
         ],
         "xaxis": "x",
         "y": [
          11.1454477491352,
          -10.957355065678712,
          -6.830761808661919,
          -16.750047766014177,
          -19.797628650412662,
          0.5133322990805027,
          -11.337134836721816,
          0.777563199197175,
          15.62888117001421,
          -22.44163932157244,
          19.156492135218286,
          5.431767421418044,
          17.753772756994294,
          19.45385619357694,
          37.948334000539035,
          27.44281180750113,
          4.971273607719922,
          5.522675015126879,
          13.867619957891293,
          12.924543558336154,
          20.01630198706698,
          -2.3167477345923544,
          11.614433443857706,
          4.947483165524318,
          -18.01853284121171,
          4.486989351826196,
          -7.191005312590278,
          -8.09924688385945,
          18.257593280002766,
          6.176879237347748,
          13.395230923095369,
          -24.259824134140217,
          -27.868999977014028,
          13.70619187259581,
          7.752071086957585,
          -9.213944919778442,
          -26.67358789845457,
          32.257593280002766,
          2.085120808616921,
          24.06303203645075,
          46.661163493241474,
          32.316218550484336,
          58.45470702859893,
          47.93814044947794,
          48.12250814195431,
          11.397783428146795,
          21.93814044947794,
          25.60509072781133,
          -1.5215025291981874,
          28.54816712736647,
          12.004693122500612,
          13.17943174240645
         ],
         "yaxis": "y"
        },
        {
         "alignmentgroup": "True",
         "bingroup": "x",
         "hovertemplate": "year=2019<br>TMAX=%{x}<br>count=%{y}<extra></extra>",
         "legendgroup": "2019",
         "marker": {
          "color": "#4C78A8"
         },
         "name": "2019",
         "offsetgroup": "2019",
         "opacity": 0.5,
         "showlegend": false,
         "type": "histogram",
         "x": [
          41.57142857142857,
          32.142857142857146,
          29.857142857142858,
          26.142857142857142,
          49.57142857142857,
          40.57142857142857,
          39,
          42.57142857142857,
          31.714285714285715,
          54.42857142857143,
          48.142857142857146,
          56.714285714285715,
          54.285714285714285,
          69.85714285714286,
          66.57142857142857,
          63.285714285714285,
          67.28571428571429,
          72,
          70.28571428571429,
          78.28571428571429,
          81.14285714285714,
          77,
          74.85714285714286,
          79,
          86.28571428571429,
          89.57142857142857,
          87.14285714285714,
          90,
          82.42857142857143,
          86.14285714285714,
          86.71428571428571,
          85,
          84.71428571428571,
          77.71428571428571,
          79.14285714285714,
          86.42857142857143,
          84.57142857142857,
          82.42857142857143,
          83.28571428571429,
          70.14285714285714,
          63.857142857142854,
          65.57142857142857,
          57.42857142857143,
          47.57142857142857,
          40.857142857142854,
          49.42857142857143,
          47.57142857142857,
          43.42857142857143,
          45.714285714285715,
          35.42857142857143,
          54.833333333333336,
          48.857142857142854
         ],
         "xaxis": "x3",
         "yaxis": "y3"
        },
        {
         "alignmentgroup": "True",
         "boxpoints": "all",
         "fillcolor": "rgba(255,255,255,0)",
         "hoveron": "points",
         "hovertemplate": "year=2019<br>y=%{y}<extra></extra>",
         "jitter": 0,
         "legendgroup": "2019",
         "line": {
          "color": "rgba(255,255,255,0)"
         },
         "marker": {
          "color": "#4C78A8",
          "symbol": "line-ew-open"
         },
         "name": "2019",
         "offsetgroup": "2019",
         "showlegend": false,
         "type": "box",
         "xaxis": "x2",
         "y": [
          11.1454477491352,
          -10.957355065678712,
          -6.830761808661919,
          -16.750047766014177,
          -19.797628650412662,
          0.5133322990805027,
          -11.337134836721816,
          0.777563199197175,
          15.62888117001421,
          -22.44163932157244,
          19.156492135218286,
          5.431767421418044,
          17.753772756994294,
          19.45385619357694,
          37.948334000539035,
          27.44281180750113,
          4.971273607719922,
          5.522675015126879,
          13.867619957891293,
          12.924543558336154,
          20.01630198706698,
          -2.3167477345923544,
          11.614433443857706,
          4.947483165524318,
          -18.01853284121171,
          4.486989351826196,
          -7.191005312590278,
          -8.09924688385945,
          18.257593280002766,
          6.176879237347748,
          13.395230923095369,
          -24.259824134140217,
          -27.868999977014028,
          13.70619187259581,
          7.752071086957585,
          -9.213944919778442,
          -26.67358789845457,
          32.257593280002766,
          2.085120808616921,
          24.06303203645075,
          46.661163493241474,
          32.316218550484336,
          58.45470702859893,
          47.93814044947794,
          48.12250814195431,
          11.397783428146795,
          21.93814044947794,
          25.60509072781133,
          -1.5215025291981874,
          28.54816712736647,
          12.004693122500612,
          13.17943174240645
         ],
         "yaxis": "y2"
        },
        {
         "hovertemplate": "year=2020<br>TMAX=%{x}<br>y=%{y}<extra></extra>",
         "legendgroup": "2020",
         "marker": {
          "color": "#F58518",
          "symbol": "circle"
         },
         "mode": "markers",
         "name": "2020",
         "orientation": "v",
         "showlegend": true,
         "type": "scatter",
         "x": [
          49.42857142857143,
          46.142857142857146,
          35.857142857142854,
          35.42857142857143,
          45.285714285714285,
          36.714285714285715,
          41.57142857142857,
          39,
          50.857142857142854,
          57,
          52.42857142857143,
          57.57142857142857,
          58.857142857142854,
          60.42857142857143,
          52.42857142857143,
          60.42857142857143,
          64,
          59.714285714285715,
          66,
          70.28571428571429,
          82.71428571428571,
          81.28571428571429,
          82.28571428571429,
          80.71428571428571,
          83.28571428571429,
          88.71428571428571,
          91.71428571428571,
          88,
          88,
          87.85714285714286,
          79.28571428571429,
          87.85714285714286,
          83,
          88.71428571428571,
          81.57142857142857,
          83.42857142857143,
          72.85714285714286,
          75.85714285714286,
          67.28571428571429,
          70.85714285714286,
          66.71428571428571,
          63.42857142857143,
          50.57142857142857,
          63.285714285714285,
          64.85714285714286,
          53.285714285714285,
          49.42857142857143,
          41.857142857142854,
          48.142857142857146,
          37.142857142857146,
          40.142857142857146,
          44.57142857142857
         ],
         "xaxis": "x",
         "y": [
          -10.844145381532144,
          -4.349667574570049,
          2.7200020819946076,
          -21.69376168231247,
          -40.17719510319148,
          -28.45247038938396,
          -1.0964810605437378,
          -45.579063646400755,
          -0.7982661671630922,
          -17.200985545387084,
          -4.947799031360773,
          -37.98263385964674,
          -9.741342566718231,
          10.109124569084088,
          -31.947799031360773,
          -9.890875430915912,
          -17.77617739499692,
          -5.9138150380968,
          -11.511946494887525,
          -7.374308851787646,
          -34.37515968680964,
          11.578961098828586,
          2.211076548883284,
          -40.639390586919035,
          4.843191998937982,
          -20.982466986466903,
          -61.6861206363028,
          -28.60540659365506,
          -46.60540659365506,
          -40.40999451508833,
          -43.68526980128081,
          -53.40999451508833,
          -19.765983843935828,
          -52.5824669864669,
          -50.811863058297604,
          -44.352220079621475,
          9.108273734069371,
          -20.99537991575926,
          0.7293447980409837,
          2.844042833959975,
          10.510993112293363,
          -2.9945290807445417,
          1.5925579899630975,
          0.2008829978221911,
          -22.94864986637549,
          -15.120271502739342,
          -21.844145381532144,
          -26.487305217669928,
          -38.08543667446065,
          -42.038706625076884,
          -16.142360274905514,
          -24.600134710372373
         ],
         "yaxis": "y"
        },
        {
         "alignmentgroup": "True",
         "bingroup": "x",
         "hovertemplate": "year=2020<br>TMAX=%{x}<br>count=%{y}<extra></extra>",
         "legendgroup": "2020",
         "marker": {
          "color": "#F58518"
         },
         "name": "2020",
         "offsetgroup": "2020",
         "opacity": 0.5,
         "showlegend": false,
         "type": "histogram",
         "x": [
          49.42857142857143,
          46.142857142857146,
          35.857142857142854,
          35.42857142857143,
          45.285714285714285,
          36.714285714285715,
          41.57142857142857,
          39,
          50.857142857142854,
          57,
          52.42857142857143,
          57.57142857142857,
          58.857142857142854,
          60.42857142857143,
          52.42857142857143,
          60.42857142857143,
          64,
          59.714285714285715,
          66,
          70.28571428571429,
          82.71428571428571,
          81.28571428571429,
          82.28571428571429,
          80.71428571428571,
          83.28571428571429,
          88.71428571428571,
          91.71428571428571,
          88,
          88,
          87.85714285714286,
          79.28571428571429,
          87.85714285714286,
          83,
          88.71428571428571,
          81.57142857142857,
          83.42857142857143,
          72.85714285714286,
          75.85714285714286,
          67.28571428571429,
          70.85714285714286,
          66.71428571428571,
          63.42857142857143,
          50.57142857142857,
          63.285714285714285,
          64.85714285714286,
          53.285714285714285,
          49.42857142857143,
          41.857142857142854,
          48.142857142857146,
          37.142857142857146,
          40.142857142857146,
          44.57142857142857
         ],
         "xaxis": "x3",
         "yaxis": "y3"
        },
        {
         "alignmentgroup": "True",
         "boxpoints": "all",
         "fillcolor": "rgba(255,255,255,0)",
         "hoveron": "points",
         "hovertemplate": "year=2020<br>y=%{y}<extra></extra>",
         "jitter": 0,
         "legendgroup": "2020",
         "line": {
          "color": "rgba(255,255,255,0)"
         },
         "marker": {
          "color": "#F58518",
          "symbol": "line-ew-open"
         },
         "name": "2020",
         "offsetgroup": "2020",
         "showlegend": false,
         "type": "box",
         "xaxis": "x2",
         "y": [
          -10.844145381532144,
          -4.349667574570049,
          2.7200020819946076,
          -21.69376168231247,
          -40.17719510319148,
          -28.45247038938396,
          -1.0964810605437378,
          -45.579063646400755,
          -0.7982661671630922,
          -17.200985545387084,
          -4.947799031360773,
          -37.98263385964674,
          -9.741342566718231,
          10.109124569084088,
          -31.947799031360773,
          -9.890875430915912,
          -17.77617739499692,
          -5.9138150380968,
          -11.511946494887525,
          -7.374308851787646,
          -34.37515968680964,
          11.578961098828586,
          2.211076548883284,
          -40.639390586919035,
          4.843191998937982,
          -20.982466986466903,
          -61.6861206363028,
          -28.60540659365506,
          -46.60540659365506,
          -40.40999451508833,
          -43.68526980128081,
          -53.40999451508833,
          -19.765983843935828,
          -52.5824669864669,
          -50.811863058297604,
          -44.352220079621475,
          9.108273734069371,
          -20.99537991575926,
          0.7293447980409837,
          2.844042833959975,
          10.510993112293363,
          -2.9945290807445417,
          1.5925579899630975,
          0.2008829978221911,
          -22.94864986637549,
          -15.120271502739342,
          -21.844145381532144,
          -26.487305217669928,
          -38.08543667446065,
          -42.038706625076884,
          -16.142360274905514,
          -24.600134710372373
         ],
         "yaxis": "y2"
        },
        {
         "hovertemplate": "year=2021<br>TMAX=%{x}<br>y=%{y}<extra></extra>",
         "legendgroup": "2021",
         "marker": {
          "color": "#E45756",
          "symbol": "circle"
         },
         "mode": "markers",
         "name": "2021",
         "orientation": "v",
         "showlegend": true,
         "type": "scatter",
         "x": [
          37.57142857142857,
          39,
          37.142857142857146,
          33.42857142857143,
          33,
          25.833333333333332,
          25.428571428571427,
          45.142857142857146,
          49,
          60.714285714285715,
          54.142857142857146,
          69.28571428571429,
          56.857142857142854,
          76.71428571428571,
          59.714285714285715,
          57.857142857142854,
          70.85714285714286,
          66.85714285714286,
          63.42857142857143,
          81.42857142857143,
          79,
          77,
          85.28571428571429,
          83.71428571428571,
          83,
          86.14285714285714,
          86,
          84.28571428571429,
          83.42857142857143,
          86.57142857142857,
          83.28571428571429,
          88.28571428571429,
          83.57142857142857,
          90.71428571428571,
          81.71428571428571,
          81,
          86.42857142857143,
          73.71428571428571,
          79,
          78.14285714285714,
          78.71428571428571,
          67,
          61,
          53.285714285714285,
          62,
          50.857142857142854,
          44.142857142857146,
          49.714285714285715,
          50.57142857142857,
          53.42857142857143,
          47.42857142857143,
          54.42857142857143
         ],
         "xaxis": "x",
         "y": [
          -42.86687167044147,
          -10.820992456079694,
          -5.280635434755823,
          14.800078607891919,
          -34.61368515641516,
          -15.810512548479892,
          -39.25684499255294,
          -0.22371183430368546,
          18.50016204448184,
          21.47637160227896,
          4.465327216195874,
          20.751646888478717,
          27.752497723493434,
          20.590218803175958,
          18.84425615222426,
          25.384613173548132,
          27.602114024281036,
          6.0736522240549675,
          54.76354210957652,
          44.141620210582914,
          -12.53637445383356,
          -5.800605353950232,
          -11.134505910624284,
          9.015026953573397,
          18.992087346385233,
          25.293021617989893,
          23.28843369655658,
          16.23337863931374,
          -1.5941488893004134,
          -24.893214617695776,
          14.601263189259043,
          -6.23815956046019,
          -31.789560967867146,
          -39.56016489603644,
          -0.24920394654327538,
          20.727856446275837,
          -31.69780253913632,
          10.693872453011863,
          47.46362554616644,
          2.6360980175450095,
          3.85444970329263,
          48.878240145488235,
          30.08554744515277,
          83.63779968758172,
          63.71766289520747,
          46.95980502315797,
          27.144172715641616,
          51.52310165166273,
          36.35062918028416,
          -13.557612390985014,
          42.64969490867952,
          -13.52549694093031
         ],
         "yaxis": "y"
        },
        {
         "alignmentgroup": "True",
         "bingroup": "x",
         "hovertemplate": "year=2021<br>TMAX=%{x}<br>count=%{y}<extra></extra>",
         "legendgroup": "2021",
         "marker": {
          "color": "#E45756"
         },
         "name": "2021",
         "offsetgroup": "2021",
         "opacity": 0.5,
         "showlegend": false,
         "type": "histogram",
         "x": [
          37.57142857142857,
          39,
          37.142857142857146,
          33.42857142857143,
          33,
          25.833333333333332,
          25.428571428571427,
          45.142857142857146,
          49,
          60.714285714285715,
          54.142857142857146,
          69.28571428571429,
          56.857142857142854,
          76.71428571428571,
          59.714285714285715,
          57.857142857142854,
          70.85714285714286,
          66.85714285714286,
          63.42857142857143,
          81.42857142857143,
          79,
          77,
          85.28571428571429,
          83.71428571428571,
          83,
          86.14285714285714,
          86,
          84.28571428571429,
          83.42857142857143,
          86.57142857142857,
          83.28571428571429,
          88.28571428571429,
          83.57142857142857,
          90.71428571428571,
          81.71428571428571,
          81,
          86.42857142857143,
          73.71428571428571,
          79,
          78.14285714285714,
          78.71428571428571,
          67,
          61,
          53.285714285714285,
          62,
          50.857142857142854,
          44.142857142857146,
          49.714285714285715,
          50.57142857142857,
          53.42857142857143,
          47.42857142857143,
          54.42857142857143
         ],
         "xaxis": "x3",
         "yaxis": "y3"
        },
        {
         "alignmentgroup": "True",
         "boxpoints": "all",
         "fillcolor": "rgba(255,255,255,0)",
         "hoveron": "points",
         "hovertemplate": "year=2021<br>y=%{y}<extra></extra>",
         "jitter": 0,
         "legendgroup": "2021",
         "line": {
          "color": "rgba(255,255,255,0)"
         },
         "marker": {
          "color": "#E45756",
          "symbol": "line-ew-open"
         },
         "name": "2021",
         "offsetgroup": "2021",
         "showlegend": false,
         "type": "box",
         "xaxis": "x2",
         "y": [
          -42.86687167044147,
          -10.820992456079694,
          -5.280635434755823,
          14.800078607891919,
          -34.61368515641516,
          -15.810512548479892,
          -39.25684499255294,
          -0.22371183430368546,
          18.50016204448184,
          21.47637160227896,
          4.465327216195874,
          20.751646888478717,
          27.752497723493434,
          20.590218803175958,
          18.84425615222426,
          25.384613173548132,
          27.602114024281036,
          6.0736522240549675,
          54.76354210957652,
          44.141620210582914,
          -12.53637445383356,
          -5.800605353950232,
          -11.134505910624284,
          9.015026953573397,
          18.992087346385233,
          25.293021617989893,
          23.28843369655658,
          16.23337863931374,
          -1.5941488893004134,
          -24.893214617695776,
          14.601263189259043,
          -6.23815956046019,
          -31.789560967867146,
          -39.56016489603644,
          -0.24920394654327538,
          20.727856446275837,
          -31.69780253913632,
          10.693872453011863,
          47.46362554616644,
          2.6360980175450095,
          3.85444970329263,
          48.878240145488235,
          30.08554744515277,
          83.63779968758172,
          63.71766289520747,
          46.95980502315797,
          27.144172715641616,
          51.52310165166273,
          36.35062918028416,
          -13.557612390985014,
          42.64969490867952,
          -13.52549694093031
         ],
         "yaxis": "y2"
        },
        {
         "hovertemplate": "year=2022<br>TMAX=%{x}<br>y=%{y}<extra></extra>",
         "legendgroup": "2022",
         "marker": {
          "color": "#72B7B2",
          "symbol": "circle"
         },
         "mode": "markers",
         "name": "2022",
         "orientation": "v",
         "showlegend": true,
         "type": "scatter",
         "x": [
          34.142857142857146,
          37,
          32,
          28.571428571428573,
          35,
          40.42857142857143,
          39,
          47.42857142857143,
          56.57142857142857,
          52,
          64.57142857142857,
          57.42857142857143,
          52.42857142857143,
          53.857142857142854,
          65.14285714285714,
          61.142857142857146,
          66,
          68,
          80.71428571428571,
          80.28571428571429,
          73.71428571428571,
          84.14285714285714,
          79.71428571428571,
          89.71428571428571,
          88.14285714285714,
          88,
          85.71428571428571,
          86.28571428571429,
          86.42857142857143,
          84,
          87,
          83.71428571428571,
          81.85714285714286,
          83.14285714285714,
          86,
          81.57142857142857,
          79.28571428571429,
          79.57142857142857,
          66.85714285714286,
          68.71428571428571,
          68.14285714285714,
          60.142857142857146,
          69.71428571428571,
          69.14285714285714,
          64.42857142857143,
          38.42857142857143,
          53,
          52.57142857142857,
          48.142857142857146,
          43.142857142857146,
          32.714285714285715,
          42.285714285714285
         ],
         "xaxis": "x",
         "y": [
          -65.41891059459886,
          -39.32715216586803,
          -77.4877294161488,
          -98.79783953062724,
          -51.5913830659847,
          -26.01704205138958,
          5.937078734241368,
          -4.5922339009994175,
          0.901393070940685,
          -4.845420415025728,
          -13.041683328607178,
          5.728920599562116,
          7.568343349281349,
          16.6142225636504,
          -26.823331642866833,
          -17.351793443085626,
          2.004195885754598,
          -8.73157321412873,
          -19.123248206276912,
          0.46298802941601025,
          9.451943643332925,
          11.186861908201536,
          -10.75536365633161,
          -37.43420915577008,
          -11.284676291572396,
          18.91073578698706,
          -5.762670955996157,
          10.255680729751475,
          -65.93973134881526,
          16.38227398676827,
          12.278620336932363,
          -13.226901856105542,
          19.31345516521833,
          -8.445253541853162,
          -5.353495113122335,
          5.704279322344519,
          21.830872579361312,
          23.440048422227846,
          28.83172341437603,
          52.29136639305216,
          36.07301470730454,
          19.016091106859676,
          24.923481843106856,
          8.705130157359235,
          8.153728749952279,
          25.718727048493747,
          7.78669503502897,
          31.372931270714616,
          10.43070570618147,
          50.270128455900704,
          45.53521019103209,
          22.642600927286537
         ],
         "yaxis": "y"
        },
        {
         "alignmentgroup": "True",
         "bingroup": "x",
         "hovertemplate": "year=2022<br>TMAX=%{x}<br>count=%{y}<extra></extra>",
         "legendgroup": "2022",
         "marker": {
          "color": "#72B7B2"
         },
         "name": "2022",
         "offsetgroup": "2022",
         "opacity": 0.5,
         "showlegend": false,
         "type": "histogram",
         "x": [
          34.142857142857146,
          37,
          32,
          28.571428571428573,
          35,
          40.42857142857143,
          39,
          47.42857142857143,
          56.57142857142857,
          52,
          64.57142857142857,
          57.42857142857143,
          52.42857142857143,
          53.857142857142854,
          65.14285714285714,
          61.142857142857146,
          66,
          68,
          80.71428571428571,
          80.28571428571429,
          73.71428571428571,
          84.14285714285714,
          79.71428571428571,
          89.71428571428571,
          88.14285714285714,
          88,
          85.71428571428571,
          86.28571428571429,
          86.42857142857143,
          84,
          87,
          83.71428571428571,
          81.85714285714286,
          83.14285714285714,
          86,
          81.57142857142857,
          79.28571428571429,
          79.57142857142857,
          66.85714285714286,
          68.71428571428571,
          68.14285714285714,
          60.142857142857146,
          69.71428571428571,
          69.14285714285714,
          64.42857142857143,
          38.42857142857143,
          53,
          52.57142857142857,
          48.142857142857146,
          43.142857142857146,
          32.714285714285715,
          42.285714285714285
         ],
         "xaxis": "x3",
         "yaxis": "y3"
        },
        {
         "alignmentgroup": "True",
         "boxpoints": "all",
         "fillcolor": "rgba(255,255,255,0)",
         "hoveron": "points",
         "hovertemplate": "year=2022<br>y=%{y}<extra></extra>",
         "jitter": 0,
         "legendgroup": "2022",
         "line": {
          "color": "rgba(255,255,255,0)"
         },
         "marker": {
          "color": "#72B7B2",
          "symbol": "line-ew-open"
         },
         "name": "2022",
         "offsetgroup": "2022",
         "showlegend": false,
         "type": "box",
         "xaxis": "x2",
         "y": [
          -65.41891059459886,
          -39.32715216586803,
          -77.4877294161488,
          -98.79783953062724,
          -51.5913830659847,
          -26.01704205138958,
          5.937078734241368,
          -4.5922339009994175,
          0.901393070940685,
          -4.845420415025728,
          -13.041683328607178,
          5.728920599562116,
          7.568343349281349,
          16.6142225636504,
          -26.823331642866833,
          -17.351793443085626,
          2.004195885754598,
          -8.73157321412873,
          -19.123248206276912,
          0.46298802941601025,
          9.451943643332925,
          11.186861908201536,
          -10.75536365633161,
          -37.43420915577008,
          -11.284676291572396,
          18.91073578698706,
          -5.762670955996157,
          10.255680729751475,
          -65.93973134881526,
          16.38227398676827,
          12.278620336932363,
          -13.226901856105542,
          19.31345516521833,
          -8.445253541853162,
          -5.353495113122335,
          5.704279322344519,
          21.830872579361312,
          23.440048422227846,
          28.83172341437603,
          52.29136639305216,
          36.07301470730454,
          19.016091106859676,
          24.923481843106856,
          8.705130157359235,
          8.153728749952279,
          25.718727048493747,
          7.78669503502897,
          31.372931270714616,
          10.43070570618147,
          50.270128455900704,
          45.53521019103209,
          22.642600927286537
         ],
         "yaxis": "y2"
        }
       ],
       "layout": {
        "barmode": "overlay",
        "legend": {
         "title": {
          "text": "year"
         },
         "tracegroupgap": 0
        },
        "template": {
         "data": {
          "bar": [
           {
            "error_x": {
             "color": "#2a3f5f"
            },
            "error_y": {
             "color": "#2a3f5f"
            },
            "marker": {
             "line": {
              "color": "#E5ECF6",
              "width": 0.5
             },
             "pattern": {
              "fillmode": "overlay",
              "size": 10,
              "solidity": 0.2
             }
            },
            "type": "bar"
           }
          ],
          "barpolar": [
           {
            "marker": {
             "line": {
              "color": "#E5ECF6",
              "width": 0.5
             },
             "pattern": {
              "fillmode": "overlay",
              "size": 10,
              "solidity": 0.2
             }
            },
            "type": "barpolar"
           }
          ],
          "carpet": [
           {
            "aaxis": {
             "endlinecolor": "#2a3f5f",
             "gridcolor": "white",
             "linecolor": "white",
             "minorgridcolor": "white",
             "startlinecolor": "#2a3f5f"
            },
            "baxis": {
             "endlinecolor": "#2a3f5f",
             "gridcolor": "white",
             "linecolor": "white",
             "minorgridcolor": "white",
             "startlinecolor": "#2a3f5f"
            },
            "type": "carpet"
           }
          ],
          "choropleth": [
           {
            "colorbar": {
             "outlinewidth": 0,
             "ticks": ""
            },
            "type": "choropleth"
           }
          ],
          "contour": [
           {
            "colorbar": {
             "outlinewidth": 0,
             "ticks": ""
            },
            "colorscale": [
             [
              0,
              "#0d0887"
             ],
             [
              0.1111111111111111,
              "#46039f"
             ],
             [
              0.2222222222222222,
              "#7201a8"
             ],
             [
              0.3333333333333333,
              "#9c179e"
             ],
             [
              0.4444444444444444,
              "#bd3786"
             ],
             [
              0.5555555555555556,
              "#d8576b"
             ],
             [
              0.6666666666666666,
              "#ed7953"
             ],
             [
              0.7777777777777778,
              "#fb9f3a"
             ],
             [
              0.8888888888888888,
              "#fdca26"
             ],
             [
              1,
              "#f0f921"
             ]
            ],
            "type": "contour"
           }
          ],
          "contourcarpet": [
           {
            "colorbar": {
             "outlinewidth": 0,
             "ticks": ""
            },
            "type": "contourcarpet"
           }
          ],
          "heatmap": [
           {
            "colorbar": {
             "outlinewidth": 0,
             "ticks": ""
            },
            "colorscale": [
             [
              0,
              "#0d0887"
             ],
             [
              0.1111111111111111,
              "#46039f"
             ],
             [
              0.2222222222222222,
              "#7201a8"
             ],
             [
              0.3333333333333333,
              "#9c179e"
             ],
             [
              0.4444444444444444,
              "#bd3786"
             ],
             [
              0.5555555555555556,
              "#d8576b"
             ],
             [
              0.6666666666666666,
              "#ed7953"
             ],
             [
              0.7777777777777778,
              "#fb9f3a"
             ],
             [
              0.8888888888888888,
              "#fdca26"
             ],
             [
              1,
              "#f0f921"
             ]
            ],
            "type": "heatmap"
           }
          ],
          "heatmapgl": [
           {
            "colorbar": {
             "outlinewidth": 0,
             "ticks": ""
            },
            "colorscale": [
             [
              0,
              "#0d0887"
             ],
             [
              0.1111111111111111,
              "#46039f"
             ],
             [
              0.2222222222222222,
              "#7201a8"
             ],
             [
              0.3333333333333333,
              "#9c179e"
             ],
             [
              0.4444444444444444,
              "#bd3786"
             ],
             [
              0.5555555555555556,
              "#d8576b"
             ],
             [
              0.6666666666666666,
              "#ed7953"
             ],
             [
              0.7777777777777778,
              "#fb9f3a"
             ],
             [
              0.8888888888888888,
              "#fdca26"
             ],
             [
              1,
              "#f0f921"
             ]
            ],
            "type": "heatmapgl"
           }
          ],
          "histogram": [
           {
            "marker": {
             "pattern": {
              "fillmode": "overlay",
              "size": 10,
              "solidity": 0.2
             }
            },
            "type": "histogram"
           }
          ],
          "histogram2d": [
           {
            "colorbar": {
             "outlinewidth": 0,
             "ticks": ""
            },
            "colorscale": [
             [
              0,
              "#0d0887"
             ],
             [
              0.1111111111111111,
              "#46039f"
             ],
             [
              0.2222222222222222,
              "#7201a8"
             ],
             [
              0.3333333333333333,
              "#9c179e"
             ],
             [
              0.4444444444444444,
              "#bd3786"
             ],
             [
              0.5555555555555556,
              "#d8576b"
             ],
             [
              0.6666666666666666,
              "#ed7953"
             ],
             [
              0.7777777777777778,
              "#fb9f3a"
             ],
             [
              0.8888888888888888,
              "#fdca26"
             ],
             [
              1,
              "#f0f921"
             ]
            ],
            "type": "histogram2d"
           }
          ],
          "histogram2dcontour": [
           {
            "colorbar": {
             "outlinewidth": 0,
             "ticks": ""
            },
            "colorscale": [
             [
              0,
              "#0d0887"
             ],
             [
              0.1111111111111111,
              "#46039f"
             ],
             [
              0.2222222222222222,
              "#7201a8"
             ],
             [
              0.3333333333333333,
              "#9c179e"
             ],
             [
              0.4444444444444444,
              "#bd3786"
             ],
             [
              0.5555555555555556,
              "#d8576b"
             ],
             [
              0.6666666666666666,
              "#ed7953"
             ],
             [
              0.7777777777777778,
              "#fb9f3a"
             ],
             [
              0.8888888888888888,
              "#fdca26"
             ],
             [
              1,
              "#f0f921"
             ]
            ],
            "type": "histogram2dcontour"
           }
          ],
          "mesh3d": [
           {
            "colorbar": {
             "outlinewidth": 0,
             "ticks": ""
            },
            "type": "mesh3d"
           }
          ],
          "parcoords": [
           {
            "line": {
             "colorbar": {
              "outlinewidth": 0,
              "ticks": ""
             }
            },
            "type": "parcoords"
           }
          ],
          "pie": [
           {
            "automargin": true,
            "type": "pie"
           }
          ],
          "scatter": [
           {
            "fillpattern": {
             "fillmode": "overlay",
             "size": 10,
             "solidity": 0.2
            },
            "type": "scatter"
           }
          ],
          "scatter3d": [
           {
            "line": {
             "colorbar": {
              "outlinewidth": 0,
              "ticks": ""
             }
            },
            "marker": {
             "colorbar": {
              "outlinewidth": 0,
              "ticks": ""
             }
            },
            "type": "scatter3d"
           }
          ],
          "scattercarpet": [
           {
            "marker": {
             "colorbar": {
              "outlinewidth": 0,
              "ticks": ""
             }
            },
            "type": "scattercarpet"
           }
          ],
          "scattergeo": [
           {
            "marker": {
             "colorbar": {
              "outlinewidth": 0,
              "ticks": ""
             }
            },
            "type": "scattergeo"
           }
          ],
          "scattergl": [
           {
            "marker": {
             "colorbar": {
              "outlinewidth": 0,
              "ticks": ""
             }
            },
            "type": "scattergl"
           }
          ],
          "scattermapbox": [
           {
            "marker": {
             "colorbar": {
              "outlinewidth": 0,
              "ticks": ""
             }
            },
            "type": "scattermapbox"
           }
          ],
          "scatterpolar": [
           {
            "marker": {
             "colorbar": {
              "outlinewidth": 0,
              "ticks": ""
             }
            },
            "type": "scatterpolar"
           }
          ],
          "scatterpolargl": [
           {
            "marker": {
             "colorbar": {
              "outlinewidth": 0,
              "ticks": ""
             }
            },
            "type": "scatterpolargl"
           }
          ],
          "scatterternary": [
           {
            "marker": {
             "colorbar": {
              "outlinewidth": 0,
              "ticks": ""
             }
            },
            "type": "scatterternary"
           }
          ],
          "surface": [
           {
            "colorbar": {
             "outlinewidth": 0,
             "ticks": ""
            },
            "colorscale": [
             [
              0,
              "#0d0887"
             ],
             [
              0.1111111111111111,
              "#46039f"
             ],
             [
              0.2222222222222222,
              "#7201a8"
             ],
             [
              0.3333333333333333,
              "#9c179e"
             ],
             [
              0.4444444444444444,
              "#bd3786"
             ],
             [
              0.5555555555555556,
              "#d8576b"
             ],
             [
              0.6666666666666666,
              "#ed7953"
             ],
             [
              0.7777777777777778,
              "#fb9f3a"
             ],
             [
              0.8888888888888888,
              "#fdca26"
             ],
             [
              1,
              "#f0f921"
             ]
            ],
            "type": "surface"
           }
          ],
          "table": [
           {
            "cells": {
             "fill": {
              "color": "#EBF0F8"
             },
             "line": {
              "color": "white"
             }
            },
            "header": {
             "fill": {
              "color": "#C8D4E3"
             },
             "line": {
              "color": "white"
             }
            },
            "type": "table"
           }
          ]
         },
         "layout": {
          "annotationdefaults": {
           "arrowcolor": "#2a3f5f",
           "arrowhead": 0,
           "arrowwidth": 1
          },
          "autotypenumbers": "strict",
          "coloraxis": {
           "colorbar": {
            "outlinewidth": 0,
            "ticks": ""
           }
          },
          "colorscale": {
           "diverging": [
            [
             0,
             "#8e0152"
            ],
            [
             0.1,
             "#c51b7d"
            ],
            [
             0.2,
             "#de77ae"
            ],
            [
             0.3,
             "#f1b6da"
            ],
            [
             0.4,
             "#fde0ef"
            ],
            [
             0.5,
             "#f7f7f7"
            ],
            [
             0.6,
             "#e6f5d0"
            ],
            [
             0.7,
             "#b8e186"
            ],
            [
             0.8,
             "#7fbc41"
            ],
            [
             0.9,
             "#4d9221"
            ],
            [
             1,
             "#276419"
            ]
           ],
           "sequential": [
            [
             0,
             "#0d0887"
            ],
            [
             0.1111111111111111,
             "#46039f"
            ],
            [
             0.2222222222222222,
             "#7201a8"
            ],
            [
             0.3333333333333333,
             "#9c179e"
            ],
            [
             0.4444444444444444,
             "#bd3786"
            ],
            [
             0.5555555555555556,
             "#d8576b"
            ],
            [
             0.6666666666666666,
             "#ed7953"
            ],
            [
             0.7777777777777778,
             "#fb9f3a"
            ],
            [
             0.8888888888888888,
             "#fdca26"
            ],
            [
             1,
             "#f0f921"
            ]
           ],
           "sequentialminus": [
            [
             0,
             "#0d0887"
            ],
            [
             0.1111111111111111,
             "#46039f"
            ],
            [
             0.2222222222222222,
             "#7201a8"
            ],
            [
             0.3333333333333333,
             "#9c179e"
            ],
            [
             0.4444444444444444,
             "#bd3786"
            ],
            [
             0.5555555555555556,
             "#d8576b"
            ],
            [
             0.6666666666666666,
             "#ed7953"
            ],
            [
             0.7777777777777778,
             "#fb9f3a"
            ],
            [
             0.8888888888888888,
             "#fdca26"
            ],
            [
             1,
             "#f0f921"
            ]
           ]
          },
          "colorway": [
           "#636efa",
           "#EF553B",
           "#00cc96",
           "#ab63fa",
           "#FFA15A",
           "#19d3f3",
           "#FF6692",
           "#B6E880",
           "#FF97FF",
           "#FECB52"
          ],
          "font": {
           "color": "#2a3f5f"
          },
          "geo": {
           "bgcolor": "white",
           "lakecolor": "white",
           "landcolor": "#E5ECF6",
           "showlakes": true,
           "showland": true,
           "subunitcolor": "white"
          },
          "hoverlabel": {
           "align": "left"
          },
          "hovermode": "closest",
          "mapbox": {
           "style": "light"
          },
          "paper_bgcolor": "white",
          "plot_bgcolor": "#E5ECF6",
          "polar": {
           "angularaxis": {
            "gridcolor": "white",
            "linecolor": "white",
            "ticks": ""
           },
           "bgcolor": "#E5ECF6",
           "radialaxis": {
            "gridcolor": "white",
            "linecolor": "white",
            "ticks": ""
           }
          },
          "scene": {
           "xaxis": {
            "backgroundcolor": "#E5ECF6",
            "gridcolor": "white",
            "gridwidth": 2,
            "linecolor": "white",
            "showbackground": true,
            "ticks": "",
            "zerolinecolor": "white"
           },
           "yaxis": {
            "backgroundcolor": "#E5ECF6",
            "gridcolor": "white",
            "gridwidth": 2,
            "linecolor": "white",
            "showbackground": true,
            "ticks": "",
            "zerolinecolor": "white"
           },
           "zaxis": {
            "backgroundcolor": "#E5ECF6",
            "gridcolor": "white",
            "gridwidth": 2,
            "linecolor": "white",
            "showbackground": true,
            "ticks": "",
            "zerolinecolor": "white"
           }
          },
          "shapedefaults": {
           "line": {
            "color": "#2a3f5f"
           }
          },
          "ternary": {
           "aaxis": {
            "gridcolor": "white",
            "linecolor": "white",
            "ticks": ""
           },
           "baxis": {
            "gridcolor": "white",
            "linecolor": "white",
            "ticks": ""
           },
           "bgcolor": "#E5ECF6",
           "caxis": {
            "gridcolor": "white",
            "linecolor": "white",
            "ticks": ""
           }
          },
          "title": {
           "x": 0.05
          },
          "xaxis": {
           "automargin": true,
           "gridcolor": "white",
           "linecolor": "white",
           "ticks": "",
           "title": {
            "standoff": 15
           },
           "zerolinecolor": "white",
           "zerolinewidth": 2
          },
          "yaxis": {
           "automargin": true,
           "gridcolor": "white",
           "linecolor": "white",
           "ticks": "",
           "title": {
            "standoff": 15
           },
           "zerolinecolor": "white",
           "zerolinewidth": 2
          }
         }
        },
        "title": {
         "text": "Residuals of Ordinary Least Square Regression Colored by Year"
        },
        "width": 720,
        "xaxis": {
         "anchor": "y",
         "domain": [
          0,
          0.7363
         ],
         "title": {
          "text": "TMAX"
         }
        },
        "xaxis2": {
         "anchor": "y2",
         "domain": [
          0.7413,
          1
         ],
         "matches": "x2",
         "showgrid": false,
         "showline": false,
         "showticklabels": false,
         "ticks": ""
        },
        "xaxis3": {
         "anchor": "y3",
         "domain": [
          0,
          0.7363
         ],
         "matches": "x",
         "showgrid": true,
         "showticklabels": false
        },
        "xaxis4": {
         "anchor": "y4",
         "domain": [
          0.7413,
          1
         ],
         "matches": "x2",
         "showgrid": false,
         "showline": false,
         "showticklabels": false,
         "ticks": ""
        },
        "yaxis": {
         "anchor": "x",
         "domain": [
          0,
          0.7326
         ],
         "title": {
          "text": "y"
         }
        },
        "yaxis2": {
         "anchor": "x2",
         "domain": [
          0,
          0.7326
         ],
         "matches": "y",
         "showgrid": true,
         "showticklabels": false
        },
        "yaxis3": {
         "anchor": "x3",
         "domain": [
          0.7426,
          1
         ],
         "matches": "y3",
         "showgrid": true,
         "showline": false,
         "showticklabels": false,
         "ticks": ""
        },
        "yaxis4": {
         "anchor": "x4",
         "domain": [
          0.7426,
          1
         ],
         "matches": "y3",
         "showgrid": true,
         "showline": false,
         "showticklabels": false,
         "ticks": ""
        }
       }
      }
     },
     "metadata": {},
     "output_type": "display_data"
    }
   ],
   "source": [
    "glm_fig_resid = px.scatter(\n",
    "  weekly_summary,\n",
    "  x=weekly_summary['TMAX'],\n",
    "  y=glm_res.resid,\n",
    "  color='year',\n",
    "  width=720,\n",
    "  title='Residuals of Ordinary Least Square Regression Colored by Year',\n",
    "  marginal_x='histogram',\n",
    "  marginal_y='rug',\n",
    "  color_discrete_sequence=px.colors.qualitative.T10\n",
    ")\n",
    "glm_fig_resid.show()"
   ]
  }
 ],
 "metadata": {
  "interpreter": {
   "hash": "2be5faf79681da6f2a61fdfdd5405d65d042280f7fba6178067603e3a2925119"
  },
  "kernelspec": {
   "display_name": "Python 3.10.5 64-bit",
   "language": "python",
   "name": "python3"
  },
  "language_info": {
   "codemirror_mode": {
    "name": "ipython",
    "version": 3
   },
   "file_extension": ".py",
   "mimetype": "text/x-python",
   "name": "python",
   "nbconvert_exporter": "python",
   "pygments_lexer": "ipython3",
   "version": "3.10.5"
  },
  "orig_nbformat": 4
 },
 "nbformat": 4,
 "nbformat_minor": 2
}
